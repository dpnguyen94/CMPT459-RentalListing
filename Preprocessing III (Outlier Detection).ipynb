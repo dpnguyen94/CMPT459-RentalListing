{
 "cells": [
  {
   "cell_type": "code",
   "execution_count": 1,
   "metadata": {},
   "outputs": [],
   "source": [
    "from scipy import stats\n",
    "import numpy as np\n",
    "import pandas as pd\n",
    "import matplotlib.pyplot as plt\n",
    "import re\n",
    "from pandas.plotting import table\n",
    "import seaborn as sns\n",
    "import datetime as dt\n",
    "\n",
    "%matplotlib inline\n",
    "sns.set(color_codes=True)"
   ]
  },
  {
   "cell_type": "code",
   "execution_count": 2,
   "metadata": {},
   "outputs": [],
   "source": [
    "trainDataWithoutNaNDir = \"dataset/two-sigma-connect-rental-listing-inquiries/trainCleaned.json.zip\""
   ]
  },
  {
   "cell_type": "code",
   "execution_count": 3,
   "metadata": {
    "scrolled": false
   },
   "outputs": [],
   "source": [
    "trainData = pd.read_json(trainDataWithoutNaNDir, convert_dates=['created'])\n",
    "trainData = trainData.reset_index(drop=True)\n",
    "outlier_counts = pd.DataFrame(columns=['outlier_counts'])"
   ]
  },
  {
   "cell_type": "code",
   "execution_count": 4,
   "metadata": {},
   "outputs": [
    {
     "data": {
      "text/plain": [
       "bathrooms          46153\n",
       "bedrooms           46153\n",
       "building_id        46153\n",
       "created            46153\n",
       "description        46153\n",
       "display_address    46153\n",
       "features           46153\n",
       "interest_level     46153\n",
       "latitude           46153\n",
       "listing_id         46153\n",
       "longitude          46153\n",
       "manager_id         46153\n",
       "photos             42880\n",
       "price              46153\n",
       "street_address     46153\n",
       "dtype: int64"
      ]
     },
     "execution_count": 4,
     "metadata": {},
     "output_type": "execute_result"
    }
   ],
   "source": [
    "trainData.count()"
   ]
  },
  {
   "cell_type": "markdown",
   "metadata": {},
   "source": [
    "# Checking outlier for price, lat and long"
   ]
  },
  {
   "cell_type": "markdown",
   "metadata": {},
   "source": [
    "## Latitude and Longitude info"
   ]
  },
  {
   "cell_type": "code",
   "execution_count": 5,
   "metadata": {},
   "outputs": [],
   "source": [
    "#https://en.wikipedia.org/wiki/New_York_(state)\n",
    "#https://www.latlong.net/degrees-minutes-seconds-to-decimal-degrees\n",
    "# In Degree:\n",
    "# Lat = [40° 30′ N to 45° 1′ N]\n",
    "# Long = [71° 51′ W to 79° 46′ W]\n",
    "minLat = 40.40\n",
    "minLong = -79.76666667\n",
    "maxLat = 45.01666667\n",
    "maxLong = -71.85"
   ]
  },
  {
   "cell_type": "markdown",
   "metadata": {},
   "source": [
    "### Latitude"
   ]
  },
  {
   "cell_type": "code",
   "execution_count": 6,
   "metadata": {},
   "outputs": [],
   "source": [
    "outlierLat = trainData[['latitude']]"
   ]
  },
  {
   "cell_type": "code",
   "execution_count": 7,
   "metadata": {},
   "outputs": [
    {
     "data": {
      "image/png": "[encoded data removed]",
      "text/plain": [
       "<Figure size 576x432 with 1 Axes>"
      ]
     },
     "metadata": {
      "needs_background": "light"
     },
     "output_type": "display_data"
    }
   ],
   "source": [
    "plt.figure(figsize=(8,6))\n",
    "plt.title(\"Latitude Distribution\")\n",
    "plt.xlabel(\"Latitude\")\n",
    "plt.ylabel(\"Latitude count\")\n",
    "# plt.hist(outlierLat.latitude, range=(outlierLat.latitude.min(),outlierLat.latitude.max()), bins=50)\n",
    "sns.distplot(outlierLat.latitude.values, bins=50)\n",
    "# plt.show()\n",
    "plt.savefig(\"figures_saved/dist_latitude_full\")"
   ]
  },
  {
   "cell_type": "code",
   "execution_count": 8,
   "metadata": {},
   "outputs": [
    {
     "data": {
      "image/png": "[encoded data removed]",
      "text/plain": [
       "<Figure size 576x432 with 1 Axes>"
      ]
     },
     "metadata": {
      "needs_background": "light"
     },
     "output_type": "display_data"
    }
   ],
   "source": [
    "plt.figure(figsize=(8,6))\n",
    "plt.title(\"Latitude Boxplot Distribution\")\n",
    "plt.xlabel(\"Latitude\")\n",
    "ax = sns.boxplot(outlierLat.latitude.values)\n",
    "# plt.show()\n",
    "plt.savefig(\"figures_saved/boxplot_latitude\")"
   ]
  },
  {
   "cell_type": "code",
   "execution_count": 9,
   "metadata": {},
   "outputs": [
    {
     "data": {
      "text/html": [
       "<div>\n",
       "<style scoped>\n",
       "    .dataframe tbody tr th:only-of-type {\n",
       "        vertical-align: middle;\n",
       "    }\n",
       "\n",
       "    .dataframe tbody tr th {\n",
       "        vertical-align: top;\n",
       "    }\n",
       "\n",
       "    .dataframe thead th {\n",
       "        text-align: right;\n",
       "    }\n",
       "</style>\n",
       "<table border=\"1\" class=\"dataframe\">\n",
       "  <thead>\n",
       "    <tr style=\"text-align: right;\">\n",
       "      <th></th>\n",
       "      <th>latitude</th>\n",
       "    </tr>\n",
       "  </thead>\n",
       "  <tbody>\n",
       "    <tr>\n",
       "      <td>18507</td>\n",
       "      <td>34.0126</td>\n",
       "    </tr>\n",
       "    <tr>\n",
       "      <td>39993</td>\n",
       "      <td>39.8395</td>\n",
       "    </tr>\n",
       "    <tr>\n",
       "      <td>42918</td>\n",
       "      <td>40.0450</td>\n",
       "    </tr>\n",
       "    <tr>\n",
       "      <td>45473</td>\n",
       "      <td>39.7996</td>\n",
       "    </tr>\n",
       "  </tbody>\n",
       "</table>\n",
       "</div>"
      ],
      "text/plain": [
       "       latitude\n",
       "18507   34.0126\n",
       "39993   39.8395\n",
       "42918   40.0450\n",
       "45473   39.7996"
      ]
     },
     "execution_count": 9,
     "metadata": {},
     "output_type": "execute_result"
    }
   ],
   "source": [
    "#Check within longitude bound\n",
    "row, column = np.where(outlierLat.applymap(lambda x: (x < minLat) | (x > maxLat)))\n",
    "outlierLat.iloc[row]"
   ]
  },
  {
   "cell_type": "code",
   "execution_count": 10,
   "metadata": {},
   "outputs": [
    {
     "data": {
      "text/html": [
       "<div>\n",
       "<style scoped>\n",
       "    .dataframe tbody tr th:only-of-type {\n",
       "        vertical-align: middle;\n",
       "    }\n",
       "\n",
       "    .dataframe tbody tr th {\n",
       "        vertical-align: top;\n",
       "    }\n",
       "\n",
       "    .dataframe thead th {\n",
       "        text-align: right;\n",
       "    }\n",
       "</style>\n",
       "<table border=\"1\" class=\"dataframe\">\n",
       "  <thead>\n",
       "    <tr style=\"text-align: right;\">\n",
       "      <th></th>\n",
       "      <th>outlier_counts</th>\n",
       "    </tr>\n",
       "  </thead>\n",
       "  <tbody>\n",
       "    <tr>\n",
       "      <td>latitude</td>\n",
       "      <td>4</td>\n",
       "    </tr>\n",
       "  </tbody>\n",
       "</table>\n",
       "</div>"
      ],
      "text/plain": [
       "         outlier_counts\n",
       "latitude              4"
      ]
     },
     "metadata": {},
     "output_type": "display_data"
    }
   ],
   "source": [
    "# display(outlierLat.iloc[row].count())\n",
    "# outlier_counts = outlier_counts.append(outlierLat.iloc[row].count(), ignore_index=True)\n",
    "# outlier_counts = pd.concat([outlier_counts, outlierLat.iloc[row].count()])\n",
    "outlier_counts.loc['latitude'] = outlierLat.iloc[row].count().values\n",
    "display(outlier_counts)"
   ]
  },
  {
   "cell_type": "code",
   "execution_count": 11,
   "metadata": {},
   "outputs": [],
   "source": [
    "# trainData = trainData.drop(row, errors='ignore')\n",
    "trainData = trainData.drop(trainData.index[row], errors='ignore')"
   ]
  },
  {
   "cell_type": "code",
   "execution_count": 12,
   "metadata": {},
   "outputs": [
    {
     "data": {
      "image/png": "[encoded data removed]",
      "text/plain": [
       "<Figure size 576x432 with 1 Axes>"
      ]
     },
     "metadata": {
      "needs_background": "light"
     },
     "output_type": "display_data"
    }
   ],
   "source": [
    "plt.figure(figsize=(8,6))\n",
    "plt.title(\"Latitude Distribution After Removal of Latitudes-Outside-of-Range\")\n",
    "plt.xlabel(\"Latitude\")\n",
    "plt.ylabel(\"Latitude count\")\n",
    "# plt.hist(trainData.latitude, range=(trainData.latitude.min(),trainData.latitude.max()), bins=50)\n",
    "sns.distplot(trainData.latitude.values, bins=50)\n",
    "# plt.show()\n",
    "plt.savefig(\"figures_saved/dist_latitude_full_inrange\")"
   ]
  },
  {
   "cell_type": "code",
   "execution_count": 13,
   "metadata": {},
   "outputs": [
    {
     "data": {
      "image/png": "[encoded data removed]",
      "text/plain": [
       "<Figure size 576x432 with 1 Axes>"
      ]
     },
     "metadata": {
      "needs_background": "light"
     },
     "output_type": "display_data"
    }
   ],
   "source": [
    "plt.figure(figsize=(8,6))\n",
    "plt.title(\"Latitude Boxplot Distribution After Removal of Latitudes-Outside-of-Range\")\n",
    "plt.xlabel(\"Latitude\")\n",
    "ax = sns.boxplot(trainData.latitude.values)\n",
    "plt.show()"
   ]
  },
  {
   "cell_type": "code",
   "execution_count": 14,
   "metadata": {},
   "outputs": [
    {
     "data": {
      "text/plain": [
       "bathrooms          23\n",
       "bedrooms           23\n",
       "building_id        23\n",
       "created            23\n",
       "description        23\n",
       "display_address    23\n",
       "features           23\n",
       "interest_level     23\n",
       "latitude           23\n",
       "listing_id         23\n",
       "longitude          23\n",
       "manager_id         23\n",
       "photos             22\n",
       "price              23\n",
       "street_address     23\n",
       "dtype: int64"
      ]
     },
     "execution_count": 14,
     "metadata": {},
     "output_type": "execute_result"
    }
   ],
   "source": [
    "trainData[trainData.latitude >= 41].count()"
   ]
  },
  {
   "cell_type": "code",
   "execution_count": 15,
   "metadata": {},
   "outputs": [
    {
     "data": {
      "image/png": "[encoded data removed]",
      "text/plain": [
       "<Figure size 576x432 with 1 Axes>"
      ]
     },
     "metadata": {
      "needs_background": "light"
     },
     "output_type": "display_data"
    }
   ],
   "source": [
    "plt.figure(figsize=(8,6))\n",
    "plt.title(\"Latitude Boxplot Distribution: Range < 41, Latitudes-Outside-of-Expected-Range Removed\")\n",
    "plt.xlabel(\"Latitude\")\n",
    "ax = sns.boxplot(trainData[trainData.latitude < 41].latitude.values)\n",
    "# plt.show()\n",
    "plt.savefig(\"figures_saved/boxplot_latitude_inrange_under41\")"
   ]
  },
  {
   "cell_type": "code",
   "execution_count": 16,
   "metadata": {},
   "outputs": [
    {
     "data": {
      "image/png": "[encoded data removed]",
      "text/plain": [
       "<Figure size 576x432 with 1 Axes>"
      ]
     },
     "metadata": {
      "needs_background": "light"
     },
     "output_type": "display_data"
    }
   ],
   "source": [
    "plt.figure(figsize=(8,6))\n",
    "plt.title(\"Latitude Distribution: Range < 41, Latitudes-Outside-of-Expected-Range Removed\")\n",
    "plt.xlabel(\"Latitude\")\n",
    "plt.ylabel(\"Latitude count\")\n",
    "sns.distplot(trainData[trainData.latitude < 41].latitude.values, bins=50)\n",
    "# plt.show()\n",
    "plt.savefig(\"figures_saved/dist_latitude_inrange_under41\")"
   ]
  },
  {
   "cell_type": "markdown",
   "metadata": {},
   "source": [
    "### Longitude"
   ]
  },
  {
   "cell_type": "code",
   "execution_count": 17,
   "metadata": {},
   "outputs": [],
   "source": [
    "outlierLong = trainData[['longitude']]"
   ]
  },
  {
   "cell_type": "code",
   "execution_count": 18,
   "metadata": {
    "scrolled": false
   },
   "outputs": [
    {
     "data": {
      "image/png": "[encoded data removed]",
      "text/plain": [
       "<Figure size 576x432 with 1 Axes>"
      ]
     },
     "metadata": {
      "needs_background": "light"
     },
     "output_type": "display_data"
    }
   ],
   "source": [
    "plt.figure(figsize=(8,6))\n",
    "plt.title(\"Longitude Distribution\")\n",
    "plt.xlabel(\"Longitude\")\n",
    "plt.ylabel(\"Longitude count\")\n",
    "# plt.hist(outlierLong.longitude, range=(outlierLong.longitude.min(),outlierLong.longitude.max()), bins=50)\n",
    "sns.distplot(outlierLong.longitude.values, bins=50)\n",
    "# plt.show()\n",
    "plt.savefig(\"figures_saved/dist_longitude_full\")"
   ]
  },
  {
   "cell_type": "code",
   "execution_count": 19,
   "metadata": {},
   "outputs": [
    {
     "data": {
      "image/png": "[encoded data removed]",
      "text/plain": [
       "<Figure size 576x432 with 1 Axes>"
      ]
     },
     "metadata": {
      "needs_background": "light"
     },
     "output_type": "display_data"
    }
   ],
   "source": [
    "plt.figure(figsize=(8,6))\n",
    "plt.title(\"Longitude Boxplot Distribution\")\n",
    "plt.xlabel(\"Longitude\")\n",
    "ax = sns.boxplot(outlierLong.longitude.values)\n",
    "# plt.show()\n",
    "plt.savefig(\"figures_saved/boxplot_longitude\")"
   ]
  },
  {
   "cell_type": "code",
   "execution_count": 20,
   "metadata": {},
   "outputs": [
    {
     "data": {
      "text/html": [
       "<div>\n",
       "<style scoped>\n",
       "    .dataframe tbody tr th:only-of-type {\n",
       "        vertical-align: middle;\n",
       "    }\n",
       "\n",
       "    .dataframe tbody tr th {\n",
       "        vertical-align: top;\n",
       "    }\n",
       "\n",
       "    .dataframe thead th {\n",
       "        text-align: right;\n",
       "    }\n",
       "</style>\n",
       "<table border=\"1\" class=\"dataframe\">\n",
       "  <thead>\n",
       "    <tr style=\"text-align: right;\">\n",
       "      <th></th>\n",
       "      <th>longitude</th>\n",
       "    </tr>\n",
       "  </thead>\n",
       "  <tbody>\n",
       "    <tr>\n",
       "      <td>5581</td>\n",
       "      <td>-71.0794</td>\n",
       "    </tr>\n",
       "    <tr>\n",
       "      <td>13495</td>\n",
       "      <td>-71.0794</td>\n",
       "    </tr>\n",
       "    <tr>\n",
       "      <td>18271</td>\n",
       "      <td>-70.9846</td>\n",
       "    </tr>\n",
       "    <tr>\n",
       "      <td>18884</td>\n",
       "      <td>-70.9846</td>\n",
       "    </tr>\n",
       "    <tr>\n",
       "      <td>24247</td>\n",
       "      <td>-70.9846</td>\n",
       "    </tr>\n",
       "    <tr>\n",
       "      <td>25993</td>\n",
       "      <td>-71.2133</td>\n",
       "    </tr>\n",
       "    <tr>\n",
       "      <td>29493</td>\n",
       "      <td>-87.6134</td>\n",
       "    </tr>\n",
       "    <tr>\n",
       "      <td>29555</td>\n",
       "      <td>-71.2133</td>\n",
       "    </tr>\n",
       "    <tr>\n",
       "      <td>31368</td>\n",
       "      <td>-93.2705</td>\n",
       "    </tr>\n",
       "    <tr>\n",
       "      <td>31978</td>\n",
       "      <td>-71.0794</td>\n",
       "    </tr>\n",
       "    <tr>\n",
       "      <td>33850</td>\n",
       "      <td>-71.0794</td>\n",
       "    </tr>\n",
       "    <tr>\n",
       "      <td>43201</td>\n",
       "      <td>-70.9846</td>\n",
       "    </tr>\n",
       "  </tbody>\n",
       "</table>\n",
       "</div>"
      ],
      "text/plain": [
       "       longitude\n",
       "5581    -71.0794\n",
       "13495   -71.0794\n",
       "18271   -70.9846\n",
       "18884   -70.9846\n",
       "24247   -70.9846\n",
       "25993   -71.2133\n",
       "29493   -87.6134\n",
       "29555   -71.2133\n",
       "31368   -93.2705\n",
       "31978   -71.0794\n",
       "33850   -71.0794\n",
       "43201   -70.9846"
      ]
     },
     "execution_count": 20,
     "metadata": {},
     "output_type": "execute_result"
    }
   ],
   "source": [
    "#Check within longitude bound\n",
    "row, column = np.where(outlierLong.applymap(lambda x: (x < minLong) | (x > maxLong)))\n",
    "outlierLong.iloc[row]"
   ]
  },
  {
   "cell_type": "code",
   "execution_count": 21,
   "metadata": {},
   "outputs": [
    {
     "data": {
      "text/html": [
       "<div>\n",
       "<style scoped>\n",
       "    .dataframe tbody tr th:only-of-type {\n",
       "        vertical-align: middle;\n",
       "    }\n",
       "\n",
       "    .dataframe tbody tr th {\n",
       "        vertical-align: top;\n",
       "    }\n",
       "\n",
       "    .dataframe thead th {\n",
       "        text-align: right;\n",
       "    }\n",
       "</style>\n",
       "<table border=\"1\" class=\"dataframe\">\n",
       "  <thead>\n",
       "    <tr style=\"text-align: right;\">\n",
       "      <th></th>\n",
       "      <th>outlier_counts</th>\n",
       "    </tr>\n",
       "  </thead>\n",
       "  <tbody>\n",
       "    <tr>\n",
       "      <td>latitude</td>\n",
       "      <td>4</td>\n",
       "    </tr>\n",
       "    <tr>\n",
       "      <td>longitude</td>\n",
       "      <td>12</td>\n",
       "    </tr>\n",
       "  </tbody>\n",
       "</table>\n",
       "</div>"
      ],
      "text/plain": [
       "          outlier_counts\n",
       "latitude               4\n",
       "longitude             12"
      ]
     },
     "metadata": {},
     "output_type": "display_data"
    }
   ],
   "source": [
    "outlier_counts.loc['longitude'] = outlierLong.iloc[row].count().values\n",
    "display(outlier_counts)"
   ]
  },
  {
   "cell_type": "code",
   "execution_count": 22,
   "metadata": {},
   "outputs": [],
   "source": [
    "trainData = trainData.drop(trainData.index[row], errors='ignore')"
   ]
  },
  {
   "cell_type": "code",
   "execution_count": 23,
   "metadata": {},
   "outputs": [
    {
     "data": {
      "image/png": "[encoded data removed]",
      "text/plain": [
       "<Figure size 576x432 with 1 Axes>"
      ]
     },
     "metadata": {
      "needs_background": "light"
     },
     "output_type": "display_data"
    }
   ],
   "source": [
    "plt.figure(figsize=(8,6))\n",
    "plt.title(\"Longitude Distribution After Removal of Latitudes-Outside-of-Range\")\n",
    "plt.xlabel(\"Longitude\")\n",
    "plt.ylabel(\"Longitude count\")\n",
    "# plt.hist(trainData.longitude, range=(trainData.longitude.min(),trainData.longitude.max()), bins=50)\n",
    "sns.distplot(trainData.longitude.values, bins=50)\n",
    "# plt.show()\n",
    "plt.savefig(\"figures_saved/dist_longitude_full_inrange\")"
   ]
  },
  {
   "cell_type": "code",
   "execution_count": 24,
   "metadata": {
    "scrolled": false
   },
   "outputs": [
    {
     "data": {
      "image/png": "[encoded data removed]",
      "text/plain": [
       "<Figure size 576x432 with 1 Axes>"
      ]
     },
     "metadata": {
      "needs_background": "light"
     },
     "output_type": "display_data"
    }
   ],
   "source": [
    "plt.figure(figsize=(8,6))\n",
    "plt.title(\"Longitude Boxplot Distribution After Removal of Longitudes-Outside-of-Range\")\n",
    "plt.xlabel(\"Longitude\")\n",
    "ax = sns.boxplot(trainData.longitude.values)\n",
    "plt.show()"
   ]
  },
  {
   "cell_type": "code",
   "execution_count": 25,
   "metadata": {},
   "outputs": [
    {
     "data": {
      "text/plain": [
       "bathrooms          13\n",
       "bedrooms           13\n",
       "building_id        13\n",
       "created            13\n",
       "description        13\n",
       "display_address    13\n",
       "features           13\n",
       "interest_level     13\n",
       "latitude           13\n",
       "listing_id         13\n",
       "longitude          13\n",
       "manager_id         13\n",
       "photos             12\n",
       "price              13\n",
       "street_address     13\n",
       "dtype: int64"
      ]
     },
     "execution_count": 25,
     "metadata": {},
     "output_type": "execute_result"
    }
   ],
   "source": [
    "trainData[trainData.longitude < -74.2].count()"
   ]
  },
  {
   "cell_type": "code",
   "execution_count": 26,
   "metadata": {},
   "outputs": [
    {
     "data": {
      "text/plain": [
       "bathrooms          8\n",
       "bedrooms           8\n",
       "building_id        8\n",
       "created            8\n",
       "description        8\n",
       "display_address    8\n",
       "features           8\n",
       "interest_level     8\n",
       "latitude           8\n",
       "listing_id         8\n",
       "longitude          8\n",
       "manager_id         8\n",
       "photos             8\n",
       "price              8\n",
       "street_address     8\n",
       "dtype: int64"
      ]
     },
     "execution_count": 26,
     "metadata": {},
     "output_type": "execute_result"
    }
   ],
   "source": [
    "trainData[trainData.longitude > -73.7].count()"
   ]
  },
  {
   "cell_type": "code",
   "execution_count": 27,
   "metadata": {
    "scrolled": false
   },
   "outputs": [
    {
     "data": {
      "image/png": "[encoded data removed]",
      "text/plain": [
       "<Figure size 576x432 with 1 Axes>"
      ]
     },
     "metadata": {
      "needs_background": "light"
     },
     "output_type": "display_data"
    }
   ],
   "source": [
    "plt.figure(figsize=(8,6))\n",
    "plt.title(\"Longitude Boxplot Distribution: Range[-74.2. -73.7], Longitude-Outside-of-Expected-Range Removed\")\n",
    "plt.xlabel(\"Longitude\")\n",
    "ax = sns.boxplot(trainData[(trainData.longitude >= -74.2) & (trainData.longitude <= -73.7)].longitude.values)\n",
    "# plt.show()\n",
    "plt.savefig(\"figures_saved/boxplot_longitude_inrange_trim\")"
   ]
  },
  {
   "cell_type": "code",
   "execution_count": 28,
   "metadata": {},
   "outputs": [
    {
     "data": {
      "image/png": "[encoded data removed]",
      "text/plain": [
       "<Figure size 576x432 with 1 Axes>"
      ]
     },
     "metadata": {
      "needs_background": "light"
     },
     "output_type": "display_data"
    }
   ],
   "source": [
    "plt.figure(figsize=(8,6))\n",
    "plt.title(\"Longitude Distribution: Range[-74.2. -73.7], Longitude-Outside-of-Expected-Range Removed\")\n",
    "plt.xlabel(\"Longitude\")\n",
    "sns.distplot(trainData[(trainData.longitude >= -74.2) & (trainData.longitude <= -73.7)].longitude.values, bins=50)\n",
    "# plt.show()\n",
    "plt.savefig(\"figures_saved/dist_longitude_inrange_trim\")"
   ]
  },
  {
   "cell_type": "markdown",
   "metadata": {},
   "source": [
    "### Price"
   ]
  },
  {
   "cell_type": "markdown",
   "metadata": {},
   "source": [
    "Find and remove outlier using interquartile range\n",
    "https://towardsdatascience.com/ways-to-detect-and-remove-the-outliers-404d16608dba"
   ]
  },
  {
   "cell_type": "code",
   "execution_count": 29,
   "metadata": {},
   "outputs": [],
   "source": [
    "outlierPrice = trainData[['price']]\n",
    "# outlierPrice"
   ]
  },
  {
   "cell_type": "code",
   "execution_count": 30,
   "metadata": {},
   "outputs": [
    {
     "data": {
      "image/png": "[encoded data removed]",
      "text/plain": [
       "<Figure size 576x432 with 1 Axes>"
      ]
     },
     "metadata": {
      "needs_background": "light"
     },
     "output_type": "display_data"
    }
   ],
   "source": [
    "plt.figure(figsize=(8,6))\n",
    "plt.title(\"Price Distribution\")\n",
    "plt.xlabel(\"Price\")\n",
    "plt.ylabel(\"Price count\")\n",
    "# plt.hist(outlierPrice.price, range=(outlierPrice.price.min(),outlierPrice.price.max()), bins=50)\n",
    "# plt.hist(outlierPrice.price, range=(outlierPrice.price.min(),10000), bins=50)\n",
    "sns.distplot(outlierPrice.price.values, bins=50)\n",
    "# plt.show()\n",
    "plt.savefig(\"figures_saved/dist_price_full\")"
   ]
  },
  {
   "cell_type": "code",
   "execution_count": 31,
   "metadata": {},
   "outputs": [
    {
     "data": {
      "image/png": "[encoded data removed]",
      "text/plain": [
       "<Figure size 576x432 with 1 Axes>"
      ]
     },
     "metadata": {
      "needs_background": "light"
     },
     "output_type": "display_data"
    }
   ],
   "source": [
    "plt.figure(figsize=(8,6))\n",
    "plt.title(\"Price Boxplot Distribution\")\n",
    "plt.xlabel(\"Price\")\n",
    "sns.boxplot(outlierPrice.price.values)\n",
    "# plt.show()\n",
    "plt.savefig(\"figures_saved/boxplot_price\")"
   ]
  },
  {
   "cell_type": "code",
   "execution_count": 32,
   "metadata": {},
   "outputs": [
    {
     "data": {
      "text/plain": [
       "price    2500.0\n",
       "Name: 0.25, dtype: float64"
      ]
     },
     "metadata": {},
     "output_type": "display_data"
    },
    {
     "data": {
      "text/plain": [
       "price    4195.0\n",
       "Name: 0.75, dtype: float64"
      ]
     },
     "metadata": {},
     "output_type": "display_data"
    },
    {
     "data": {
      "text/plain": [
       "price    1695.0\n",
       "dtype: float64"
      ]
     },
     "metadata": {},
     "output_type": "display_data"
    }
   ],
   "source": [
    "Q1 = outlierPrice.quantile(0.25)\n",
    "Q3 = outlierPrice.quantile(0.75)\n",
    "IQR = Q3 - Q1\n",
    "display(Q1, Q3, IQR)"
   ]
  },
  {
   "cell_type": "code",
   "execution_count": 33,
   "metadata": {},
   "outputs": [],
   "source": [
    "# outlierPrice['price_outlier'] = (outlierPrice < (Q1 - 1.5 * IQR)) | (outlierPrice > (Q3 + 1.5 * IQR))\n",
    "# rows_outliers = outlierPrice[outlierPrice['price_outlier'] == True].index\n",
    "# display(rows_outliers)\n",
    "row, column = np.where(outlierPrice.applymap(lambda price: (price < (Q1[0] - 1.5 * IQR[0])) | (price > (Q3[0] + 1.5 * IQR[0]))))"
   ]
  },
  {
   "cell_type": "code",
   "execution_count": 34,
   "metadata": {},
   "outputs": [
    {
     "data": {
      "text/plain": [
       "array([  117,   119,   120, ..., 46095, 46106, 46109], dtype=int64)"
      ]
     },
     "metadata": {},
     "output_type": "display_data"
    },
    {
     "data": {
      "text/html": [
       "<div>\n",
       "<style scoped>\n",
       "    .dataframe tbody tr th:only-of-type {\n",
       "        vertical-align: middle;\n",
       "    }\n",
       "\n",
       "    .dataframe tbody tr th {\n",
       "        vertical-align: top;\n",
       "    }\n",
       "\n",
       "    .dataframe thead th {\n",
       "        text-align: right;\n",
       "    }\n",
       "</style>\n",
       "<table border=\"1\" class=\"dataframe\">\n",
       "  <thead>\n",
       "    <tr style=\"text-align: right;\">\n",
       "      <th></th>\n",
       "      <th>price</th>\n",
       "    </tr>\n",
       "  </thead>\n",
       "  <tbody>\n",
       "    <tr>\n",
       "      <td>117</td>\n",
       "      <td>7700</td>\n",
       "    </tr>\n",
       "    <tr>\n",
       "      <td>119</td>\n",
       "      <td>7700</td>\n",
       "    </tr>\n",
       "    <tr>\n",
       "      <td>120</td>\n",
       "      <td>7150</td>\n",
       "    </tr>\n",
       "    <tr>\n",
       "      <td>122</td>\n",
       "      <td>7500</td>\n",
       "    </tr>\n",
       "    <tr>\n",
       "      <td>197</td>\n",
       "      <td>10000</td>\n",
       "    </tr>\n",
       "    <tr>\n",
       "      <td>...</td>\n",
       "      <td>...</td>\n",
       "    </tr>\n",
       "    <tr>\n",
       "      <td>46059</td>\n",
       "      <td>8750</td>\n",
       "    </tr>\n",
       "    <tr>\n",
       "      <td>46105</td>\n",
       "      <td>8500</td>\n",
       "    </tr>\n",
       "    <tr>\n",
       "      <td>46111</td>\n",
       "      <td>135000</td>\n",
       "    </tr>\n",
       "    <tr>\n",
       "      <td>46122</td>\n",
       "      <td>6995</td>\n",
       "    </tr>\n",
       "    <tr>\n",
       "      <td>46125</td>\n",
       "      <td>9500</td>\n",
       "    </tr>\n",
       "  </tbody>\n",
       "</table>\n",
       "<p>2512 rows × 1 columns</p>\n",
       "</div>"
      ],
      "text/plain": [
       "        price\n",
       "117      7700\n",
       "119      7700\n",
       "120      7150\n",
       "122      7500\n",
       "197     10000\n",
       "...       ...\n",
       "46059    8750\n",
       "46105    8500\n",
       "46111  135000\n",
       "46122    6995\n",
       "46125    9500\n",
       "\n",
       "[2512 rows x 1 columns]"
      ]
     },
     "metadata": {},
     "output_type": "display_data"
    },
    {
     "data": {
      "text/plain": [
       "price    6738\n",
       "dtype: int64"
      ]
     },
     "metadata": {},
     "output_type": "display_data"
    },
    {
     "data": {
      "text/plain": [
       "price    4490000\n",
       "dtype: int64"
      ]
     },
     "metadata": {},
     "output_type": "display_data"
    }
   ],
   "source": [
    "display(row, outlierPrice.iloc[row])\n",
    "display(outlierPrice.iloc[row].min(), outlierPrice.iloc[row].max())"
   ]
  },
  {
   "cell_type": "code",
   "execution_count": 35,
   "metadata": {},
   "outputs": [
    {
     "data": {
      "text/html": [
       "<div>\n",
       "<style scoped>\n",
       "    .dataframe tbody tr th:only-of-type {\n",
       "        vertical-align: middle;\n",
       "    }\n",
       "\n",
       "    .dataframe tbody tr th {\n",
       "        vertical-align: top;\n",
       "    }\n",
       "\n",
       "    .dataframe thead th {\n",
       "        text-align: right;\n",
       "    }\n",
       "</style>\n",
       "<table border=\"1\" class=\"dataframe\">\n",
       "  <thead>\n",
       "    <tr style=\"text-align: right;\">\n",
       "      <th></th>\n",
       "      <th>outlier_counts</th>\n",
       "    </tr>\n",
       "  </thead>\n",
       "  <tbody>\n",
       "    <tr>\n",
       "      <td>latitude</td>\n",
       "      <td>4</td>\n",
       "    </tr>\n",
       "    <tr>\n",
       "      <td>longitude</td>\n",
       "      <td>12</td>\n",
       "    </tr>\n",
       "    <tr>\n",
       "      <td>price</td>\n",
       "      <td>2512</td>\n",
       "    </tr>\n",
       "  </tbody>\n",
       "</table>\n",
       "</div>"
      ],
      "text/plain": [
       "          outlier_counts\n",
       "latitude               4\n",
       "longitude             12\n",
       "price               2512"
      ]
     },
     "metadata": {},
     "output_type": "display_data"
    }
   ],
   "source": [
    "# outlier_counts.loc['price'] = outlierPrice.iloc[rows_outliers].count().values\n",
    "outlier_counts.loc['price'] = outlierPrice.iloc[row].count().values\n",
    "display(outlier_counts)"
   ]
  },
  {
   "cell_type": "code",
   "execution_count": 36,
   "metadata": {},
   "outputs": [
    {
     "data": {
      "text/plain": [
       "bathrooms          46137\n",
       "bedrooms           46137\n",
       "building_id        46137\n",
       "created            46137\n",
       "description        46137\n",
       "display_address    46137\n",
       "features           46137\n",
       "interest_level     46137\n",
       "latitude           46137\n",
       "listing_id         46137\n",
       "longitude          46137\n",
       "manager_id         46137\n",
       "photos             42865\n",
       "price              46137\n",
       "street_address     46137\n",
       "dtype: int64"
      ]
     },
     "metadata": {},
     "output_type": "display_data"
    },
    {
     "data": {
      "text/plain": [
       "43"
      ]
     },
     "metadata": {},
     "output_type": "display_data"
    },
    {
     "data": {
      "text/plain": [
       "4490000"
      ]
     },
     "metadata": {},
     "output_type": "display_data"
    }
   ],
   "source": [
    "display(trainData.count())\n",
    "display(trainData.price.min(), trainData.price.max())"
   ]
  },
  {
   "cell_type": "code",
   "execution_count": 37,
   "metadata": {},
   "outputs": [
    {
     "data": {
      "text/plain": [
       "bathrooms          43625\n",
       "bedrooms           43625\n",
       "building_id        43625\n",
       "created            43625\n",
       "description        43625\n",
       "display_address    43625\n",
       "features           43625\n",
       "interest_level     43625\n",
       "latitude           43625\n",
       "listing_id         43625\n",
       "longitude          43625\n",
       "manager_id         43625\n",
       "photos             40532\n",
       "price              43625\n",
       "street_address     43625\n",
       "dtype: int64"
      ]
     },
     "metadata": {},
     "output_type": "display_data"
    },
    {
     "data": {
      "text/plain": [
       "43"
      ]
     },
     "metadata": {},
     "output_type": "display_data"
    },
    {
     "data": {
      "text/plain": [
       "6728"
      ]
     },
     "metadata": {},
     "output_type": "display_data"
    }
   ],
   "source": [
    "# trainData = trainData.drop(outlierPrice[outlierPrice['price_outlier'] == True].index)\n",
    "trainData = trainData.drop(trainData.index[row], errors='ignore')\n",
    "display(trainData.count())\n",
    "display(trainData.price.min(), trainData.price.max())"
   ]
  },
  {
   "cell_type": "code",
   "execution_count": 38,
   "metadata": {},
   "outputs": [
    {
     "data": {
      "image/png": "[encoded data removed]",
      "text/plain": [
       "<Figure size 576x432 with 1 Axes>"
      ]
     },
     "metadata": {
      "needs_background": "light"
     },
     "output_type": "display_data"
    }
   ],
   "source": [
    "plt.figure(figsize=(8,6))\n",
    "plt.title(\"Price Boxplot Distribution: Outliers Removed\")\n",
    "plt.xlabel(\"Price\")\n",
    "ax = sns.boxplot(trainData.price.values)\n",
    "# plt.show()\n",
    "plt.savefig(\"figures_saved/boxplot_price_outlierremoved\")"
   ]
  },
  {
   "cell_type": "code",
   "execution_count": 39,
   "metadata": {},
   "outputs": [
    {
     "data": {
      "image/png": "[encoded data removed]",
      "text/plain": [
       "<Figure size 576x432 with 1 Axes>"
      ]
     },
     "metadata": {
      "needs_background": "light"
     },
     "output_type": "display_data"
    }
   ],
   "source": [
    "plt.figure(figsize=(8,6))\n",
    "plt.title(\"Price Distribution: Outliers Removed\")\n",
    "plt.xlabel(\"Price\")\n",
    "sns.distplot(trainData.price.values, bins=50)\n",
    "# plt.show()\n",
    "plt.savefig(\"figures_saved/dist_price_outlierremoved\")"
   ]
  },
  {
   "cell_type": "markdown",
   "metadata": {},
   "source": [
    "## Checking Other Attributes/Features"
   ]
  },
  {
   "cell_type": "code",
   "execution_count": 40,
   "metadata": {
    "scrolled": true
   },
   "outputs": [
    {
     "data": {
      "text/html": [
       "<div>\n",
       "<style scoped>\n",
       "    .dataframe tbody tr th:only-of-type {\n",
       "        vertical-align: middle;\n",
       "    }\n",
       "\n",
       "    .dataframe tbody tr th {\n",
       "        vertical-align: top;\n",
       "    }\n",
       "\n",
       "    .dataframe thead th {\n",
       "        text-align: right;\n",
       "    }\n",
       "</style>\n",
       "<table border=\"1\" class=\"dataframe\">\n",
       "  <thead>\n",
       "    <tr style=\"text-align: right;\">\n",
       "      <th></th>\n",
       "      <th>bathrooms</th>\n",
       "      <th>bedrooms</th>\n",
       "      <th>building_id</th>\n",
       "      <th>created</th>\n",
       "      <th>description</th>\n",
       "      <th>display_address</th>\n",
       "      <th>features</th>\n",
       "      <th>interest_level</th>\n",
       "      <th>latitude</th>\n",
       "      <th>listing_id</th>\n",
       "      <th>longitude</th>\n",
       "      <th>manager_id</th>\n",
       "      <th>photos</th>\n",
       "      <th>price</th>\n",
       "      <th>street_address</th>\n",
       "    </tr>\n",
       "  </thead>\n",
       "  <tbody>\n",
       "    <tr>\n",
       "      <td>0</td>\n",
       "      <td>2.0</td>\n",
       "      <td>3</td>\n",
       "      <td>b66d3340ba269e6f184bfad550a6f05f</td>\n",
       "      <td>2016-06-24 07:55:11</td>\n",
       "      <td>Welcome to your new home! This extravagantly o...</td>\n",
       "      <td>president street</td>\n",
       "      <td>[Dining Room, Laundry in Building, High Speed ...</td>\n",
       "      <td>low</td>\n",
       "      <td>40.6678</td>\n",
       "      <td>7211226</td>\n",
       "      <td>-73.9398</td>\n",
       "      <td>929baf387cf71d98482a9743ab8a0890</td>\n",
       "      <td>[https://photos.renthop.com/2/7211226_7c7b8bc2...</td>\n",
       "      <td>3050</td>\n",
       "      <td>1475 president street</td>\n",
       "    </tr>\n",
       "    <tr>\n",
       "      <td>1</td>\n",
       "      <td>2.0</td>\n",
       "      <td>3</td>\n",
       "      <td>b66d3340ba269e6f184bfad550a6f05f</td>\n",
       "      <td>2016-04-29 03:29:11</td>\n",
       "      <td>&lt;![CDATA[3 bedrooms, 3100, Bedford Stuyvesant/...</td>\n",
       "      <td>president street</td>\n",
       "      <td>[]</td>\n",
       "      <td>low</td>\n",
       "      <td>40.6678</td>\n",
       "      <td>6941286</td>\n",
       "      <td>-73.9398</td>\n",
       "      <td>a12c733c6cba53a6d2fe8a1fdfd5a674</td>\n",
       "      <td>[https://photos.renthop.com/2/6941286_252212fd...</td>\n",
       "      <td>3100</td>\n",
       "      <td>1475 president street</td>\n",
       "    </tr>\n",
       "    <tr>\n",
       "      <td>2</td>\n",
       "      <td>1.0</td>\n",
       "      <td>1</td>\n",
       "      <td>7e9fd0dea8ad2c8ac0a1022a1f0d997b</td>\n",
       "      <td>2016-06-17 01:22:28</td>\n",
       "      <td>This newly renovated, queen sized 1 Bed / 1 Ba...</td>\n",
       "      <td>east 12th street</td>\n",
       "      <td>[Pre-War, Dogs Allowed, Cats Allowed]</td>\n",
       "      <td>low</td>\n",
       "      <td>40.7287</td>\n",
       "      <td>7174518</td>\n",
       "      <td>-73.9810</td>\n",
       "      <td>befc71000fbd97ffe17b1ef8566b0590</td>\n",
       "      <td>[https://photos.renthop.com/2/7174518_ac2cde58...</td>\n",
       "      <td>2850</td>\n",
       "      <td>504 east 12th street</td>\n",
       "    </tr>\n",
       "    <tr>\n",
       "      <td>3</td>\n",
       "      <td>1.0</td>\n",
       "      <td>3</td>\n",
       "      <td>7e9fd0dea8ad2c8ac0a1022a1f0d997b</td>\n",
       "      <td>2016-06-08 01:12:34</td>\n",
       "      <td>Prime East Village 3 bedroom, 1 bath apartment...</td>\n",
       "      <td>east 12th street</td>\n",
       "      <td>[Pre-War, Dogs Allowed, Cats Allowed]</td>\n",
       "      <td>low</td>\n",
       "      <td>40.7287</td>\n",
       "      <td>7122279</td>\n",
       "      <td>-73.9810</td>\n",
       "      <td>e7f859b81a2a75ac93042a721d70a0aa</td>\n",
       "      <td>[https://photos.renthop.com/2/7122279_fea77391...</td>\n",
       "      <td>4200</td>\n",
       "      <td>504 east 12th street</td>\n",
       "    </tr>\n",
       "    <tr>\n",
       "      <td>4</td>\n",
       "      <td>1.0</td>\n",
       "      <td>1</td>\n",
       "      <td>7e9fd0dea8ad2c8ac0a1022a1f0d997b</td>\n",
       "      <td>2016-06-11 01:27:45</td>\n",
       "      <td>Welcome to your next new home.This 1BR/1BA uni...</td>\n",
       "      <td>east 12th street</td>\n",
       "      <td>[Pre-War, Dogs Allowed, Cats Allowed]</td>\n",
       "      <td>low</td>\n",
       "      <td>40.7287</td>\n",
       "      <td>7138528</td>\n",
       "      <td>-73.9810</td>\n",
       "      <td>89179891e92a87e72ac3132fc5a977e8</td>\n",
       "      <td>[https://photos.renthop.com/2/7138528_940f2e70...</td>\n",
       "      <td>2850</td>\n",
       "      <td>504 east 12th street</td>\n",
       "    </tr>\n",
       "    <tr>\n",
       "      <td>...</td>\n",
       "      <td>...</td>\n",
       "      <td>...</td>\n",
       "      <td>...</td>\n",
       "      <td>...</td>\n",
       "      <td>...</td>\n",
       "      <td>...</td>\n",
       "      <td>...</td>\n",
       "      <td>...</td>\n",
       "      <td>...</td>\n",
       "      <td>...</td>\n",
       "      <td>...</td>\n",
       "      <td>...</td>\n",
       "      <td>...</td>\n",
       "      <td>...</td>\n",
       "      <td>...</td>\n",
       "    </tr>\n",
       "    <tr>\n",
       "      <td>46148</td>\n",
       "      <td>1.0</td>\n",
       "      <td>3</td>\n",
       "      <td>92bbbf38baadfde0576fc496bd41749c</td>\n",
       "      <td>2016-04-05 03:58:33</td>\n",
       "      <td>There is 700 square feet of recently renovated...</td>\n",
       "      <td>west 171 street</td>\n",
       "      <td>[Elevator, Dishwasher, Hardwood Floors]</td>\n",
       "      <td>low</td>\n",
       "      <td>40.8433</td>\n",
       "      <td>6824800</td>\n",
       "      <td>-73.9396</td>\n",
       "      <td>a61e21da3ba18c7a3d54cfdcc247e1f8</td>\n",
       "      <td>[https://photos.renthop.com/2/6824800_0682be16...</td>\n",
       "      <td>2800</td>\n",
       "      <td>620 west 171 street</td>\n",
       "    </tr>\n",
       "    <tr>\n",
       "      <td>46149</td>\n",
       "      <td>1.0</td>\n",
       "      <td>2</td>\n",
       "      <td>5565db9b7cba3603834c4aa6f2950960</td>\n",
       "      <td>2016-04-02 02:25:31</td>\n",
       "      <td>2 bedroom apartment with updated kitchen, rece...</td>\n",
       "      <td>broadway</td>\n",
       "      <td>[Common Outdoor Space, Cats Allowed, Dogs Allo...</td>\n",
       "      <td>medium</td>\n",
       "      <td>40.8198</td>\n",
       "      <td>6813268</td>\n",
       "      <td>-73.9578</td>\n",
       "      <td>8f90e5e10e8a2d7cf997f016d89230eb</td>\n",
       "      <td>[https://photos.renthop.com/2/6813268_1e6fcc32...</td>\n",
       "      <td>2395</td>\n",
       "      <td>3333 broadway</td>\n",
       "    </tr>\n",
       "    <tr>\n",
       "      <td>46150</td>\n",
       "      <td>1.0</td>\n",
       "      <td>1</td>\n",
       "      <td>67997a128056ee1ed7d046bbb856e3c7</td>\n",
       "      <td>2016-04-26 05:42:03</td>\n",
       "      <td>No Brokers Fee * Never Lived 1 Bedroom 1 Bathr...</td>\n",
       "      <td>210 brighton 15th street</td>\n",
       "      <td>[Dining Room, Elevator, Pre-War, Laundry in Bu...</td>\n",
       "      <td>medium</td>\n",
       "      <td>40.5765</td>\n",
       "      <td>6927093</td>\n",
       "      <td>-73.9554</td>\n",
       "      <td>a10db4590843d78c784171a107bdacb4</td>\n",
       "      <td>[https://photos.renthop.com/2/6927093_93a52104...</td>\n",
       "      <td>1850</td>\n",
       "      <td>210 brighton 15th street</td>\n",
       "    </tr>\n",
       "    <tr>\n",
       "      <td>46151</td>\n",
       "      <td>1.0</td>\n",
       "      <td>2</td>\n",
       "      <td>3c0574a740154806c18bdf1fddd3d966</td>\n",
       "      <td>2016-04-19 02:47:33</td>\n",
       "      <td>Wonderful Bright Chelsea 2 Bedroom apartment o...</td>\n",
       "      <td>west 21st street</td>\n",
       "      <td>[Pre-War, Laundry in Unit, Dishwasher, No Fee,...</td>\n",
       "      <td>medium</td>\n",
       "      <td>40.7448</td>\n",
       "      <td>6892816</td>\n",
       "      <td>-74.0017</td>\n",
       "      <td>c3cd45f4381ac371507090e9ffabea80</td>\n",
       "      <td>[https://photos.renthop.com/2/6892816_1a8d087a...</td>\n",
       "      <td>4195</td>\n",
       "      <td>350 west 21st street</td>\n",
       "    </tr>\n",
       "    <tr>\n",
       "      <td>46152</td>\n",
       "      <td>1.0</td>\n",
       "      <td>3</td>\n",
       "      <td>d89f514c3ed0abaae52cba7017ac0701</td>\n",
       "      <td>2016-04-20 05:34:00</td>\n",
       "      <td>***PRIME MIDTOWN EAST OFF PARK AVE***TRUE 3 BE...</td>\n",
       "      <td>east 54th street</td>\n",
       "      <td>[Dining Room, Elevator, Laundry in Building, D...</td>\n",
       "      <td>high</td>\n",
       "      <td>40.7594</td>\n",
       "      <td>6901023</td>\n",
       "      <td>-73.9712</td>\n",
       "      <td>e90f2ded843cdb2efd65ef47d9fc8029</td>\n",
       "      <td>[https://photos.renthop.com/2/6901023_02052d90...</td>\n",
       "      <td>4280</td>\n",
       "      <td>123 east 54th street</td>\n",
       "    </tr>\n",
       "  </tbody>\n",
       "</table>\n",
       "<p>43625 rows × 15 columns</p>\n",
       "</div>"
      ],
      "text/plain": [
       "       bathrooms  bedrooms                       building_id  \\\n",
       "0            2.0         3  b66d3340ba269e6f184bfad550a6f05f   \n",
       "1            2.0         3  b66d3340ba269e6f184bfad550a6f05f   \n",
       "2            1.0         1  7e9fd0dea8ad2c8ac0a1022a1f0d997b   \n",
       "3            1.0         3  7e9fd0dea8ad2c8ac0a1022a1f0d997b   \n",
       "4            1.0         1  7e9fd0dea8ad2c8ac0a1022a1f0d997b   \n",
       "...          ...       ...                               ...   \n",
       "46148        1.0         3  92bbbf38baadfde0576fc496bd41749c   \n",
       "46149        1.0         2  5565db9b7cba3603834c4aa6f2950960   \n",
       "46150        1.0         1  67997a128056ee1ed7d046bbb856e3c7   \n",
       "46151        1.0         2  3c0574a740154806c18bdf1fddd3d966   \n",
       "46152        1.0         3  d89f514c3ed0abaae52cba7017ac0701   \n",
       "\n",
       "                  created                                        description  \\\n",
       "0     2016-06-24 07:55:11  Welcome to your new home! This extravagantly o...   \n",
       "1     2016-04-29 03:29:11  <![CDATA[3 bedrooms, 3100, Bedford Stuyvesant/...   \n",
       "2     2016-06-17 01:22:28  This newly renovated, queen sized 1 Bed / 1 Ba...   \n",
       "3     2016-06-08 01:12:34  Prime East Village 3 bedroom, 1 bath apartment...   \n",
       "4     2016-06-11 01:27:45  Welcome to your next new home.This 1BR/1BA uni...   \n",
       "...                   ...                                                ...   \n",
       "46148 2016-04-05 03:58:33  There is 700 square feet of recently renovated...   \n",
       "46149 2016-04-02 02:25:31  2 bedroom apartment with updated kitchen, rece...   \n",
       "46150 2016-04-26 05:42:03  No Brokers Fee * Never Lived 1 Bedroom 1 Bathr...   \n",
       "46151 2016-04-19 02:47:33  Wonderful Bright Chelsea 2 Bedroom apartment o...   \n",
       "46152 2016-04-20 05:34:00  ***PRIME MIDTOWN EAST OFF PARK AVE***TRUE 3 BE...   \n",
       "\n",
       "                display_address  \\\n",
       "0              president street   \n",
       "1              president street   \n",
       "2              east 12th street   \n",
       "3              east 12th street   \n",
       "4              east 12th street   \n",
       "...                         ...   \n",
       "46148           west 171 street   \n",
       "46149                  broadway   \n",
       "46150  210 brighton 15th street   \n",
       "46151          west 21st street   \n",
       "46152          east 54th street   \n",
       "\n",
       "                                                features interest_level  \\\n",
       "0      [Dining Room, Laundry in Building, High Speed ...            low   \n",
       "1                                                     []            low   \n",
       "2                  [Pre-War, Dogs Allowed, Cats Allowed]            low   \n",
       "3                  [Pre-War, Dogs Allowed, Cats Allowed]            low   \n",
       "4                  [Pre-War, Dogs Allowed, Cats Allowed]            low   \n",
       "...                                                  ...            ...   \n",
       "46148            [Elevator, Dishwasher, Hardwood Floors]            low   \n",
       "46149  [Common Outdoor Space, Cats Allowed, Dogs Allo...         medium   \n",
       "46150  [Dining Room, Elevator, Pre-War, Laundry in Bu...         medium   \n",
       "46151  [Pre-War, Laundry in Unit, Dishwasher, No Fee,...         medium   \n",
       "46152  [Dining Room, Elevator, Laundry in Building, D...           high   \n",
       "\n",
       "       latitude  listing_id  longitude                        manager_id  \\\n",
       "0       40.6678     7211226   -73.9398  929baf387cf71d98482a9743ab8a0890   \n",
       "1       40.6678     6941286   -73.9398  a12c733c6cba53a6d2fe8a1fdfd5a674   \n",
       "2       40.7287     7174518   -73.9810  befc71000fbd97ffe17b1ef8566b0590   \n",
       "3       40.7287     7122279   -73.9810  e7f859b81a2a75ac93042a721d70a0aa   \n",
       "4       40.7287     7138528   -73.9810  89179891e92a87e72ac3132fc5a977e8   \n",
       "...         ...         ...        ...                               ...   \n",
       "46148   40.8433     6824800   -73.9396  a61e21da3ba18c7a3d54cfdcc247e1f8   \n",
       "46149   40.8198     6813268   -73.9578  8f90e5e10e8a2d7cf997f016d89230eb   \n",
       "46150   40.5765     6927093   -73.9554  a10db4590843d78c784171a107bdacb4   \n",
       "46151   40.7448     6892816   -74.0017  c3cd45f4381ac371507090e9ffabea80   \n",
       "46152   40.7594     6901023   -73.9712  e90f2ded843cdb2efd65ef47d9fc8029   \n",
       "\n",
       "                                                  photos  price  \\\n",
       "0      [https://photos.renthop.com/2/7211226_7c7b8bc2...   3050   \n",
       "1      [https://photos.renthop.com/2/6941286_252212fd...   3100   \n",
       "2      [https://photos.renthop.com/2/7174518_ac2cde58...   2850   \n",
       "3      [https://photos.renthop.com/2/7122279_fea77391...   4200   \n",
       "4      [https://photos.renthop.com/2/7138528_940f2e70...   2850   \n",
       "...                                                  ...    ...   \n",
       "46148  [https://photos.renthop.com/2/6824800_0682be16...   2800   \n",
       "46149  [https://photos.renthop.com/2/6813268_1e6fcc32...   2395   \n",
       "46150  [https://photos.renthop.com/2/6927093_93a52104...   1850   \n",
       "46151  [https://photos.renthop.com/2/6892816_1a8d087a...   4195   \n",
       "46152  [https://photos.renthop.com/2/6901023_02052d90...   4280   \n",
       "\n",
       "                 street_address  \n",
       "0         1475 president street  \n",
       "1         1475 president street  \n",
       "2          504 east 12th street  \n",
       "3          504 east 12th street  \n",
       "4          504 east 12th street  \n",
       "...                         ...  \n",
       "46148       620 west 171 street  \n",
       "46149             3333 broadway  \n",
       "46150  210 brighton 15th street  \n",
       "46151      350 west 21st street  \n",
       "46152      123 east 54th street  \n",
       "\n",
       "[43625 rows x 15 columns]"
      ]
     },
     "execution_count": 40,
     "metadata": {},
     "output_type": "execute_result"
    }
   ],
   "source": [
    "trainData"
   ]
  },
  {
   "cell_type": "markdown",
   "metadata": {},
   "source": [
    "### Bathrooms"
   ]
  },
  {
   "cell_type": "code",
   "execution_count": 41,
   "metadata": {
    "scrolled": true
   },
   "outputs": [],
   "source": [
    "bathrooms = trainData[['bathrooms']]\n",
    "# bathrooms"
   ]
  },
  {
   "cell_type": "code",
   "execution_count": 42,
   "metadata": {},
   "outputs": [
    {
     "data": {
      "image/png": "[encoded data removed]",
      "text/plain": [
       "<Figure size 576x432 with 1 Axes>"
      ]
     },
     "metadata": {
      "needs_background": "light"
     },
     "output_type": "display_data"
    }
   ],
   "source": [
    "plt.figure(figsize=(8,6))\n",
    "plt.title(\"#Bathrooms Counts Distribution\")\n",
    "plt.xlabel(\"#Bathrooms\")\n",
    "plt.ylabel(\"Count\")\n",
    "sns.distplot(bathrooms.values)\n",
    "# plt.show()\n",
    "plt.savefig(\"figures_saved/dist_bathrooms\")"
   ]
  },
  {
   "cell_type": "code",
   "execution_count": 43,
   "metadata": {},
   "outputs": [
    {
     "data": {
      "image/png": "[encoded data removed]",
      "text/plain": [
       "<Figure size 576x432 with 1 Axes>"
      ]
     },
     "metadata": {
      "needs_background": "light"
     },
     "output_type": "display_data"
    }
   ],
   "source": [
    "plt.figure(figsize=(8,6))\n",
    "plt.title(\"#Bathrooms Boxplot Distribution\")\n",
    "plt.xlabel(\"#Bathrooms\")\n",
    "ax = sns.boxplot(bathrooms.values)\n",
    "# plt.show()\n",
    "plt.savefig(\"figures_saved/boxplot_bathrooms\")"
   ]
  },
  {
   "cell_type": "code",
   "execution_count": 44,
   "metadata": {
    "scrolled": true
   },
   "outputs": [
    {
     "data": {
      "text/plain": [
       "bathrooms\n",
       "0.0       286\n",
       "1.0     36468\n",
       "1.5       589\n",
       "2.0      6038\n",
       "2.5        83\n",
       "3.0       143\n",
       "3.5         3\n",
       "4.0        13\n",
       "4.5         1\n",
       "10.0        1\n",
       "dtype: int64"
      ]
     },
     "metadata": {},
     "output_type": "display_data"
    },
    {
     "data": {
      "text/html": [
       "<div>\n",
       "<style scoped>\n",
       "    .dataframe tbody tr th:only-of-type {\n",
       "        vertical-align: middle;\n",
       "    }\n",
       "\n",
       "    .dataframe tbody tr th {\n",
       "        vertical-align: top;\n",
       "    }\n",
       "\n",
       "    .dataframe thead th {\n",
       "        text-align: right;\n",
       "    }\n",
       "</style>\n",
       "<table border=\"1\" class=\"dataframe\">\n",
       "  <thead>\n",
       "    <tr style=\"text-align: right;\">\n",
       "      <th></th>\n",
       "      <th>bathrooms</th>\n",
       "    </tr>\n",
       "  </thead>\n",
       "  <tbody>\n",
       "    <tr>\n",
       "      <td>6183</td>\n",
       "      <td>3.5</td>\n",
       "    </tr>\n",
       "    <tr>\n",
       "      <td>8993</td>\n",
       "      <td>4.0</td>\n",
       "    </tr>\n",
       "    <tr>\n",
       "      <td>12781</td>\n",
       "      <td>3.5</td>\n",
       "    </tr>\n",
       "    <tr>\n",
       "      <td>19295</td>\n",
       "      <td>3.5</td>\n",
       "    </tr>\n",
       "    <tr>\n",
       "      <td>20356</td>\n",
       "      <td>4.0</td>\n",
       "    </tr>\n",
       "    <tr>\n",
       "      <td>21010</td>\n",
       "      <td>4.0</td>\n",
       "    </tr>\n",
       "    <tr>\n",
       "      <td>22623</td>\n",
       "      <td>4.0</td>\n",
       "    </tr>\n",
       "    <tr>\n",
       "      <td>23073</td>\n",
       "      <td>4.0</td>\n",
       "    </tr>\n",
       "    <tr>\n",
       "      <td>26722</td>\n",
       "      <td>4.0</td>\n",
       "    </tr>\n",
       "    <tr>\n",
       "      <td>27378</td>\n",
       "      <td>4.0</td>\n",
       "    </tr>\n",
       "    <tr>\n",
       "      <td>27557</td>\n",
       "      <td>4.0</td>\n",
       "    </tr>\n",
       "    <tr>\n",
       "      <td>28827</td>\n",
       "      <td>4.0</td>\n",
       "    </tr>\n",
       "    <tr>\n",
       "      <td>30135</td>\n",
       "      <td>4.0</td>\n",
       "    </tr>\n",
       "    <tr>\n",
       "      <td>35823</td>\n",
       "      <td>4.0</td>\n",
       "    </tr>\n",
       "    <tr>\n",
       "      <td>36290</td>\n",
       "      <td>4.0</td>\n",
       "    </tr>\n",
       "    <tr>\n",
       "      <td>39881</td>\n",
       "      <td>10.0</td>\n",
       "    </tr>\n",
       "    <tr>\n",
       "      <td>40710</td>\n",
       "      <td>4.0</td>\n",
       "    </tr>\n",
       "    <tr>\n",
       "      <td>42815</td>\n",
       "      <td>4.5</td>\n",
       "    </tr>\n",
       "  </tbody>\n",
       "</table>\n",
       "</div>"
      ],
      "text/plain": [
       "       bathrooms\n",
       "6183         3.5\n",
       "8993         4.0\n",
       "12781        3.5\n",
       "19295        3.5\n",
       "20356        4.0\n",
       "21010        4.0\n",
       "22623        4.0\n",
       "23073        4.0\n",
       "26722        4.0\n",
       "27378        4.0\n",
       "27557        4.0\n",
       "28827        4.0\n",
       "30135        4.0\n",
       "35823        4.0\n",
       "36290        4.0\n",
       "39881       10.0\n",
       "40710        4.0\n",
       "42815        4.5"
      ]
     },
     "metadata": {},
     "output_type": "display_data"
    },
    {
     "data": {
      "text/html": [
       "<div>\n",
       "<style scoped>\n",
       "    .dataframe tbody tr th:only-of-type {\n",
       "        vertical-align: middle;\n",
       "    }\n",
       "\n",
       "    .dataframe tbody tr th {\n",
       "        vertical-align: top;\n",
       "    }\n",
       "\n",
       "    .dataframe thead th {\n",
       "        text-align: right;\n",
       "    }\n",
       "</style>\n",
       "<table border=\"1\" class=\"dataframe\">\n",
       "  <thead>\n",
       "    <tr style=\"text-align: right;\">\n",
       "      <th></th>\n",
       "      <th>outlier_counts</th>\n",
       "    </tr>\n",
       "  </thead>\n",
       "  <tbody>\n",
       "    <tr>\n",
       "      <td>latitude</td>\n",
       "      <td>4</td>\n",
       "    </tr>\n",
       "    <tr>\n",
       "      <td>longitude</td>\n",
       "      <td>12</td>\n",
       "    </tr>\n",
       "    <tr>\n",
       "      <td>price</td>\n",
       "      <td>2512</td>\n",
       "    </tr>\n",
       "    <tr>\n",
       "      <td>bathrooms</td>\n",
       "      <td>18</td>\n",
       "    </tr>\n",
       "  </tbody>\n",
       "</table>\n",
       "</div>"
      ],
      "text/plain": [
       "          outlier_counts\n",
       "latitude               4\n",
       "longitude             12\n",
       "price               2512\n",
       "bathrooms             18"
      ]
     },
     "metadata": {},
     "output_type": "display_data"
    }
   ],
   "source": [
    "# See the tabularized counts\n",
    "display(bathrooms.groupby(['bathrooms']).size())\n",
    "\n",
    "# Select number of bathrooms outside the reasonable/acceptable range of 0 to 3\n",
    "row, column = np.where(bathrooms.applymap(lambda x: x > 3))\n",
    "display(bathrooms.iloc[row])\n",
    "\n",
    "# Save the number of outliers\n",
    "outlier_counts.loc['bathrooms'] = bathrooms.iloc[row].count().values\n",
    "display(outlier_counts)"
   ]
  },
  {
   "cell_type": "code",
   "execution_count": 45,
   "metadata": {},
   "outputs": [
    {
     "data": {
      "text/plain": [
       "bathrooms          43607\n",
       "bedrooms           43607\n",
       "building_id        43607\n",
       "created            43607\n",
       "description        43607\n",
       "display_address    43607\n",
       "features           43607\n",
       "interest_level     43607\n",
       "latitude           43607\n",
       "listing_id         43607\n",
       "longitude          43607\n",
       "manager_id         43607\n",
       "photos             40515\n",
       "price              43607\n",
       "street_address     43607\n",
       "dtype: int64"
      ]
     },
     "metadata": {},
     "output_type": "display_data"
    },
    {
     "data": {
      "text/plain": [
       "0.0"
      ]
     },
     "metadata": {},
     "output_type": "display_data"
    },
    {
     "data": {
      "text/plain": [
       "3.0"
      ]
     },
     "metadata": {},
     "output_type": "display_data"
    }
   ],
   "source": [
    "# Dropping the outlier rows\n",
    "trainData = trainData.drop(trainData.index[row], errors='ignore')\n",
    "display(trainData.count())\n",
    "display(trainData.bathrooms.min(), trainData.bathrooms.max())"
   ]
  },
  {
   "cell_type": "code",
   "execution_count": 46,
   "metadata": {},
   "outputs": [
    {
     "data": {
      "image/png": "[encoded data removed]",
      "text/plain": [
       "<Figure size 576x432 with 1 Axes>"
      ]
     },
     "metadata": {
      "needs_background": "light"
     },
     "output_type": "display_data"
    }
   ],
   "source": [
    "plt.figure(figsize=(8,6))\n",
    "plt.title(\"Trimmed #Bathrooms Counts Distribution\")\n",
    "plt.xlabel(\"#Bathrooms\")\n",
    "plt.ylabel(\"Count\")\n",
    "sns.distplot(trainData.bathrooms.values)\n",
    "# plt.show()\n",
    "plt.savefig(\"figures_saved/dist_bathrooms_trim\")"
   ]
  },
  {
   "cell_type": "code",
   "execution_count": 47,
   "metadata": {
    "scrolled": true
   },
   "outputs": [
    {
     "data": {
      "image/png": "[encoded data removed]",
      "text/plain": [
       "<Figure size 576x432 with 1 Axes>"
      ]
     },
     "metadata": {
      "needs_background": "light"
     },
     "output_type": "display_data"
    }
   ],
   "source": [
    "plt.figure(figsize=(8,6))\n",
    "plt.title(\"Trimmed #Bathrooms Boxplot Distribution\")\n",
    "plt.xlabel(\"#Bathrooms\")\n",
    "ax = sns.boxplot(trainData.bathrooms.values)\n",
    "# plt.show()\n",
    "plt.savefig(\"figures_saved/boxplot_bathrooms_trim\")"
   ]
  },
  {
   "cell_type": "markdown",
   "metadata": {},
   "source": [
    "### Bedrooms"
   ]
  },
  {
   "cell_type": "code",
   "execution_count": 48,
   "metadata": {},
   "outputs": [],
   "source": [
    "bedrooms = trainData[['bedrooms']]\n",
    "# bedrooms"
   ]
  },
  {
   "cell_type": "code",
   "execution_count": 49,
   "metadata": {},
   "outputs": [
    {
     "data": {
      "image/png": "[encoded data removed]",
      "text/plain": [
       "<Figure size 576x432 with 1 Axes>"
      ]
     },
     "metadata": {
      "needs_background": "light"
     },
     "output_type": "display_data"
    }
   ],
   "source": [
    "plt.figure(figsize=(8,6))\n",
    "plt.title(\"#Bedrooms Counts Distribution\")\n",
    "plt.xlabel(\"#Bedrooms\")\n",
    "plt.ylabel(\"Count\")\n",
    "sns.distplot(bedrooms.values)\n",
    "# plt.show()\n",
    "plt.savefig(\"figures_saved/dist_bedrooms\")"
   ]
  },
  {
   "cell_type": "code",
   "execution_count": 50,
   "metadata": {},
   "outputs": [
    {
     "data": {
      "image/png": "[encoded data removed]",
      "text/plain": [
       "<Figure size 576x432 with 1 Axes>"
      ]
     },
     "metadata": {
      "needs_background": "light"
     },
     "output_type": "display_data"
    }
   ],
   "source": [
    "plt.figure(figsize=(8,6))\n",
    "plt.title(\"#Bedrooms Boxplot Distribution\")\n",
    "plt.xlabel(\"#Bedrooms\")\n",
    "ax = sns.boxplot(bedrooms.values)\n",
    "# plt.show()\n",
    "plt.savefig(\"figures_saved/boxplot_bedrooms\")"
   ]
  },
  {
   "cell_type": "code",
   "execution_count": 51,
   "metadata": {
    "scrolled": true
   },
   "outputs": [
    {
     "data": {
      "text/plain": [
       "bedrooms\n",
       "0     8798\n",
       "1    14609\n",
       "2    12898\n",
       "3     5933\n",
       "4     1290\n",
       "5       75\n",
       "6        4\n",
       "dtype: int64"
      ]
     },
     "metadata": {},
     "output_type": "display_data"
    },
    {
     "data": {
      "text/html": [
       "<div>\n",
       "<style scoped>\n",
       "    .dataframe tbody tr th:only-of-type {\n",
       "        vertical-align: middle;\n",
       "    }\n",
       "\n",
       "    .dataframe tbody tr th {\n",
       "        vertical-align: top;\n",
       "    }\n",
       "\n",
       "    .dataframe thead th {\n",
       "        text-align: right;\n",
       "    }\n",
       "</style>\n",
       "<table border=\"1\" class=\"dataframe\">\n",
       "  <thead>\n",
       "    <tr style=\"text-align: right;\">\n",
       "      <th></th>\n",
       "      <th>bedrooms</th>\n",
       "    </tr>\n",
       "  </thead>\n",
       "  <tbody>\n",
       "    <tr>\n",
       "      <td>823</td>\n",
       "      <td>5</td>\n",
       "    </tr>\n",
       "    <tr>\n",
       "      <td>1329</td>\n",
       "      <td>5</td>\n",
       "    </tr>\n",
       "    <tr>\n",
       "      <td>2879</td>\n",
       "      <td>5</td>\n",
       "    </tr>\n",
       "    <tr>\n",
       "      <td>4011</td>\n",
       "      <td>5</td>\n",
       "    </tr>\n",
       "    <tr>\n",
       "      <td>4251</td>\n",
       "      <td>5</td>\n",
       "    </tr>\n",
       "    <tr>\n",
       "      <td>...</td>\n",
       "      <td>...</td>\n",
       "    </tr>\n",
       "    <tr>\n",
       "      <td>44260</td>\n",
       "      <td>5</td>\n",
       "    </tr>\n",
       "    <tr>\n",
       "      <td>44426</td>\n",
       "      <td>5</td>\n",
       "    </tr>\n",
       "    <tr>\n",
       "      <td>44457</td>\n",
       "      <td>5</td>\n",
       "    </tr>\n",
       "    <tr>\n",
       "      <td>46084</td>\n",
       "      <td>5</td>\n",
       "    </tr>\n",
       "    <tr>\n",
       "      <td>46112</td>\n",
       "      <td>5</td>\n",
       "    </tr>\n",
       "  </tbody>\n",
       "</table>\n",
       "<p>79 rows × 1 columns</p>\n",
       "</div>"
      ],
      "text/plain": [
       "       bedrooms\n",
       "823           5\n",
       "1329          5\n",
       "2879          5\n",
       "4011          5\n",
       "4251          5\n",
       "...         ...\n",
       "44260         5\n",
       "44426         5\n",
       "44457         5\n",
       "46084         5\n",
       "46112         5\n",
       "\n",
       "[79 rows x 1 columns]"
      ]
     },
     "metadata": {},
     "output_type": "display_data"
    },
    {
     "data": {
      "text/html": [
       "<div>\n",
       "<style scoped>\n",
       "    .dataframe tbody tr th:only-of-type {\n",
       "        vertical-align: middle;\n",
       "    }\n",
       "\n",
       "    .dataframe tbody tr th {\n",
       "        vertical-align: top;\n",
       "    }\n",
       "\n",
       "    .dataframe thead th {\n",
       "        text-align: right;\n",
       "    }\n",
       "</style>\n",
       "<table border=\"1\" class=\"dataframe\">\n",
       "  <thead>\n",
       "    <tr style=\"text-align: right;\">\n",
       "      <th></th>\n",
       "      <th>outlier_counts</th>\n",
       "    </tr>\n",
       "  </thead>\n",
       "  <tbody>\n",
       "    <tr>\n",
       "      <td>latitude</td>\n",
       "      <td>4</td>\n",
       "    </tr>\n",
       "    <tr>\n",
       "      <td>longitude</td>\n",
       "      <td>12</td>\n",
       "    </tr>\n",
       "    <tr>\n",
       "      <td>price</td>\n",
       "      <td>2512</td>\n",
       "    </tr>\n",
       "    <tr>\n",
       "      <td>bathrooms</td>\n",
       "      <td>18</td>\n",
       "    </tr>\n",
       "    <tr>\n",
       "      <td>bedrooms</td>\n",
       "      <td>79</td>\n",
       "    </tr>\n",
       "  </tbody>\n",
       "</table>\n",
       "</div>"
      ],
      "text/plain": [
       "          outlier_counts\n",
       "latitude               4\n",
       "longitude             12\n",
       "price               2512\n",
       "bathrooms             18\n",
       "bedrooms              79"
      ]
     },
     "metadata": {},
     "output_type": "display_data"
    }
   ],
   "source": [
    "# See the tabularized counts\n",
    "display(bedrooms.groupby(['bedrooms']).size())\n",
    "\n",
    "# Select number of bedrooms outside the reasonable/acceptable range of 0 to 4\n",
    "row, column = np.where(bedrooms.applymap(lambda x: x > 4))\n",
    "display(bedrooms.iloc[row])\n",
    "\n",
    "# Save the number of outliers\n",
    "outlier_counts.loc['bedrooms'] = bedrooms.iloc[row].count().values\n",
    "display(outlier_counts)"
   ]
  },
  {
   "cell_type": "code",
   "execution_count": 52,
   "metadata": {},
   "outputs": [
    {
     "data": {
      "text/plain": [
       "bathrooms          43528\n",
       "bedrooms           43528\n",
       "building_id        43528\n",
       "created            43528\n",
       "description        43528\n",
       "display_address    43528\n",
       "features           43528\n",
       "interest_level     43528\n",
       "latitude           43528\n",
       "listing_id         43528\n",
       "longitude          43528\n",
       "manager_id         43528\n",
       "photos             40445\n",
       "price              43528\n",
       "street_address     43528\n",
       "dtype: int64"
      ]
     },
     "metadata": {},
     "output_type": "display_data"
    },
    {
     "data": {
      "text/plain": [
       "0"
      ]
     },
     "metadata": {},
     "output_type": "display_data"
    },
    {
     "data": {
      "text/plain": [
       "4"
      ]
     },
     "metadata": {},
     "output_type": "display_data"
    }
   ],
   "source": [
    "# Dropping the outlier rows\n",
    "trainData = trainData.drop(trainData.index[row], errors='ignore')\n",
    "display(trainData.count())\n",
    "display(trainData.bedrooms.min(), trainData.bedrooms.max())"
   ]
  },
  {
   "cell_type": "code",
   "execution_count": 53,
   "metadata": {},
   "outputs": [
    {
     "data": {
      "image/png": "[encoded data removed]",
      "text/plain": [
       "<Figure size 576x432 with 1 Axes>"
      ]
     },
     "metadata": {
      "needs_background": "light"
     },
     "output_type": "display_data"
    }
   ],
   "source": [
    "plt.figure(figsize=(8,6))\n",
    "plt.title(\"Trimmed #Bedrooms Counts Distribution\")\n",
    "plt.xlabel(\"#Bedrooms\")\n",
    "plt.ylabel(\"Count\")\n",
    "sns.distplot(trainData.bedrooms.values)\n",
    "# plt.show()\n",
    "plt.savefig(\"figures_saved/dist_bedrooms_trim\")"
   ]
  },
  {
   "cell_type": "code",
   "execution_count": 54,
   "metadata": {},
   "outputs": [
    {
     "data": {
      "image/png": "[encoded data removed]",
      "text/plain": [
       "<Figure size 576x432 with 1 Axes>"
      ]
     },
     "metadata": {
      "needs_background": "light"
     },
     "output_type": "display_data"
    }
   ],
   "source": [
    "plt.figure(figsize=(8,6))\n",
    "plt.title(\"Trimmed #Bedrooms Boxplot Distribution\")\n",
    "plt.xlabel(\"#Bedrooms\")\n",
    "ax = sns.boxplot(trainData.bedrooms.values)\n",
    "# plt.show()\n",
    "plt.savefig(\"figures_saved/boxplot_bedrooms_trim\")"
   ]
  },
  {
   "cell_type": "markdown",
   "metadata": {},
   "source": [
    "### Date Created"
   ]
  },
  {
   "cell_type": "code",
   "execution_count": 55,
   "metadata": {
    "scrolled": true
   },
   "outputs": [
    {
     "data": {
      "text/html": [
       "<div>\n",
       "<style scoped>\n",
       "    .dataframe tbody tr th:only-of-type {\n",
       "        vertical-align: middle;\n",
       "    }\n",
       "\n",
       "    .dataframe tbody tr th {\n",
       "        vertical-align: top;\n",
       "    }\n",
       "\n",
       "    .dataframe thead th {\n",
       "        text-align: right;\n",
       "    }\n",
       "</style>\n",
       "<table border=\"1\" class=\"dataframe\">\n",
       "  <thead>\n",
       "    <tr style=\"text-align: right;\">\n",
       "      <th></th>\n",
       "      <th>created</th>\n",
       "    </tr>\n",
       "  </thead>\n",
       "  <tbody>\n",
       "    <tr>\n",
       "      <td>0</td>\n",
       "      <td>2016-06-24 07:55:11</td>\n",
       "    </tr>\n",
       "    <tr>\n",
       "      <td>1</td>\n",
       "      <td>2016-04-29 03:29:11</td>\n",
       "    </tr>\n",
       "    <tr>\n",
       "      <td>2</td>\n",
       "      <td>2016-06-17 01:22:28</td>\n",
       "    </tr>\n",
       "    <tr>\n",
       "      <td>3</td>\n",
       "      <td>2016-06-08 01:12:34</td>\n",
       "    </tr>\n",
       "    <tr>\n",
       "      <td>4</td>\n",
       "      <td>2016-06-11 01:27:45</td>\n",
       "    </tr>\n",
       "    <tr>\n",
       "      <td>...</td>\n",
       "      <td>...</td>\n",
       "    </tr>\n",
       "    <tr>\n",
       "      <td>46148</td>\n",
       "      <td>2016-04-05 03:58:33</td>\n",
       "    </tr>\n",
       "    <tr>\n",
       "      <td>46149</td>\n",
       "      <td>2016-04-02 02:25:31</td>\n",
       "    </tr>\n",
       "    <tr>\n",
       "      <td>46150</td>\n",
       "      <td>2016-04-26 05:42:03</td>\n",
       "    </tr>\n",
       "    <tr>\n",
       "      <td>46151</td>\n",
       "      <td>2016-04-19 02:47:33</td>\n",
       "    </tr>\n",
       "    <tr>\n",
       "      <td>46152</td>\n",
       "      <td>2016-04-20 05:34:00</td>\n",
       "    </tr>\n",
       "  </tbody>\n",
       "</table>\n",
       "<p>43528 rows × 1 columns</p>\n",
       "</div>"
      ],
      "text/plain": [
       "                  created\n",
       "0     2016-06-24 07:55:11\n",
       "1     2016-04-29 03:29:11\n",
       "2     2016-06-17 01:22:28\n",
       "3     2016-06-08 01:12:34\n",
       "4     2016-06-11 01:27:45\n",
       "...                   ...\n",
       "46148 2016-04-05 03:58:33\n",
       "46149 2016-04-02 02:25:31\n",
       "46150 2016-04-26 05:42:03\n",
       "46151 2016-04-19 02:47:33\n",
       "46152 2016-04-20 05:34:00\n",
       "\n",
       "[43528 rows x 1 columns]"
      ]
     },
     "execution_count": 55,
     "metadata": {},
     "output_type": "execute_result"
    }
   ],
   "source": [
    "dateCreated = trainData[['created']]\n",
    "dateCreated"
   ]
  },
  {
   "cell_type": "code",
   "execution_count": 56,
   "metadata": {},
   "outputs": [
    {
     "name": "stderr",
     "output_type": "stream",
     "text": [
      "C:\\Users\\HP\\Anaconda3\\lib\\site-packages\\pandas\\plotting\\_matplotlib\\converter.py:103: FutureWarning: Using an implicitly registered datetime converter for a matplotlib plotting method. The converter was registered by pandas on import. Future versions of pandas will require you to explicitly register matplotlib converters.\n",
      "\n",
      "To register the converters:\n",
      "\t>>> from pandas.plotting import register_matplotlib_converters\n",
      "\t>>> register_matplotlib_converters()\n",
      "  warnings.warn(msg, FutureWarning)\n"
     ]
    },
    {
     "data": {
      "image/png": "[encoded data removed]",
      "text/plain": [
       "<Figure size 2160x720 with 1 Axes>"
      ]
     },
     "metadata": {
      "needs_background": "light"
     },
     "output_type": "display_data"
    }
   ],
   "source": [
    "plt.figure(figsize=(30,10))\n",
    "plt.title(\"Date-Created Counts Distribution\")\n",
    "plt.xlabel(\"Date-Created\")\n",
    "plt.ylabel(\"Count\")\n",
    "\n",
    "# dateCreated.created = dateCreated.created.astype(\"datetime64\")\n",
    "# dateCreated.resample('D', level=0)\n",
    "# dateCreated.created.to_period('D')\n",
    "\n",
    "# sns.distplot(dateCreated.values)\n",
    "# sns.tsplot(dateCreated.values)\n",
    "\n",
    "from pandas.plotting import register_matplotlib_converters\n",
    "register_matplotlib_converters()\n",
    "plt.hist(dateCreated.created, bins=92) # 92 days = 30+31+30+1\n",
    "\n",
    "# ax = dateCreated.groupby([dateCreated.created.dt.month, dateCreated.created.dt.day]).count().plot(kind=\"bar\")\n",
    "\n",
    "# ax = plt.gca()\n",
    "# ax.hist(dateCreated.created.values)\n",
    "\n",
    "plt.show()\n",
    "# plt.savefig(\"figures_saved/dist_date-created\")"
   ]
  },
  {
   "cell_type": "markdown",
   "metadata": {},
   "source": [
    "## Final Check After All Outlier Analyses and Removals"
   ]
  },
  {
   "cell_type": "code",
   "execution_count": 57,
   "metadata": {},
   "outputs": [
    {
     "data": {
      "image/png": "[encoded data removed]",
      "text/plain": [
       "<Figure size 288x288 with 1 Axes>"
      ]
     },
     "metadata": {
      "needs_background": "light"
     },
     "output_type": "display_data"
    }
   ],
   "source": [
    "# Check resulting data\n",
    "# display(trainData)\n",
    "\n",
    "# Tabularize counts of outliers\n",
    "fig, ax = plt.subplots(figsize=(4, 4))\n",
    "ax.set_frame_on(False)  # no visible frame\n",
    "ax.xaxis.set_visible(False)  # hide the x axis\n",
    "ax.yaxis.set_visible(False)  # hide the y axis\n",
    "\n",
    "# table(ax, df_missing_counts)\n",
    "tabla = table(ax, outlier_counts, loc='upper right', colWidths=[0.3])  # where df is your data frame\n",
    "tabla.auto_set_font_size(False) # Activate set fontsize manually\n",
    "tabla.set_fontsize(12) # if ++fontsize is necessary ++colWidths\n",
    "tabla.scale(1.5, 1.5) # change size table\n",
    "plt.savefig(\"figures_saved/table_outlier-counts\", transparent=True)"
   ]
  },
  {
   "cell_type": "markdown",
   "metadata": {},
   "source": [
    "## Save Processed Dataset"
   ]
  },
  {
   "cell_type": "code",
   "execution_count": 58,
   "metadata": {},
   "outputs": [],
   "source": [
    "trainDataWithoutOutlierDir = \"dataset/two-sigma-connect-rental-listing-inquiries/trainCleanedOutlier.json.zip\"\n",
    "trainData.to_json(trainDataWithoutOutlierDir)"
   ]
  }
 ],
 "metadata": {
  "kernelspec": {
   "display_name": "Python 3",
   "language": "python",
   "name": "python3"
  },
  "language_info": {
   "codemirror_mode": {
    "name": "ipython",
    "version": 3
   },
   "file_extension": ".py",
   "mimetype": "text/x-python",
   "name": "python",
   "nbconvert_exporter": "python",
   "pygments_lexer": "ipython3",
   "version": "3.7.6"
  }
 },
 "nbformat": 4,
 "nbformat_minor": 2
}
