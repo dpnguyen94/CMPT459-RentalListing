{
 "cells": [
  {
   "cell_type": "code",
   "execution_count": 1,
   "metadata": {},
   "outputs": [],
   "source": [
    "from scipy import stats\n",
    "import numpy as np\n",
    "import pandas as pd\n",
    "import matplotlib.pyplot as plt\n",
    "import re\n",
    "from pandas.plotting import table\n",
    "import seaborn as sns\n",
    "\n",
    "import xgboost as xgb\n",
    "from sklearn.preprocessing import LabelEncoder, RobustScaler\n",
    "from sklearn.model_selection import train_test_split, KFold, RandomizedSearchCV, StratifiedKFold, GridSearchCV\n",
    "from sklearn import tree\n",
    "from sklearn import metrics\n",
    "\n",
    "%matplotlib inline\n",
    "sns.set(color_codes=True)"
   ]
  },
  {
   "cell_type": "markdown",
   "metadata": {},
   "source": [
    "# Training XGBoost Model"
   ]
  },
  {
   "cell_type": "code",
   "execution_count": 2,
   "metadata": {
    "scrolled": true
   },
   "outputs": [],
   "source": [
    "# trainTextExtract.json.zip is the latest version of training data!!\n",
    "trainCleaned = \"dataset/two-sigma-connect-rental-listing-inquiries/trainTextExtract.json.zip\"\n",
    "trainData = pd.read_json(trainCleaned, convert_dates=['created'])\n",
    "# processed testData\n",
    "testDataDir = \"dataset/two-sigma-connect-rental-listing-inquiries/testTextExtract.json.zip\"\n",
    "testData = pd.read_json(testDataDir, convert_dates=['created'])"
   ]
  },
  {
   "cell_type": "code",
   "execution_count": 3,
   "metadata": {},
   "outputs": [
    {
     "data": {
      "text/plain": [
       "Index(['bathrooms', 'bedrooms', 'building_id', 'created', 'description',\n",
       "       'display_address', 'features', 'interest_level', 'latitude',\n",
       "       'listing_id', 'longitude', 'manager_id', 'photos', 'price',\n",
       "       'street_address', 'grayscale_hist', 'avg_pixel_values', 'num_photos',\n",
       "       'desc_word_count', 'desc_char_count', 'desc_avg_word_length',\n",
       "       'desc_special_char_count', 'desc_num_count', 'desc_upper_count',\n",
       "       'num_features', 'year', 'month', 'day'],\n",
       "      dtype='object')"
      ]
     },
     "execution_count": 3,
     "metadata": {},
     "output_type": "execute_result"
    }
   ],
   "source": [
    "trainData.columns"
   ]
  },
  {
   "cell_type": "markdown",
   "metadata": {},
   "source": [
    "## Choosing features for prediction\n",
    "\n",
    "The features listed should be necessary for prediction <br/>\n",
    "- Bathrooms<br/>\n",
    "Reason: Interest levels depends on the number of bathrooms a listing has  \n",
    "- Bedrooms<br/>\n",
    "Reason: Interest levels depends on the number of bedrooms a listing has\n",
    "- Price <br/>\n",
    "Reason: Interest levels depends on the listing price\n",
    "- Year, Month, Date<br/>\n",
    "Reason: if the user is planning to move out to another location within a specific time frame, interest may be higher\n",
    "- Description Word Count (desc_word_count)<br/>\n",
    "Reason: descriptions with more words could mean very detailed description which lead to higher interest\n",
    "- Description Average Word Length(desc_avg_word_length)<br/>\n",
    "Reason: large average word length could mean very detailed description which lead to higher interest\n",
    "- Number of features (num_features)<br/>\n",
    "Reason: more features within a listing could lead to more interest\n",
    "- Latitude + Longitude <br/>\n",
    "Reason: interest could be higher on specific area of New York"
   ]
  },
  {
   "cell_type": "code",
   "execution_count": 8,
   "metadata": {},
   "outputs": [
    {
     "data": {
      "text/html": [
       "<div>\n",
       "<style scoped>\n",
       "    .dataframe tbody tr th:only-of-type {\n",
       "        vertical-align: middle;\n",
       "    }\n",
       "\n",
       "    .dataframe tbody tr th {\n",
       "        vertical-align: top;\n",
       "    }\n",
       "\n",
       "    .dataframe thead th {\n",
       "        text-align: right;\n",
       "    }\n",
       "</style>\n",
       "<table border=\"1\" class=\"dataframe\">\n",
       "  <thead>\n",
       "    <tr style=\"text-align: right;\">\n",
       "      <th></th>\n",
       "      <th>bathrooms</th>\n",
       "      <th>bedrooms</th>\n",
       "      <th>price</th>\n",
       "      <th>year</th>\n",
       "      <th>month</th>\n",
       "      <th>day</th>\n",
       "      <th>desc_word_count</th>\n",
       "      <th>desc_avg_word_length</th>\n",
       "      <th>num_features</th>\n",
       "      <th>latitude</th>\n",
       "      <th>longitude</th>\n",
       "      <th>num_photos</th>\n",
       "    </tr>\n",
       "  </thead>\n",
       "  <tbody>\n",
       "    <tr>\n",
       "      <th>0</th>\n",
       "      <td>2.0</td>\n",
       "      <td>3</td>\n",
       "      <td>3050</td>\n",
       "      <td>2016</td>\n",
       "      <td>6</td>\n",
       "      <td>24</td>\n",
       "      <td>183</td>\n",
       "      <td>6.044199</td>\n",
       "      <td>8</td>\n",
       "      <td>40.6678</td>\n",
       "      <td>-73.9398</td>\n",
       "      <td>8</td>\n",
       "    </tr>\n",
       "    <tr>\n",
       "      <th>1</th>\n",
       "      <td>2.0</td>\n",
       "      <td>3</td>\n",
       "      <td>3100</td>\n",
       "      <td>2016</td>\n",
       "      <td>4</td>\n",
       "      <td>29</td>\n",
       "      <td>44</td>\n",
       "      <td>7.477273</td>\n",
       "      <td>0</td>\n",
       "      <td>40.6678</td>\n",
       "      <td>-73.9398</td>\n",
       "      <td>10</td>\n",
       "    </tr>\n",
       "    <tr>\n",
       "      <th>2</th>\n",
       "      <td>1.0</td>\n",
       "      <td>1</td>\n",
       "      <td>2850</td>\n",
       "      <td>2016</td>\n",
       "      <td>6</td>\n",
       "      <td>17</td>\n",
       "      <td>32</td>\n",
       "      <td>6.225806</td>\n",
       "      <td>3</td>\n",
       "      <td>40.7287</td>\n",
       "      <td>-73.9810</td>\n",
       "      <td>3</td>\n",
       "    </tr>\n",
       "    <tr>\n",
       "      <th>3</th>\n",
       "      <td>1.0</td>\n",
       "      <td>3</td>\n",
       "      <td>4200</td>\n",
       "      <td>2016</td>\n",
       "      <td>6</td>\n",
       "      <td>8</td>\n",
       "      <td>62</td>\n",
       "      <td>5.393443</td>\n",
       "      <td>3</td>\n",
       "      <td>40.7287</td>\n",
       "      <td>-73.9810</td>\n",
       "      <td>6</td>\n",
       "    </tr>\n",
       "    <tr>\n",
       "      <th>4</th>\n",
       "      <td>1.0</td>\n",
       "      <td>1</td>\n",
       "      <td>2850</td>\n",
       "      <td>2016</td>\n",
       "      <td>6</td>\n",
       "      <td>11</td>\n",
       "      <td>134</td>\n",
       "      <td>4.684211</td>\n",
       "      <td>3</td>\n",
       "      <td>40.7287</td>\n",
       "      <td>-73.9810</td>\n",
       "      <td>4</td>\n",
       "    </tr>\n",
       "  </tbody>\n",
       "</table>\n",
       "</div>"
      ],
      "text/plain": [
       "   bathrooms  bedrooms  price  year  month  day  desc_word_count  \\\n",
       "0        2.0         3   3050  2016      6   24              183   \n",
       "1        2.0         3   3100  2016      4   29               44   \n",
       "2        1.0         1   2850  2016      6   17               32   \n",
       "3        1.0         3   4200  2016      6    8               62   \n",
       "4        1.0         1   2850  2016      6   11              134   \n",
       "\n",
       "   desc_avg_word_length  num_features  latitude  longitude  num_photos  \n",
       "0              6.044199             8   40.6678   -73.9398           8  \n",
       "1              7.477273             0   40.6678   -73.9398          10  \n",
       "2              6.225806             3   40.7287   -73.9810           3  \n",
       "3              5.393443             3   40.7287   -73.9810           6  \n",
       "4              4.684211             3   40.7287   -73.9810           4  "
      ]
     },
     "execution_count": 8,
     "metadata": {},
     "output_type": "execute_result"
    }
   ],
   "source": [
    "featuresToSelect = ['bathrooms', 'bedrooms', 'price', 'year', 'month', 'day', 'desc_word_count', 'desc_avg_word_length', 'num_features', 'latitude', 'longitude', 'num_photos']\n",
    "X = trainData[featuresToSelect]\n",
    "testX = testData[featuresToSelect]\n",
    "X.head(5)"
   ]
  },
  {
   "cell_type": "markdown",
   "metadata": {},
   "source": [
    "## Transform target variable to binary codes\n",
    "References: <br/>\n",
    "https://scikit-learn.org/stable/modules/generated/sklearn.preprocessing.LabelEncoder.html\n"
   ]
  },
  {
   "cell_type": "code",
   "execution_count": 9,
   "metadata": {},
   "outputs": [
    {
     "data": {
      "text/plain": [
       "array([1, 1, 1, ..., 2, 2, 0])"
      ]
     },
     "execution_count": 9,
     "metadata": {},
     "output_type": "execute_result"
    }
   ],
   "source": [
    "#This works also:\n",
    "#target = trainData[['interest_level']].astype('category')\n",
    "#y = target['interest_level'].cat.codes\n",
    "le=LabelEncoder()\n",
    "target = trainData[['interest_level']]\n",
    "y = le.fit_transform(target['interest_level'])\n",
    "y"
   ]
  },
  {
   "cell_type": "markdown",
   "metadata": {},
   "source": [
    "## Creating XGB Model\n",
    "Library used for classifier: sklearn.tree.DecisionTreeClassifier <br/>\n",
    "Note for log loss score: log_loss_score > 1 <=> prediction is inaccurate/wrong <br/>\n",
    "References: <br/>\n",
    "https://markhneedham.com/blog/2016/09/14/scikit-learn-first-steps-with-log_loss/ <br/>\n",
    "https://rpmcruz.github.io/machine%20learning/2018/02/09/probabilities-trees.html <br/>\n",
    "https://stackoverflow.com/questions/33616102/sklearn-log-loss-different-number-of-classes/42953278 <br/>\n",
    "https://towardsdatascience.com/train-val-split-and-cross-validation-in-python-80b61beca4b6"
   ]
  },
  {
   "cell_type": "markdown",
   "metadata": {},
   "source": [
    "### Original\n",
    "Training: Evaluate model using log loss <br/>\n",
    "Testing: Output prediction probabilities for test dataset <br/>\n",
    "All parameters of the model should have its default values for initialization"
   ]
  },
  {
   "cell_type": "code",
   "execution_count": 33,
   "metadata": {},
   "outputs": [
    {
     "name": "stdout",
     "output_type": "stream",
     "text": [
      "0.6984858881744934\n"
     ]
    }
   ],
   "source": [
    "model = xgb.XGBClassifier()\n",
    "acc_scores = []\n",
    "kf = StratifiedKFold(n_splits=5)\n",
    "for train_index, val_index in kf.split(X, y):\n",
    "    train_X, val_X = X.iloc[train_index,:], X.iloc[val_index,:]\n",
    "    train_y, val_y = y[train_index], y[val_index]\n",
    "    model.fit(train_X, train_y)\n",
    "    val_y_pred = model.predict_proba(val_X)\n",
    "    score = metrics.log_loss(val_y, val_y_pred)\n",
    "    acc_scores.append(score)\n",
    "print(np.mean(acc_scores))"
   ]
  },
  {
   "cell_type": "code",
   "execution_count": 34,
   "metadata": {
    "scrolled": false
   },
   "outputs": [
    {
     "data": {
      "text/html": [
       "<div>\n",
       "<style scoped>\n",
       "    .dataframe tbody tr th:only-of-type {\n",
       "        vertical-align: middle;\n",
       "    }\n",
       "\n",
       "    .dataframe tbody tr th {\n",
       "        vertical-align: top;\n",
       "    }\n",
       "\n",
       "    .dataframe thead th {\n",
       "        text-align: right;\n",
       "    }\n",
       "</style>\n",
       "<table border=\"1\" class=\"dataframe\">\n",
       "  <thead>\n",
       "    <tr style=\"text-align: right;\">\n",
       "      <th></th>\n",
       "      <th>high</th>\n",
       "      <th>low</th>\n",
       "      <th>medium</th>\n",
       "      <th>listing_id</th>\n",
       "    </tr>\n",
       "  </thead>\n",
       "  <tbody>\n",
       "    <tr>\n",
       "      <th>0</th>\n",
       "      <td>0.087866</td>\n",
       "      <td>0.487050</td>\n",
       "      <td>0.425083</td>\n",
       "      <td>7142618</td>\n",
       "    </tr>\n",
       "    <tr>\n",
       "      <th>1</th>\n",
       "      <td>0.297210</td>\n",
       "      <td>0.370430</td>\n",
       "      <td>0.332360</td>\n",
       "      <td>7210040</td>\n",
       "    </tr>\n",
       "    <tr>\n",
       "      <th>2</th>\n",
       "      <td>0.116790</td>\n",
       "      <td>0.546299</td>\n",
       "      <td>0.336911</td>\n",
       "      <td>7174566</td>\n",
       "    </tr>\n",
       "    <tr>\n",
       "      <th>3</th>\n",
       "      <td>0.389089</td>\n",
       "      <td>0.222792</td>\n",
       "      <td>0.388120</td>\n",
       "      <td>7191391</td>\n",
       "    </tr>\n",
       "    <tr>\n",
       "      <th>4</th>\n",
       "      <td>0.014250</td>\n",
       "      <td>0.888996</td>\n",
       "      <td>0.096754</td>\n",
       "      <td>7171695</td>\n",
       "    </tr>\n",
       "    <tr>\n",
       "      <th>...</th>\n",
       "      <td>...</td>\n",
       "      <td>...</td>\n",
       "      <td>...</td>\n",
       "      <td>...</td>\n",
       "    </tr>\n",
       "    <tr>\n",
       "      <th>74654</th>\n",
       "      <td>0.322781</td>\n",
       "      <td>0.478013</td>\n",
       "      <td>0.199205</td>\n",
       "      <td>6928108</td>\n",
       "    </tr>\n",
       "    <tr>\n",
       "      <th>74655</th>\n",
       "      <td>0.035355</td>\n",
       "      <td>0.722697</td>\n",
       "      <td>0.241948</td>\n",
       "      <td>6906674</td>\n",
       "    </tr>\n",
       "    <tr>\n",
       "      <th>74656</th>\n",
       "      <td>0.045509</td>\n",
       "      <td>0.684757</td>\n",
       "      <td>0.269734</td>\n",
       "      <td>6897967</td>\n",
       "    </tr>\n",
       "    <tr>\n",
       "      <th>74657</th>\n",
       "      <td>0.000754</td>\n",
       "      <td>0.975588</td>\n",
       "      <td>0.023658</td>\n",
       "      <td>6842183</td>\n",
       "    </tr>\n",
       "    <tr>\n",
       "      <th>74658</th>\n",
       "      <td>0.033931</td>\n",
       "      <td>0.558146</td>\n",
       "      <td>0.407924</td>\n",
       "      <td>6889319</td>\n",
       "    </tr>\n",
       "  </tbody>\n",
       "</table>\n",
       "<p>74659 rows × 4 columns</p>\n",
       "</div>"
      ],
      "text/plain": [
       "           high       low    medium  listing_id\n",
       "0      0.087866  0.487050  0.425083     7142618\n",
       "1      0.297210  0.370430  0.332360     7210040\n",
       "2      0.116790  0.546299  0.336911     7174566\n",
       "3      0.389089  0.222792  0.388120     7191391\n",
       "4      0.014250  0.888996  0.096754     7171695\n",
       "...         ...       ...       ...         ...\n",
       "74654  0.322781  0.478013  0.199205     6928108\n",
       "74655  0.035355  0.722697  0.241948     6906674\n",
       "74656  0.045509  0.684757  0.269734     6897967\n",
       "74657  0.000754  0.975588  0.023658     6842183\n",
       "74658  0.033931  0.558146  0.407924     6889319\n",
       "\n",
       "[74659 rows x 4 columns]"
      ]
     },
     "execution_count": 34,
     "metadata": {},
     "output_type": "execute_result"
    }
   ],
   "source": [
    "preds = model.predict_proba(testX)\n",
    "out_df = pd.DataFrame(preds)\n",
    "out_df.columns = le.classes_\n",
    "out_df[\"listing_id\"] = testData.listing_id.values\n",
    "out_df"
   ]
  },
  {
   "cell_type": "code",
   "execution_count": 35,
   "metadata": {},
   "outputs": [],
   "source": [
    "out_df.to_csv(\"XGBOriginal.csv\", index=False)"
   ]
  },
  {
   "cell_type": "markdown",
   "metadata": {},
   "source": [
    "## Detecting overfitting with original model\n",
    "Since <b>max_depth</b>, <b>min_child_weight</b> and <b>Gamma</b> all controls overfiting, we can adjust the parameters accordingly to monitor how overfitting occurs <br/> <br/>\n",
    "Method: Compute accuracy score for training and validation set for <b>max_depth</b>, <b>min_child_weight</b> and <b>Gamma</b>, then plot it <br/>\n",
    "If accuracy of validation is significantly lower than training accuracy and validation is decreasing as the parameters increase -> overfit <br/>\n",
    "https://datascience.stackexchange.com/questions/9758/overfitting-underfitting-with-data-set-size/9760#9760 <br/>"
   ]
  },
  {
   "cell_type": "code",
   "execution_count": 20,
   "metadata": {
    "scrolled": true
   },
   "outputs": [
    {
     "data": {
      "text/plain": [
       "[]"
      ]
     },
     "execution_count": 20,
     "metadata": {},
     "output_type": "execute_result"
    },
    {
     "data": {
      "image/png": "[encoded data removed]",
      "text/plain": [
       "<Figure size 1080x720 with 1 Axes>"
      ]
     },
     "metadata": {
      "needs_background": "light"
     },
     "output_type": "display_data"
    }
   ],
   "source": [
    "max_depth_list = np.linspace(1,15, num=15)\n",
    "\n",
    "train_accuracy = [] # Log training errors for each model\n",
    "test_accuracy = [] # Log testing errors for each model\n",
    "\n",
    "X_train, X_test, y_train, y_test = train_test_split(X, y)\n",
    "\n",
    "for x in max_depth_list:\n",
    "    model = xgb.XGBClassifier(max_depth=int(x)) \n",
    "    model.fit(X_train,y_train)\n",
    "    train_accuracy.append(model.score(X_train, y_train))\n",
    "    test_accuracy.append(model.score(X_test, y_test))\n",
    "\n",
    "x = np.arange(len(max_depth_list)) + 1 # Create domain for plot\n",
    "plt.figure(figsize=(15,10))\n",
    "plt.xticks(x)\n",
    "plt.plot(x, train_accuracy, label='Training Accuracy') # Plot training error over domain\n",
    "plt.plot(x, test_accuracy, label='Testing Accuracy') # Plot testing error over domain\n",
    "plt.xlabel('Maximum Tree Depth') # Label x-axis\n",
    "plt.ylabel('Model Accuracy') # Label y-axis\n",
    "plt.legend() # Show plot labels as legend\n",
    "plt.plot() # Show graph"
   ]
  },
  {
   "cell_type": "code",
   "execution_count": 19,
   "metadata": {},
   "outputs": [
    {
     "data": {
      "text/plain": [
       "[]"
      ]
     },
     "execution_count": 19,
     "metadata": {},
     "output_type": "execute_result"
    },
    {
     "data": {
      "image/png": "[encoded data removed]",
      "text/plain": [
       "<Figure size 720x720 with 1 Axes>"
      ]
     },
     "metadata": {
      "needs_background": "light"
     },
     "output_type": "display_data"
    }
   ],
   "source": [
    "min_child_weight_list = range(1,6,2)\n",
    "\n",
    "train_accuracy = [] # Log training errors for each model\n",
    "test_accuracy = [] # Log testing errors for each model\n",
    "\n",
    "X_train, X_test, y_train, y_test = train_test_split(X, y)\n",
    "\n",
    "for x in min_child_weight_list:\n",
    "    model = xgb.XGBClassifier(min_child_weight=int(x)) \n",
    "    model.fit(X_train,y_train)\n",
    "    train_accuracy.append(model.score(X_train, y_train))\n",
    "    test_accuracy.append(model.score(X_test, y_test))\n",
    "\n",
    "x = np.arange(len(min_child_weight_list)) + 1 # Create domain for plot\n",
    "plt.figure(figsize=(10,10))\n",
    "plt.xticks(x)\n",
    "plt.plot(x, train_accuracy, label='Training Accuracy') # Plot training error over domain\n",
    "plt.plot(x, test_accuracy, label='Testing Accuracy') # Plot testing error over domain\n",
    "plt.xlabel('Mimimum Child Weight') # Label x-axis\n",
    "plt.ylabel('Model Accuracy') # Label y-axis\n",
    "plt.legend() # Show plot labels as legend\n",
    "plt.plot() # Show graph"
   ]
  },
  {
   "cell_type": "code",
   "execution_count": 22,
   "metadata": {},
   "outputs": [
    {
     "data": {
      "text/plain": [
       "[]"
      ]
     },
     "execution_count": 22,
     "metadata": {},
     "output_type": "execute_result"
    },
    {
     "data": {
      "image/png": "[encoded data removed]",
      "text/plain": [
       "<Figure size 720x720 with 1 Axes>"
      ]
     },
     "metadata": {
      "needs_background": "light"
     },
     "output_type": "display_data"
    }
   ],
   "source": [
    "gamma_list = [i/10.0 for i in range(0,5)]\n",
    "\n",
    "train_accuracy = [] # Log training errors for each model\n",
    "test_accuracy = [] # Log testing errors for each model\n",
    "\n",
    "X_train, X_test, y_train, y_test = train_test_split(X, y)\n",
    "\n",
    "for x in gamma_list:\n",
    "    model = xgb.XGBClassifier(gamma=x) \n",
    "    model.fit(X_train,y_train)\n",
    "    train_accuracy.append(model.score(X_train, y_train))\n",
    "    test_accuracy.append(model.score(X_test, y_test))\n",
    "\n",
    "x = np.arange(len(gamma_list)) + 1 # Create domain for plot\n",
    "plt.figure(figsize=(10,10))\n",
    "plt.xticks(x)\n",
    "plt.plot(x, train_accuracy, label='Training Accuracy') # Plot training error over domain\n",
    "plt.plot(x, test_accuracy, label='Testing Accuracy') # Plot testing error over domain\n",
    "plt.xlabel('Gamma') # Label x-axis\n",
    "plt.ylabel('Model Accuracy') # Label y-axis\n",
    "plt.legend() # Show plot labels as legend\n",
    "plt.plot() # Show graph"
   ]
  },
  {
   "cell_type": "markdown",
   "metadata": {},
   "source": [
    "## Improving XGB Model\n",
    "Side Note: 5-fold should generate enough instances to validate the model due to large number of records\n",
    "\n",
    "Using RandomizedSearchCV for cv = 5 <br/>\n",
    "Randomized Search is more efficient on larger dataset while still yield the top accuracy<br/>\n",
    "References: <br/>\n",
    "https://stackoverflow.com/questions/33616102/sklearn-log-loss-different-number-of-classes/42953278 <br/>\n",
    "https://www.analyticsvidhya.com/blog/2016/03/complete-guide-parameter-tuning-xgboost-with-codes-python/ <br/>\n",
    "https://towardsdatascience.com/fine-tuning-xgboost-in-python-like-a-boss-b4543ed8b1e <br/>\n",
    "https://medium.com/data-design/xgboost-hi-im-gamma-what-can-i-do-for-you-and-the-tuning-of-regularization-a42ea17e6ab6"
   ]
  },
  {
   "cell_type": "markdown",
   "metadata": {},
   "source": [
    "### Tuning parameters \n",
    "\n",
    "<b>max_depth</b>: <br/>\n",
    "Controls over-fitting. Higher depth will allow model to learn relations very specific to a particular sample. <br/>\n",
    "<b>min_child_weight</b>: <br/>\n",
    "Controls over-fitting. Higher values prevent a model from learning relations which might be highly specific to the particular sample selected for a tree. Too high values can lead to under-fitting <br/>\n",
    "<b> gamma </b>: <br/>\n",
    "Used to control over-fitting (Regularization). <br/>\n",
    "The higher Gamma is, the higher the regularization.<br/>\n",
    "Gamma values around 20 are extremely high, and should be used only when you are using high depth <br/>\n",
    "These add randomness to make training robust to noise. <br/>\n",
    "<b>subsample</b>: <br/>\n",
    "Lower values make the algorithm more conservative and prevents overfitting but too small values might lead to under-fitting. <br/>\n",
    "<b>colsample_bytree</b>: <br/>\n",
    "Instead of using the whole training set every time, we can build a tree on slightly different data at each step, which makes it less likely to overfit to a single sample or feature. <br/>"
   ]
  },
  {
   "cell_type": "markdown",
   "metadata": {},
   "source": [
    "### First version\n",
    "Initialization parameters: <br/>\n",
    "- max_depth = 5 (This should be between 3-10)\n",
    "- min_child_weight = 1 (A smaller value is chosen because it is a highly imbalanced class problem and leaf nodes can have smaller size groups)\n",
    "- gamma = 0 (A smaller value like 0.1-0.2 can also be chosen for starting)\n",
    "- subsample, colsample_bytree = 0.8 (Commonly used used start value. Typical values range between 0.5-0.9)\n",
    "- scale_pos_weight = 1 Because of high class imbalance. \n",
    "- n_estimators = 500 (The number of boosting stages to perform)\n",
    "- learning_rate = 0.1 (Default)\n",
    "- kf = 5 (number of cross-validation fold)\n",
    "<br/> <br/>\n",
    "Reference: https://www.analyticsvidhya.com/blog/2016/03/complete-guide-parameter-tuning-xgboost-with-codes-python/"
   ]
  },
  {
   "cell_type": "code",
   "execution_count": 17,
   "metadata": {},
   "outputs": [
    {
     "name": "stdout",
     "output_type": "stream",
     "text": [
      "0.6823520617633618\n"
     ]
    }
   ],
   "source": [
    "model = xgb.XGBClassifier(\n",
    "    max_depth = 5, \n",
    "    min_child_weight = 1, \n",
    "    gamma = 0, \n",
    "    subsample = 0.8, \n",
    "    colsample_bytree = 0.8, \n",
    "    scale_pos_weight = 1, \n",
    "    n_estimators = 500,\n",
    "    learning_rate = 0.1,\n",
    ")\n",
    "acc_scores = []\n",
    "kf = StratifiedKFold(n_splits=5)\n",
    "for train_index, val_index in kf.split(X, y):\n",
    "    train_X, val_X = X.iloc[train_index,:], X.iloc[val_index,:]\n",
    "    train_y, val_y = y[train_index], y[val_index]\n",
    "    model.fit(train_X, train_y)\n",
    "    val_y_pred = model.predict_proba(val_X)\n",
    "    score = metrics.log_loss(val_y, val_y_pred)\n",
    "    acc_scores.append(score)\n",
    "print(np.mean(acc_scores))"
   ]
  },
  {
   "cell_type": "code",
   "execution_count": 18,
   "metadata": {
    "scrolled": false
   },
   "outputs": [
    {
     "data": {
      "text/html": [
       "<div>\n",
       "<style scoped>\n",
       "    .dataframe tbody tr th:only-of-type {\n",
       "        vertical-align: middle;\n",
       "    }\n",
       "\n",
       "    .dataframe tbody tr th {\n",
       "        vertical-align: top;\n",
       "    }\n",
       "\n",
       "    .dataframe thead th {\n",
       "        text-align: right;\n",
       "    }\n",
       "</style>\n",
       "<table border=\"1\" class=\"dataframe\">\n",
       "  <thead>\n",
       "    <tr style=\"text-align: right;\">\n",
       "      <th></th>\n",
       "      <th>high</th>\n",
       "      <th>low</th>\n",
       "      <th>medium</th>\n",
       "      <th>listing_id</th>\n",
       "    </tr>\n",
       "  </thead>\n",
       "  <tbody>\n",
       "    <tr>\n",
       "      <th>0</th>\n",
       "      <td>0.070656</td>\n",
       "      <td>0.345480</td>\n",
       "      <td>0.583865</td>\n",
       "      <td>7142618</td>\n",
       "    </tr>\n",
       "    <tr>\n",
       "      <th>1</th>\n",
       "      <td>0.240441</td>\n",
       "      <td>0.413085</td>\n",
       "      <td>0.346474</td>\n",
       "      <td>7210040</td>\n",
       "    </tr>\n",
       "    <tr>\n",
       "      <th>2</th>\n",
       "      <td>0.036275</td>\n",
       "      <td>0.764979</td>\n",
       "      <td>0.198745</td>\n",
       "      <td>7174566</td>\n",
       "    </tr>\n",
       "    <tr>\n",
       "      <th>3</th>\n",
       "      <td>0.473826</td>\n",
       "      <td>0.220453</td>\n",
       "      <td>0.305721</td>\n",
       "      <td>7191391</td>\n",
       "    </tr>\n",
       "    <tr>\n",
       "      <th>4</th>\n",
       "      <td>0.013830</td>\n",
       "      <td>0.876480</td>\n",
       "      <td>0.109690</td>\n",
       "      <td>7171695</td>\n",
       "    </tr>\n",
       "    <tr>\n",
       "      <th>...</th>\n",
       "      <td>...</td>\n",
       "      <td>...</td>\n",
       "      <td>...</td>\n",
       "      <td>...</td>\n",
       "    </tr>\n",
       "    <tr>\n",
       "      <th>74654</th>\n",
       "      <td>0.392084</td>\n",
       "      <td>0.310571</td>\n",
       "      <td>0.297345</td>\n",
       "      <td>6928108</td>\n",
       "    </tr>\n",
       "    <tr>\n",
       "      <th>74655</th>\n",
       "      <td>0.018034</td>\n",
       "      <td>0.749481</td>\n",
       "      <td>0.232486</td>\n",
       "      <td>6906674</td>\n",
       "    </tr>\n",
       "    <tr>\n",
       "      <th>74656</th>\n",
       "      <td>0.000800</td>\n",
       "      <td>0.985486</td>\n",
       "      <td>0.013714</td>\n",
       "      <td>6897967</td>\n",
       "    </tr>\n",
       "    <tr>\n",
       "      <th>74657</th>\n",
       "      <td>0.002454</td>\n",
       "      <td>0.962136</td>\n",
       "      <td>0.035410</td>\n",
       "      <td>6842183</td>\n",
       "    </tr>\n",
       "    <tr>\n",
       "      <th>74658</th>\n",
       "      <td>0.038775</td>\n",
       "      <td>0.516453</td>\n",
       "      <td>0.444773</td>\n",
       "      <td>6889319</td>\n",
       "    </tr>\n",
       "  </tbody>\n",
       "</table>\n",
       "<p>74659 rows × 4 columns</p>\n",
       "</div>"
      ],
      "text/plain": [
       "           high       low    medium  listing_id\n",
       "0      0.070656  0.345480  0.583865     7142618\n",
       "1      0.240441  0.413085  0.346474     7210040\n",
       "2      0.036275  0.764979  0.198745     7174566\n",
       "3      0.473826  0.220453  0.305721     7191391\n",
       "4      0.013830  0.876480  0.109690     7171695\n",
       "...         ...       ...       ...         ...\n",
       "74654  0.392084  0.310571  0.297345     6928108\n",
       "74655  0.018034  0.749481  0.232486     6906674\n",
       "74656  0.000800  0.985486  0.013714     6897967\n",
       "74657  0.002454  0.962136  0.035410     6842183\n",
       "74658  0.038775  0.516453  0.444773     6889319\n",
       "\n",
       "[74659 rows x 4 columns]"
      ]
     },
     "execution_count": 18,
     "metadata": {},
     "output_type": "execute_result"
    }
   ],
   "source": [
    "preds = model.predict_proba(testX)\n",
    "out_df = pd.DataFrame(preds)\n",
    "out_df.columns = le.classes_\n",
    "out_df[\"listing_id\"] = testData.listing_id.values\n",
    "out_df"
   ]
  },
  {
   "cell_type": "code",
   "execution_count": 19,
   "metadata": {},
   "outputs": [],
   "source": [
    "out_df.to_csv(\"XGBFirstVers.csv\", index=False)"
   ]
  },
  {
   "cell_type": "markdown",
   "metadata": {},
   "source": [
    "### Second version\n",
    "Using the initialized parameters for tuning"
   ]
  },
  {
   "cell_type": "code",
   "execution_count": 10,
   "metadata": {},
   "outputs": [],
   "source": [
    "grid_params = {\n",
    "    'max_depth':range(3,10,2),\n",
    "    'min_child_weight':range(1,6,2),\n",
    "    'gamma' : [i for i in range(0,5)],\n",
    "    'subsample' : [i/10.0 for i in range(3,8)],\n",
    "    'colsample_bytree' : [i/10.0 for i in range(6,10)]\n",
    "}\n",
    "kf = StratifiedKFold(n_splits=5)\n",
    "model = xgb.XGBClassifier(\n",
    "    max_depth = 5, \n",
    "    min_child_weight = 1, \n",
    "    gamma = 0, \n",
    "    subsample = 0.8, \n",
    "    colsample_bytree = 0.8, \n",
    "    scale_pos_weight = 1, \n",
    "    n_estimators = 500,\n",
    "    learning_rate = 0.1,\n",
    ")\n",
    "grid_object = RandomizedSearchCV(estimator = model, param_distributions = grid_params, scoring = 'neg_log_loss', cv = kf, n_jobs = -1,return_train_score = True)"
   ]
  },
  {
   "cell_type": "code",
   "execution_count": 11,
   "metadata": {},
   "outputs": [
    {
     "data": {
      "text/plain": [
       "RandomizedSearchCV(cv=StratifiedKFold(n_splits=5, random_state=None, shuffle=False),\n",
       "                   error_score='raise-deprecating',\n",
       "                   estimator=XGBClassifier(base_score=None, booster=None,\n",
       "                                           colsample_bylevel=None,\n",
       "                                           colsample_bynode=None,\n",
       "                                           colsample_bytree=0.8, gamma=0,\n",
       "                                           gpu_id=None, importance_type='gain',\n",
       "                                           interaction_constraints=None,\n",
       "                                           learning_rate=0.1,\n",
       "                                           max_delta_step=None, max_dep...\n",
       "                                           validate_parameters=False,\n",
       "                                           verbosity=None),\n",
       "                   iid='warn', n_iter=10, n_jobs=-1,\n",
       "                   param_distributions={'colsample_bytree': [0.6, 0.7, 0.8,\n",
       "                                                             0.9],\n",
       "                                        'gamma': [0, 1, 2, 3, 4],\n",
       "                                        'max_depth': range(3, 10, 2),\n",
       "                                        'min_child_weight': range(1, 6, 2),\n",
       "                                        'subsample': [0.3, 0.4, 0.5, 0.6, 0.7]},\n",
       "                   pre_dispatch='2*n_jobs', random_state=None, refit=True,\n",
       "                   return_train_score=True, scoring='neg_log_loss', verbose=0)"
      ]
     },
     "execution_count": 11,
     "metadata": {},
     "output_type": "execute_result"
    }
   ],
   "source": [
    "grid_object.fit(X,y)"
   ]
  },
  {
   "cell_type": "code",
   "execution_count": 12,
   "metadata": {},
   "outputs": [
    {
     "data": {
      "text/plain": [
       "{'subsample': 0.7,\n",
       " 'min_child_weight': 1,\n",
       " 'max_depth': 5,\n",
       " 'gamma': 2,\n",
       " 'colsample_bytree': 0.9}"
      ]
     },
     "execution_count": 12,
     "metadata": {},
     "output_type": "execute_result"
    }
   ],
   "source": [
    "grid_object.best_params_"
   ]
  },
  {
   "cell_type": "code",
   "execution_count": 13,
   "metadata": {},
   "outputs": [
    {
     "data": {
      "text/plain": [
       "-0.6803757787435246"
      ]
     },
     "execution_count": 13,
     "metadata": {},
     "output_type": "execute_result"
    }
   ],
   "source": [
    "grid_object.best_score_"
   ]
  },
  {
   "cell_type": "code",
   "execution_count": 14,
   "metadata": {},
   "outputs": [
    {
     "data": {
      "text/plain": [
       "<matplotlib.axes._subplots.AxesSubplot at 0x7efefe0ca8d0>"
      ]
     },
     "execution_count": 14,
     "metadata": {},
     "output_type": "execute_result"
    },
    {
     "data": {
      "image/png": "[encoded data removed]",
      "text/plain": [
       "<Figure size 432x288 with 1 Axes>"
      ]
     },
     "metadata": {
      "needs_background": "light"
     },
     "output_type": "display_data"
    }
   ],
   "source": [
    "xgb.plot_importance(grid_object.best_estimator_, importance_type=\"gain\")"
   ]
  },
  {
   "cell_type": "code",
   "execution_count": 15,
   "metadata": {},
   "outputs": [
    {
     "data": {
      "text/html": [
       "<div>\n",
       "<style scoped>\n",
       "    .dataframe tbody tr th:only-of-type {\n",
       "        vertical-align: middle;\n",
       "    }\n",
       "\n",
       "    .dataframe tbody tr th {\n",
       "        vertical-align: top;\n",
       "    }\n",
       "\n",
       "    .dataframe thead th {\n",
       "        text-align: right;\n",
       "    }\n",
       "</style>\n",
       "<table border=\"1\" class=\"dataframe\">\n",
       "  <thead>\n",
       "    <tr style=\"text-align: right;\">\n",
       "      <th></th>\n",
       "      <th>high</th>\n",
       "      <th>low</th>\n",
       "      <th>medium</th>\n",
       "      <th>listing_id</th>\n",
       "    </tr>\n",
       "  </thead>\n",
       "  <tbody>\n",
       "    <tr>\n",
       "      <th>0</th>\n",
       "      <td>0.092483</td>\n",
       "      <td>0.361319</td>\n",
       "      <td>0.546199</td>\n",
       "      <td>7142618</td>\n",
       "    </tr>\n",
       "    <tr>\n",
       "      <th>1</th>\n",
       "      <td>0.243865</td>\n",
       "      <td>0.368333</td>\n",
       "      <td>0.387801</td>\n",
       "      <td>7210040</td>\n",
       "    </tr>\n",
       "    <tr>\n",
       "      <th>2</th>\n",
       "      <td>0.033932</td>\n",
       "      <td>0.745431</td>\n",
       "      <td>0.220637</td>\n",
       "      <td>7174566</td>\n",
       "    </tr>\n",
       "    <tr>\n",
       "      <th>3</th>\n",
       "      <td>0.426805</td>\n",
       "      <td>0.211619</td>\n",
       "      <td>0.361576</td>\n",
       "      <td>7191391</td>\n",
       "    </tr>\n",
       "    <tr>\n",
       "      <th>4</th>\n",
       "      <td>0.010416</td>\n",
       "      <td>0.863166</td>\n",
       "      <td>0.126417</td>\n",
       "      <td>7171695</td>\n",
       "    </tr>\n",
       "    <tr>\n",
       "      <th>...</th>\n",
       "      <td>...</td>\n",
       "      <td>...</td>\n",
       "      <td>...</td>\n",
       "      <td>...</td>\n",
       "    </tr>\n",
       "    <tr>\n",
       "      <th>74654</th>\n",
       "      <td>0.451419</td>\n",
       "      <td>0.270596</td>\n",
       "      <td>0.277985</td>\n",
       "      <td>6928108</td>\n",
       "    </tr>\n",
       "    <tr>\n",
       "      <th>74655</th>\n",
       "      <td>0.022291</td>\n",
       "      <td>0.746020</td>\n",
       "      <td>0.231690</td>\n",
       "      <td>6906674</td>\n",
       "    </tr>\n",
       "    <tr>\n",
       "      <th>74656</th>\n",
       "      <td>0.002034</td>\n",
       "      <td>0.967080</td>\n",
       "      <td>0.030886</td>\n",
       "      <td>6897967</td>\n",
       "    </tr>\n",
       "    <tr>\n",
       "      <th>74657</th>\n",
       "      <td>0.001078</td>\n",
       "      <td>0.967939</td>\n",
       "      <td>0.030982</td>\n",
       "      <td>6842183</td>\n",
       "    </tr>\n",
       "    <tr>\n",
       "      <th>74658</th>\n",
       "      <td>0.072744</td>\n",
       "      <td>0.559469</td>\n",
       "      <td>0.367787</td>\n",
       "      <td>6889319</td>\n",
       "    </tr>\n",
       "  </tbody>\n",
       "</table>\n",
       "<p>74659 rows × 4 columns</p>\n",
       "</div>"
      ],
      "text/plain": [
       "           high       low    medium  listing_id\n",
       "0      0.092483  0.361319  0.546199     7142618\n",
       "1      0.243865  0.368333  0.387801     7210040\n",
       "2      0.033932  0.745431  0.220637     7174566\n",
       "3      0.426805  0.211619  0.361576     7191391\n",
       "4      0.010416  0.863166  0.126417     7171695\n",
       "...         ...       ...       ...         ...\n",
       "74654  0.451419  0.270596  0.277985     6928108\n",
       "74655  0.022291  0.746020  0.231690     6906674\n",
       "74656  0.002034  0.967080  0.030886     6897967\n",
       "74657  0.001078  0.967939  0.030982     6842183\n",
       "74658  0.072744  0.559469  0.367787     6889319\n",
       "\n",
       "[74659 rows x 4 columns]"
      ]
     },
     "execution_count": 15,
     "metadata": {},
     "output_type": "execute_result"
    }
   ],
   "source": [
    "preds = grid_object.predict_proba(testX)\n",
    "out_df = pd.DataFrame(preds)\n",
    "out_df.columns = le.classes_\n",
    "out_df[\"listing_id\"] = testData.listing_id.values\n",
    "out_df"
   ]
  },
  {
   "cell_type": "code",
   "execution_count": 16,
   "metadata": {},
   "outputs": [],
   "source": [
    "out_df.to_csv(\"XGBSecondVers-All.csv\", index=False)"
   ]
  },
  {
   "cell_type": "markdown",
   "metadata": {},
   "source": [
    "## Additional Metrics for validation dataset\n",
    "Accuracy Score: the model accuracy is determined by comparing how many of the predicted labels matches with the true labels\n",
    "Reference: https://scikit-learn.org/stable/modules/model_evaluation.html#classification-metrics"
   ]
  },
  {
   "cell_type": "code",
   "execution_count": 13,
   "metadata": {},
   "outputs": [
    {
     "name": "stdout",
     "output_type": "stream",
     "text": [
      "0.6795301907871536\n"
     ]
    }
   ],
   "source": [
    "model = xgb.XGBClassifier(\n",
    "    max_depth = 5,\n",
    "    subsample = 0.7,\n",
    "    min_child_weight = 5,\n",
    "    gamma = 0.1,\n",
    "    colsample_bytree = 0.8\n",
    ")\n",
    "kf = StratifiedKFold(n_splits=5)\n",
    "acc_scores = []\n",
    "for train_index, val_index in kf.split(X, y):\n",
    "    train_X, val_X = X.iloc[train_index,:], X.iloc[val_index,:]\n",
    "    train_y, val_y = y[train_index], y[val_index]\n",
    "    model.fit(train_X, train_y)\n",
    "    val_y_pred = model.predict(val_X)\n",
    "    score = metrics.accuracy_score(val_y, val_y_pred)\n",
    "    acc_scores.append(score)\n",
    "print(np.mean(acc_scores))"
   ]
  },
  {
   "cell_type": "code",
   "execution_count": null,
   "metadata": {},
   "outputs": [],
   "source": []
  }
 ],
 "metadata": {
  "kernelspec": {
   "display_name": "Python 3",
   "language": "python",
   "name": "python3"
  },
  "language_info": {
   "codemirror_mode": {
    "name": "ipython",
    "version": 3
   },
   "file_extension": ".py",
   "mimetype": "text/x-python",
   "name": "python",
   "nbconvert_exporter": "python",
   "pygments_lexer": "ipython3",
   "version": "3.6.9"
  }
 },
 "nbformat": 4,
 "nbformat_minor": 2
}
