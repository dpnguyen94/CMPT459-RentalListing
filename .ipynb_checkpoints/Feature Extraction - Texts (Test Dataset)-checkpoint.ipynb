{
 "cells": [
  {
   "cell_type": "code",
   "execution_count": 1,
   "metadata": {},
   "outputs": [],
   "source": [
    "import numpy as np\n",
    "import pandas as pd\n",
    "import matplotlib.pyplot as plt\n",
    "\n",
    "from PIL import Image\n",
    "import glob\n",
    "import os"
   ]
  },
  {
   "cell_type": "markdown",
   "metadata": {},
   "source": [
    "# Preprocessing text of test dataset for Classifier\n",
    "<b> Note: this dataset DO NOT contain the interest_level column (target variable) </b>"
   ]
  },
  {
   "cell_type": "markdown",
   "metadata": {},
   "source": [
    "# Load Dataset"
   ]
  },
  {
   "cell_type": "code",
   "execution_count": 2,
   "metadata": {
    "scrolled": true
   },
   "outputs": [
    {
     "data": {
      "text/html": [
       "<div>\n",
       "<style scoped>\n",
       "    .dataframe tbody tr th:only-of-type {\n",
       "        vertical-align: middle;\n",
       "    }\n",
       "\n",
       "    .dataframe tbody tr th {\n",
       "        vertical-align: top;\n",
       "    }\n",
       "\n",
       "    .dataframe thead th {\n",
       "        text-align: right;\n",
       "    }\n",
       "</style>\n",
       "<table border=\"1\" class=\"dataframe\">\n",
       "  <thead>\n",
       "    <tr style=\"text-align: right;\">\n",
       "      <th></th>\n",
       "      <th>bathrooms</th>\n",
       "      <th>bedrooms</th>\n",
       "      <th>building_id</th>\n",
       "      <th>created</th>\n",
       "      <th>description</th>\n",
       "      <th>display_address</th>\n",
       "      <th>features</th>\n",
       "      <th>latitude</th>\n",
       "      <th>listing_id</th>\n",
       "      <th>longitude</th>\n",
       "      <th>manager_id</th>\n",
       "      <th>photos</th>\n",
       "      <th>price</th>\n",
       "      <th>street_address</th>\n",
       "    </tr>\n",
       "  </thead>\n",
       "  <tbody>\n",
       "    <tr>\n",
       "      <td>0</td>\n",
       "      <td>1.0</td>\n",
       "      <td>2</td>\n",
       "      <td>c7e53d732e648fa7f6690bf7bbed44a2</td>\n",
       "      <td>2016-06-24 06:36:34</td>\n",
       "      <td>Prime Soho - between Bleecker and Houston - Ne...</td>\n",
       "      <td>thompson street</td>\n",
       "      <td>[Pre-War, Dogs Allowed, Cats Allowed]</td>\n",
       "      <td>40.7278</td>\n",
       "      <td>7210040</td>\n",
       "      <td>-74.0</td>\n",
       "      <td>d0b5648017832b2427eeb9956d966a14</td>\n",
       "      <td>[https://photos.renthop.com/2/7210040_d824cc71...</td>\n",
       "      <td>2850</td>\n",
       "      <td>176 thompson street</td>\n",
       "    </tr>\n",
       "    <tr>\n",
       "      <td>1</td>\n",
       "      <td>1.0</td>\n",
       "      <td>1</td>\n",
       "      <td>c7e53d732e648fa7f6690bf7bbed44a2</td>\n",
       "      <td>2016-06-27 01:14:08</td>\n",
       "      <td>one bedroom in Greenwich Village. the unit has...</td>\n",
       "      <td>thompson street</td>\n",
       "      <td>[Pre-War, Dogs Allowed, Cats Allowed]</td>\n",
       "      <td>40.7278</td>\n",
       "      <td>7219733</td>\n",
       "      <td>-74.0</td>\n",
       "      <td>03fea70f5551838fed4d6fe32859efab</td>\n",
       "      <td>[https://photos.renthop.com/2/7219733_1cb1f502...</td>\n",
       "      <td>2750</td>\n",
       "      <td>176 thompson street</td>\n",
       "    </tr>\n",
       "    <tr>\n",
       "      <td>2</td>\n",
       "      <td>1.0</td>\n",
       "      <td>2</td>\n",
       "      <td>c7e53d732e648fa7f6690bf7bbed44a2</td>\n",
       "      <td>2016-06-02 01:22:52</td>\n",
       "      <td>BEST Share in SOHO for the price! Wont last !T...</td>\n",
       "      <td>thompson street</td>\n",
       "      <td>[Pre-War, Dogs Allowed, Cats Allowed]</td>\n",
       "      <td>40.7278</td>\n",
       "      <td>7094796</td>\n",
       "      <td>-74.0</td>\n",
       "      <td>95dde20058eaecb4e53e93f08d9894f8</td>\n",
       "      <td>[https://photos.renthop.com/2/7094796_ea570a16...</td>\n",
       "      <td>2850</td>\n",
       "      <td>176 thompson street</td>\n",
       "    </tr>\n",
       "    <tr>\n",
       "      <td>3</td>\n",
       "      <td>1.0</td>\n",
       "      <td>2</td>\n",
       "      <td>c7e53d732e648fa7f6690bf7bbed44a2</td>\n",
       "      <td>2016-06-02 01:37:08</td>\n",
       "      <td>Inexpensive two bedroom available!Renovated tw...</td>\n",
       "      <td>thompson street</td>\n",
       "      <td>[Pre-War, Dogs Allowed, Cats Allowed]</td>\n",
       "      <td>40.7278</td>\n",
       "      <td>7095203</td>\n",
       "      <td>-74.0</td>\n",
       "      <td>0626abea05161a6ceab79199e3e0ba86</td>\n",
       "      <td>[https://photos.renthop.com/2/7095203_be6d22a2...</td>\n",
       "      <td>2850</td>\n",
       "      <td>176 thompson street</td>\n",
       "    </tr>\n",
       "    <tr>\n",
       "      <td>4</td>\n",
       "      <td>1.0</td>\n",
       "      <td>1</td>\n",
       "      <td>c7e53d732e648fa7f6690bf7bbed44a2</td>\n",
       "      <td>2016-06-22 01:12:03</td>\n",
       "      <td>This beautifully spacious 1 BR is in the heart...</td>\n",
       "      <td>thompson street</td>\n",
       "      <td>[Pre-War, Dogs Allowed, Cats Allowed]</td>\n",
       "      <td>40.7278</td>\n",
       "      <td>7196398</td>\n",
       "      <td>-74.0</td>\n",
       "      <td>be8b38e3002bc1f262025751cd4b081b</td>\n",
       "      <td>[https://photos.renthop.com/2/7196398_43b7f399...</td>\n",
       "      <td>2750</td>\n",
       "      <td>176 thompson street</td>\n",
       "    </tr>\n",
       "  </tbody>\n",
       "</table>\n",
       "</div>"
      ],
      "text/plain": [
       "   bathrooms  bedrooms                       building_id             created  \\\n",
       "0        1.0         2  c7e53d732e648fa7f6690bf7bbed44a2 2016-06-24 06:36:34   \n",
       "1        1.0         1  c7e53d732e648fa7f6690bf7bbed44a2 2016-06-27 01:14:08   \n",
       "2        1.0         2  c7e53d732e648fa7f6690bf7bbed44a2 2016-06-02 01:22:52   \n",
       "3        1.0         2  c7e53d732e648fa7f6690bf7bbed44a2 2016-06-02 01:37:08   \n",
       "4        1.0         1  c7e53d732e648fa7f6690bf7bbed44a2 2016-06-22 01:12:03   \n",
       "\n",
       "                                         description  display_address  \\\n",
       "0  Prime Soho - between Bleecker and Houston - Ne...  thompson street   \n",
       "1  one bedroom in Greenwich Village. the unit has...  thompson street   \n",
       "2  BEST Share in SOHO for the price! Wont last !T...  thompson street   \n",
       "3  Inexpensive two bedroom available!Renovated tw...  thompson street   \n",
       "4  This beautifully spacious 1 BR is in the heart...  thompson street   \n",
       "\n",
       "                                features  latitude  listing_id  longitude  \\\n",
       "0  [Pre-War, Dogs Allowed, Cats Allowed]   40.7278     7210040      -74.0   \n",
       "1  [Pre-War, Dogs Allowed, Cats Allowed]   40.7278     7219733      -74.0   \n",
       "2  [Pre-War, Dogs Allowed, Cats Allowed]   40.7278     7094796      -74.0   \n",
       "3  [Pre-War, Dogs Allowed, Cats Allowed]   40.7278     7095203      -74.0   \n",
       "4  [Pre-War, Dogs Allowed, Cats Allowed]   40.7278     7196398      -74.0   \n",
       "\n",
       "                         manager_id  \\\n",
       "0  d0b5648017832b2427eeb9956d966a14   \n",
       "1  03fea70f5551838fed4d6fe32859efab   \n",
       "2  95dde20058eaecb4e53e93f08d9894f8   \n",
       "3  0626abea05161a6ceab79199e3e0ba86   \n",
       "4  be8b38e3002bc1f262025751cd4b081b   \n",
       "\n",
       "                                              photos  price  \\\n",
       "0  [https://photos.renthop.com/2/7210040_d824cc71...   2850   \n",
       "1  [https://photos.renthop.com/2/7219733_1cb1f502...   2750   \n",
       "2  [https://photos.renthop.com/2/7094796_ea570a16...   2850   \n",
       "3  [https://photos.renthop.com/2/7095203_be6d22a2...   2850   \n",
       "4  [https://photos.renthop.com/2/7196398_43b7f399...   2750   \n",
       "\n",
       "        street_address  \n",
       "0  176 thompson street  \n",
       "1  176 thompson street  \n",
       "2  176 thompson street  \n",
       "3  176 thompson street  \n",
       "4  176 thompson street  "
      ]
     },
     "execution_count": 2,
     "metadata": {},
     "output_type": "execute_result"
    }
   ],
   "source": [
    "testDataDir = \"dataset/two-sigma-connect-rental-listing-inquiries/testCleanedOutlier.json.zip\"\n",
    "\n",
    "testData = pd.read_json(testDataDir, convert_dates=['created'])\n",
    "testData = testData.reset_index(drop=True)\n",
    "testData.head(5)"
   ]
  },
  {
   "cell_type": "code",
   "execution_count": 12,
   "metadata": {},
   "outputs": [
    {
     "data": {
      "text/plain": [
       "2"
      ]
     },
     "execution_count": 12,
     "metadata": {},
     "output_type": "execute_result"
    }
   ],
   "source": [
    "# also include number of photos\n",
    "testData[\"num_photos\"] = testData[\"photos\"].apply(lambda x: 0 if not x else len(x))"
   ]
  },
  {
   "cell_type": "markdown",
   "metadata": {},
   "source": [
    "# Text Data"
   ]
  },
  {
   "cell_type": "markdown",
   "metadata": {},
   "source": [
    "### Feature Extraction"
   ]
  },
  {
   "cell_type": "code",
   "execution_count": null,
   "metadata": {},
   "outputs": [],
   "source": [
    "testData['desc_word_count'] = testData['description'].apply(lambda x: len(str(x).split(\" \")))\n",
    "testData['desc_char_count'] = testData['description'].str.len()\n",
    "\n",
    "testData[['desc_word_count', 'desc_char_count']]"
   ]
  },
  {
   "cell_type": "code",
   "execution_count": null,
   "metadata": {},
   "outputs": [],
   "source": [
    "def avg_word(sentence):\n",
    "    words = sentence.split()\n",
    "    if (len(words) == 0):\n",
    "        return 0\n",
    "    \n",
    "    return (sum(len(word) for word in words)/len(words))\n",
    "\n",
    "testData['desc_avg_word_length'] = testData['description'].apply(lambda x: avg_word(x))\n",
    "testData[['desc_avg_word_length']]"
   ]
  },
  {
   "cell_type": "code",
   "execution_count": null,
   "metadata": {},
   "outputs": [],
   "source": [
    "def count_non_alpha_num(str):\n",
    "    return sum(1 - (s.isalpha() or s == \" \") for s in str)\n",
    "\n",
    "testData['desc_special_char_count'] = testData['description'].apply(lambda x: count_non_alpha_num(x))\n",
    "testData[['description', 'desc_special_char_count']]"
   ]
  },
  {
   "cell_type": "code",
   "execution_count": null,
   "metadata": {},
   "outputs": [],
   "source": [
    "testData['desc_num_count'] = testData['description'].apply(lambda x: len([x for x in x.split() if x.isdigit()]))\n",
    "testData['desc_upper_count'] = testData['description'].apply(lambda x: len([x for x in x.split() if x.isupper()]))\n",
    "testData[['description', 'desc_num_count', 'desc_upper_count']]"
   ]
  },
  {
   "cell_type": "markdown",
   "metadata": {},
   "source": [
    "### Data Preprocessing"
   ]
  },
  {
   "cell_type": "markdown",
   "metadata": {},
   "source": [
    "#### Convert to lower case and remove punctuation"
   ]
  },
  {
   "cell_type": "code",
   "execution_count": null,
   "metadata": {},
   "outputs": [],
   "source": [
    "testData['description'] = testData['description'].apply(lambda x: \" \".join(x.lower() for x in x.split()))\n",
    "testData['description'] = testData['description'].str.replace('[^\\w\\s]','')\n",
    "\n",
    "testData[['description']]"
   ]
  },
  {
   "cell_type": "markdown",
   "metadata": {},
   "source": [
    "#### Remove common and rare words"
   ]
  },
  {
   "cell_type": "code",
   "execution_count": null,
   "metadata": {},
   "outputs": [],
   "source": [
    "word_counts = pd.Series(' '.join(testData['description']).split()).value_counts()\n",
    "\n",
    "freq = word_counts[:10]\n",
    "rare = word_counts[-10:]\n",
    "freq_list = list(freq.index)\n",
    "rare_list = list(rare.index)\n",
    "\n",
    "testData['description'] = testData['description'].apply(lambda x: \" \".join(x for x in x.split() if x not in freq_list and x not in rare_list))\n",
    "\n",
    "print(freq_list)\n",
    "print(rare_list)\n",
    "testData[['description']]"
   ]
  },
  {
   "cell_type": "markdown",
   "metadata": {},
   "source": [
    "#### Remove stop words"
   ]
  },
  {
   "cell_type": "code",
   "execution_count": null,
   "metadata": {},
   "outputs": [],
   "source": [
    "# import nltk\n",
    "# nltk.download('stopwords')\n",
    "from nltk.corpus import stopwords\n",
    "#display(stopwords.words('english'))"
   ]
  },
  {
   "cell_type": "code",
   "execution_count": null,
   "metadata": {},
   "outputs": [],
   "source": [
    "stop_list = stopwords.words('english')\n",
    "testData['description'] = testData['description'].apply(lambda x: \" \".join(x for x in x.split() if x not in stop_list))\n",
    "\n",
    "testData[['description']]"
   ]
  },
  {
   "cell_type": "code",
   "execution_count": null,
   "metadata": {},
   "outputs": [],
   "source": [
    "testData.head(5)"
   ]
  },
  {
   "cell_type": "markdown",
   "metadata": {},
   "source": [
    "#### Count number of features for each listing"
   ]
  },
  {
   "cell_type": "code",
   "execution_count": null,
   "metadata": {},
   "outputs": [],
   "source": [
    "testData['num_features'] = testData['features'].apply(lambda x: len(x))"
   ]
  },
  {
   "cell_type": "markdown",
   "metadata": {},
   "source": [
    "#### Extract year, month, date to their individual columns"
   ]
  },
  {
   "cell_type": "code",
   "execution_count": null,
   "metadata": {},
   "outputs": [],
   "source": [
    "testData['year'] = testData['created'].dt.year\n",
    "testData['month'] = testData['created'].dt.month\n",
    "testData['day'] = testData['created'].dt.day"
   ]
  },
  {
   "cell_type": "code",
   "execution_count": null,
   "metadata": {},
   "outputs": [],
   "source": [
    "testData"
   ]
  },
  {
   "cell_type": "code",
   "execution_count": null,
   "metadata": {},
   "outputs": [],
   "source": [
    "testDataTextExtract = \"dataset/two-sigma-connect-rental-listing-inquiries/testTextExtract.json.zip\"\n",
    "testData.to_json(testDataTextExtract)"
   ]
  }
 ],
 "metadata": {
  "kernelspec": {
   "display_name": "Python 3",
   "language": "python",
   "name": "python3"
  },
  "language_info": {
   "codemirror_mode": {
    "name": "ipython",
    "version": 3
   },
   "file_extension": ".py",
   "mimetype": "text/x-python",
   "name": "python",
   "nbconvert_exporter": "python",
   "pygments_lexer": "ipython3",
   "version": "3.7.4"
  }
 },
 "nbformat": 4,
 "nbformat_minor": 2
}
