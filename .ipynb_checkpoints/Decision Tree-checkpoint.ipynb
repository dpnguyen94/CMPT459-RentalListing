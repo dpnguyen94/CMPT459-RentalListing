{
 "cells": [
  {
   "cell_type": "code",
   "execution_count": 1,
   "metadata": {},
   "outputs": [],
   "source": [
    "from scipy import stats\n",
    "import numpy as np\n",
    "import pandas as pd\n",
    "import matplotlib.pyplot as plt\n",
    "import re\n",
    "from pandas.plotting import table\n",
    "import seaborn as sns\n",
    "\n",
    "from sklearn.preprocessing import LabelEncoder, RobustScaler\n",
    "from sklearn.model_selection import train_test_split, KFold, GridSearchCV\n",
    "from sklearn import tree\n",
    "from sklearn import metrics\n",
    "\n",
    "%matplotlib inline\n",
    "sns.set(color_codes=True)"
   ]
  },
  {
   "cell_type": "markdown",
   "metadata": {},
   "source": [
    "# Training Decision Tree Model"
   ]
  },
  {
   "cell_type": "code",
   "execution_count": 2,
   "metadata": {
    "scrolled": true
   },
   "outputs": [
    {
     "data": {
      "text/html": [
       "<div>\n",
       "<style scoped>\n",
       "    .dataframe tbody tr th:only-of-type {\n",
       "        vertical-align: middle;\n",
       "    }\n",
       "\n",
       "    .dataframe tbody tr th {\n",
       "        vertical-align: top;\n",
       "    }\n",
       "\n",
       "    .dataframe thead th {\n",
       "        text-align: right;\n",
       "    }\n",
       "</style>\n",
       "<table border=\"1\" class=\"dataframe\">\n",
       "  <thead>\n",
       "    <tr style=\"text-align: right;\">\n",
       "      <th></th>\n",
       "      <th>bathrooms</th>\n",
       "      <th>bedrooms</th>\n",
       "      <th>building_id</th>\n",
       "      <th>created</th>\n",
       "      <th>description</th>\n",
       "      <th>display_address</th>\n",
       "      <th>features</th>\n",
       "      <th>interest_level</th>\n",
       "      <th>latitude</th>\n",
       "      <th>listing_id</th>\n",
       "      <th>...</th>\n",
       "      <th>desc_word_count</th>\n",
       "      <th>desc_char_count</th>\n",
       "      <th>desc_avg_word_length</th>\n",
       "      <th>desc_special_char_count</th>\n",
       "      <th>desc_num_count</th>\n",
       "      <th>desc_upper_count</th>\n",
       "      <th>num_features</th>\n",
       "      <th>year</th>\n",
       "      <th>month</th>\n",
       "      <th>day</th>\n",
       "    </tr>\n",
       "  </thead>\n",
       "  <tbody>\n",
       "    <tr>\n",
       "      <th>0</th>\n",
       "      <td>2.0</td>\n",
       "      <td>3</td>\n",
       "      <td>b66d3340ba269e6f184bfad550a6f05f</td>\n",
       "      <td>2016-06-24 07:55:11</td>\n",
       "      <td>welcome new home extravagantly outfitted 3 bed...</td>\n",
       "      <td>president street</td>\n",
       "      <td>[Dining Room, Laundry in Building, High Speed ...</td>\n",
       "      <td>low</td>\n",
       "      <td>40.6678</td>\n",
       "      <td>7211226</td>\n",
       "      <td>...</td>\n",
       "      <td>183</td>\n",
       "      <td>1276</td>\n",
       "      <td>6.044199</td>\n",
       "      <td>66</td>\n",
       "      <td>3</td>\n",
       "      <td>2</td>\n",
       "      <td>8</td>\n",
       "      <td>2016</td>\n",
       "      <td>6</td>\n",
       "      <td>24</td>\n",
       "    </tr>\n",
       "    <tr>\n",
       "      <th>1</th>\n",
       "      <td>2.0</td>\n",
       "      <td>3</td>\n",
       "      <td>b66d3340ba269e6f184bfad550a6f05f</td>\n",
       "      <td>2016-04-29 03:29:11</td>\n",
       "      <td>cdata3 bedrooms 3100 bedford stuyvesantbushwic...</td>\n",
       "      <td>president street</td>\n",
       "      <td>[]</td>\n",
       "      <td>low</td>\n",
       "      <td>40.6678</td>\n",
       "      <td>6941286</td>\n",
       "      <td>...</td>\n",
       "      <td>44</td>\n",
       "      <td>372</td>\n",
       "      <td>7.477273</td>\n",
       "      <td>86</td>\n",
       "      <td>1</td>\n",
       "      <td>3</td>\n",
       "      <td>0</td>\n",
       "      <td>2016</td>\n",
       "      <td>4</td>\n",
       "      <td>29</td>\n",
       "    </tr>\n",
       "    <tr>\n",
       "      <th>2</th>\n",
       "      <td>1.0</td>\n",
       "      <td>1</td>\n",
       "      <td>7e9fd0dea8ad2c8ac0a1022a1f0d997b</td>\n",
       "      <td>2016-06-17 01:22:28</td>\n",
       "      <td>newly renovated queen sized 1 bed 1 bath unit ...</td>\n",
       "      <td>east 12th street</td>\n",
       "      <td>[Pre-War, Dogs Allowed, Cats Allowed]</td>\n",
       "      <td>low</td>\n",
       "      <td>40.7287</td>\n",
       "      <td>7174518</td>\n",
       "      <td>...</td>\n",
       "      <td>32</td>\n",
       "      <td>224</td>\n",
       "      <td>6.225806</td>\n",
       "      <td>30</td>\n",
       "      <td>2</td>\n",
       "      <td>0</td>\n",
       "      <td>3</td>\n",
       "      <td>2016</td>\n",
       "      <td>6</td>\n",
       "      <td>17</td>\n",
       "    </tr>\n",
       "    <tr>\n",
       "      <th>3</th>\n",
       "      <td>1.0</td>\n",
       "      <td>3</td>\n",
       "      <td>7e9fd0dea8ad2c8ac0a1022a1f0d997b</td>\n",
       "      <td>2016-06-08 01:12:34</td>\n",
       "      <td>prime east village 3 bedroom 1 bath apartment ...</td>\n",
       "      <td>east 12th street</td>\n",
       "      <td>[Pre-War, Dogs Allowed, Cats Allowed]</td>\n",
       "      <td>low</td>\n",
       "      <td>40.7287</td>\n",
       "      <td>7122279</td>\n",
       "      <td>...</td>\n",
       "      <td>62</td>\n",
       "      <td>390</td>\n",
       "      <td>5.393443</td>\n",
       "      <td>15</td>\n",
       "      <td>2</td>\n",
       "      <td>1</td>\n",
       "      <td>3</td>\n",
       "      <td>2016</td>\n",
       "      <td>6</td>\n",
       "      <td>8</td>\n",
       "    </tr>\n",
       "    <tr>\n",
       "      <th>4</th>\n",
       "      <td>1.0</td>\n",
       "      <td>1</td>\n",
       "      <td>7e9fd0dea8ad2c8ac0a1022a1f0d997b</td>\n",
       "      <td>2016-06-11 01:27:45</td>\n",
       "      <td>welcome next new homethis 1br1ba unit located ...</td>\n",
       "      <td>east 12th street</td>\n",
       "      <td>[Pre-War, Dogs Allowed, Cats Allowed]</td>\n",
       "      <td>low</td>\n",
       "      <td>40.7287</td>\n",
       "      <td>7138528</td>\n",
       "      <td>...</td>\n",
       "      <td>134</td>\n",
       "      <td>756</td>\n",
       "      <td>4.684211</td>\n",
       "      <td>22</td>\n",
       "      <td>2</td>\n",
       "      <td>2</td>\n",
       "      <td>3</td>\n",
       "      <td>2016</td>\n",
       "      <td>6</td>\n",
       "      <td>11</td>\n",
       "    </tr>\n",
       "  </tbody>\n",
       "</table>\n",
       "<p>5 rows × 28 columns</p>\n",
       "</div>"
      ],
      "text/plain": [
       "   bathrooms  bedrooms                       building_id             created  \\\n",
       "0        2.0         3  b66d3340ba269e6f184bfad550a6f05f 2016-06-24 07:55:11   \n",
       "1        2.0         3  b66d3340ba269e6f184bfad550a6f05f 2016-04-29 03:29:11   \n",
       "2        1.0         1  7e9fd0dea8ad2c8ac0a1022a1f0d997b 2016-06-17 01:22:28   \n",
       "3        1.0         3  7e9fd0dea8ad2c8ac0a1022a1f0d997b 2016-06-08 01:12:34   \n",
       "4        1.0         1  7e9fd0dea8ad2c8ac0a1022a1f0d997b 2016-06-11 01:27:45   \n",
       "\n",
       "                                         description   display_address  \\\n",
       "0  welcome new home extravagantly outfitted 3 bed...  president street   \n",
       "1  cdata3 bedrooms 3100 bedford stuyvesantbushwic...  president street   \n",
       "2  newly renovated queen sized 1 bed 1 bath unit ...  east 12th street   \n",
       "3  prime east village 3 bedroom 1 bath apartment ...  east 12th street   \n",
       "4  welcome next new homethis 1br1ba unit located ...  east 12th street   \n",
       "\n",
       "                                            features interest_level  latitude  \\\n",
       "0  [Dining Room, Laundry in Building, High Speed ...            low   40.6678   \n",
       "1                                                 []            low   40.6678   \n",
       "2              [Pre-War, Dogs Allowed, Cats Allowed]            low   40.7287   \n",
       "3              [Pre-War, Dogs Allowed, Cats Allowed]            low   40.7287   \n",
       "4              [Pre-War, Dogs Allowed, Cats Allowed]            low   40.7287   \n",
       "\n",
       "   listing_id  ...  desc_word_count desc_char_count desc_avg_word_length  \\\n",
       "0     7211226  ...              183            1276             6.044199   \n",
       "1     6941286  ...               44             372             7.477273   \n",
       "2     7174518  ...               32             224             6.225806   \n",
       "3     7122279  ...               62             390             5.393443   \n",
       "4     7138528  ...              134             756             4.684211   \n",
       "\n",
       "   desc_special_char_count desc_num_count desc_upper_count num_features  year  \\\n",
       "0                       66              3                2            8  2016   \n",
       "1                       86              1                3            0  2016   \n",
       "2                       30              2                0            3  2016   \n",
       "3                       15              2                1            3  2016   \n",
       "4                       22              2                2            3  2016   \n",
       "\n",
       "   month  day  \n",
       "0      6   24  \n",
       "1      4   29  \n",
       "2      6   17  \n",
       "3      6    8  \n",
       "4      6   11  \n",
       "\n",
       "[5 rows x 28 columns]"
      ]
     },
     "execution_count": 2,
     "metadata": {},
     "output_type": "execute_result"
    }
   ],
   "source": [
    "# trainTextExtract.json.zip is the latest version of training data!!\n",
    "trainCleaned = \"dataset/two-sigma-connect-rental-listing-inquiries/trainTextExtract.json.zip\"\n",
    "trainData = pd.read_json(trainCleaned, convert_dates=['created'])\n",
    "# processed testData\n",
    "testDataDir = \"dataset/two-sigma-connect-rental-listing-inquiries/testTextExtract.json.zip\"\n",
    "testData = pd.read_json(testDataDir, convert_dates=['created'])\n",
    "trainData.head(5)"
   ]
  },
  {
   "cell_type": "code",
   "execution_count": 3,
   "metadata": {},
   "outputs": [
    {
     "data": {
      "text/plain": [
       "Index(['bathrooms', 'bedrooms', 'building_id', 'created', 'description',\n",
       "       'display_address', 'features', 'interest_level', 'latitude',\n",
       "       'listing_id', 'longitude', 'manager_id', 'photos', 'price',\n",
       "       'street_address', 'grayscale_hist', 'avg_pixel_values', 'num_photos',\n",
       "       'desc_word_count', 'desc_char_count', 'desc_avg_word_length',\n",
       "       'desc_special_char_count', 'desc_num_count', 'desc_upper_count',\n",
       "       'num_features', 'year', 'month', 'day'],\n",
       "      dtype='object')"
      ]
     },
     "execution_count": 3,
     "metadata": {},
     "output_type": "execute_result"
    }
   ],
   "source": [
    "trainData.columns"
   ]
  },
  {
   "cell_type": "markdown",
   "metadata": {},
   "source": [
    "## Choosing features for prediction\n",
    "\n",
    "The features listed should be necessary for prediction <br/>\n",
    "- Bathrooms<br/>\n",
    "Reason: Interest levels depends on the number of bathrooms a listing has  \n",
    "- Bedrooms<br/>\n",
    "Reason: Interest levels depends on the number of bedrooms a listing has\n",
    "- Price <br/>\n",
    "Reason: Interest levels depends on the listing price\n",
    "- Year, Month, Date<br/>\n",
    "Reason: if the user is planning to move out to another location within a specific time frame, interest may be higher\n",
    "- Description Word Count (desc_word_count)<br/>\n",
    "Reason: descriptions with more words could mean very detailed description which lead to higher interest\n",
    "- Description Average Word Length(desc_avg_word_length)<br/>\n",
    "Reason: large average word length could mean very detailed description which lead to higher interest\n",
    "- Number of features (num_features)<br/>\n",
    "Reason: more features within a listing could lead to more interest\n",
    "- Latitude + Longitude <br/>\n",
    "Reason: interest could be higher on specific area of New York"
   ]
  },
  {
   "cell_type": "code",
   "execution_count": 4,
   "metadata": {},
   "outputs": [
    {
     "data": {
      "text/html": [
       "<div>\n",
       "<style scoped>\n",
       "    .dataframe tbody tr th:only-of-type {\n",
       "        vertical-align: middle;\n",
       "    }\n",
       "\n",
       "    .dataframe tbody tr th {\n",
       "        vertical-align: top;\n",
       "    }\n",
       "\n",
       "    .dataframe thead th {\n",
       "        text-align: right;\n",
       "    }\n",
       "</style>\n",
       "<table border=\"1\" class=\"dataframe\">\n",
       "  <thead>\n",
       "    <tr style=\"text-align: right;\">\n",
       "      <th></th>\n",
       "      <th>bathrooms</th>\n",
       "      <th>bedrooms</th>\n",
       "      <th>price</th>\n",
       "      <th>year</th>\n",
       "      <th>month</th>\n",
       "      <th>day</th>\n",
       "      <th>desc_word_count</th>\n",
       "      <th>desc_avg_word_length</th>\n",
       "      <th>num_features</th>\n",
       "      <th>latitude</th>\n",
       "      <th>longitude</th>\n",
       "    </tr>\n",
       "  </thead>\n",
       "  <tbody>\n",
       "    <tr>\n",
       "      <th>0</th>\n",
       "      <td>2.0</td>\n",
       "      <td>3</td>\n",
       "      <td>3050</td>\n",
       "      <td>2016</td>\n",
       "      <td>6</td>\n",
       "      <td>24</td>\n",
       "      <td>183</td>\n",
       "      <td>6.044199</td>\n",
       "      <td>8</td>\n",
       "      <td>40.6678</td>\n",
       "      <td>-73.9398</td>\n",
       "    </tr>\n",
       "    <tr>\n",
       "      <th>1</th>\n",
       "      <td>2.0</td>\n",
       "      <td>3</td>\n",
       "      <td>3100</td>\n",
       "      <td>2016</td>\n",
       "      <td>4</td>\n",
       "      <td>29</td>\n",
       "      <td>44</td>\n",
       "      <td>7.477273</td>\n",
       "      <td>0</td>\n",
       "      <td>40.6678</td>\n",
       "      <td>-73.9398</td>\n",
       "    </tr>\n",
       "    <tr>\n",
       "      <th>2</th>\n",
       "      <td>1.0</td>\n",
       "      <td>1</td>\n",
       "      <td>2850</td>\n",
       "      <td>2016</td>\n",
       "      <td>6</td>\n",
       "      <td>17</td>\n",
       "      <td>32</td>\n",
       "      <td>6.225806</td>\n",
       "      <td>3</td>\n",
       "      <td>40.7287</td>\n",
       "      <td>-73.9810</td>\n",
       "    </tr>\n",
       "    <tr>\n",
       "      <th>3</th>\n",
       "      <td>1.0</td>\n",
       "      <td>3</td>\n",
       "      <td>4200</td>\n",
       "      <td>2016</td>\n",
       "      <td>6</td>\n",
       "      <td>8</td>\n",
       "      <td>62</td>\n",
       "      <td>5.393443</td>\n",
       "      <td>3</td>\n",
       "      <td>40.7287</td>\n",
       "      <td>-73.9810</td>\n",
       "    </tr>\n",
       "    <tr>\n",
       "      <th>4</th>\n",
       "      <td>1.0</td>\n",
       "      <td>1</td>\n",
       "      <td>2850</td>\n",
       "      <td>2016</td>\n",
       "      <td>6</td>\n",
       "      <td>11</td>\n",
       "      <td>134</td>\n",
       "      <td>4.684211</td>\n",
       "      <td>3</td>\n",
       "      <td>40.7287</td>\n",
       "      <td>-73.9810</td>\n",
       "    </tr>\n",
       "  </tbody>\n",
       "</table>\n",
       "</div>"
      ],
      "text/plain": [
       "   bathrooms  bedrooms  price  year  month  day  desc_word_count  \\\n",
       "0        2.0         3   3050  2016      6   24              183   \n",
       "1        2.0         3   3100  2016      4   29               44   \n",
       "2        1.0         1   2850  2016      6   17               32   \n",
       "3        1.0         3   4200  2016      6    8               62   \n",
       "4        1.0         1   2850  2016      6   11              134   \n",
       "\n",
       "   desc_avg_word_length  num_features  latitude  longitude  \n",
       "0              6.044199             8   40.6678   -73.9398  \n",
       "1              7.477273             0   40.6678   -73.9398  \n",
       "2              6.225806             3   40.7287   -73.9810  \n",
       "3              5.393443             3   40.7287   -73.9810  \n",
       "4              4.684211             3   40.7287   -73.9810  "
      ]
     },
     "execution_count": 4,
     "metadata": {},
     "output_type": "execute_result"
    }
   ],
   "source": [
    "featuresToSelect = ['bathrooms', 'bedrooms', 'price', 'year', 'month', 'day', 'desc_word_count', 'desc_avg_word_length', 'num_features', 'latitude', 'longitude']\n",
    "X = trainData[featuresToSelect]\n",
    "testX = testData[featuresToSelect]\n",
    "X.head(5)"
   ]
  },
  {
   "cell_type": "markdown",
   "metadata": {},
   "source": [
    "## Transform target variable to binary codes\n",
    "References: <br/>\n",
    "https://scikit-learn.org/stable/modules/generated/sklearn.preprocessing.LabelEncoder.html\n"
   ]
  },
  {
   "cell_type": "code",
   "execution_count": 5,
   "metadata": {},
   "outputs": [
    {
     "data": {
      "text/plain": [
       "array([1, 1, 1, ..., 2, 2, 0])"
      ]
     },
     "execution_count": 5,
     "metadata": {},
     "output_type": "execute_result"
    }
   ],
   "source": [
    "#This works also:\n",
    "#target = trainData[['interest_level']].astype('category')\n",
    "#y = target['interest_level'].cat.codes\n",
    "le=LabelEncoder()\n",
    "target = trainData[['interest_level']]\n",
    "y = le.fit_transform(target['interest_level'])\n",
    "y"
   ]
  },
  {
   "cell_type": "markdown",
   "metadata": {},
   "source": [
    "## Creating Decision Tree Model\n",
    "Library used for classifier: sklearn.tree.DecisionTreeClassifier <br/>\n",
    "Note for log loss score: log_loss_score > 1 <=> prediction is inaccurate/wrong <br/>\n",
    "References: <br/>\n",
    "https://markhneedham.com/blog/2016/09/14/scikit-learn-first-steps-with-log_loss/ <br/>\n",
    "https://rpmcruz.github.io/machine%20learning/2018/02/09/probabilities-trees.html <br/>\n",
    "https://stackoverflow.com/questions/33616102/sklearn-log-loss-different-number-of-classes/42953278 <br/>\n",
    "https://towardsdatascience.com/train-val-split-and-cross-validation-in-python-80b61beca4b6"
   ]
  },
  {
   "cell_type": "markdown",
   "metadata": {},
   "source": [
    "### Original\n",
    "Training: Evaluate model using log loss <br/>\n",
    "Testing: Output prediction probabilities for test dataset"
   ]
  },
  {
   "cell_type": "code",
   "execution_count": 6,
   "metadata": {},
   "outputs": [
    {
     "name": "stdout",
     "output_type": "stream",
     "text": [
      "12.006361518675359\n",
      "13.691032003282722\n",
      "13.823189502484755\n",
      "13.82802032230385\n",
      "14.30605199874503\n"
     ]
    }
   ],
   "source": [
    "model = tree.DecisionTreeClassifier()\n",
    "kf = KFold(n_splits=5)\n",
    "for train_index, val_index in kf.split(X, y):\n",
    "    train_X, val_X = X.iloc[train_index,:], X.iloc[val_index,:]\n",
    "    train_y, val_y = y[train_index], y[val_index]\n",
    "    model.fit(train_X, train_y)\n",
    "    val_y_pred = model.predict_proba(val_X)\n",
    "    print(metrics.log_loss(val_y, val_y_pred))"
   ]
  },
  {
   "cell_type": "code",
   "execution_count": 7,
   "metadata": {
    "scrolled": false
   },
   "outputs": [
    {
     "data": {
      "text/html": [
       "<div>\n",
       "<style scoped>\n",
       "    .dataframe tbody tr th:only-of-type {\n",
       "        vertical-align: middle;\n",
       "    }\n",
       "\n",
       "    .dataframe tbody tr th {\n",
       "        vertical-align: top;\n",
       "    }\n",
       "\n",
       "    .dataframe thead th {\n",
       "        text-align: right;\n",
       "    }\n",
       "</style>\n",
       "<table border=\"1\" class=\"dataframe\">\n",
       "  <thead>\n",
       "    <tr style=\"text-align: right;\">\n",
       "      <th></th>\n",
       "      <th>high</th>\n",
       "      <th>low</th>\n",
       "      <th>medium</th>\n",
       "      <th>listing_id</th>\n",
       "    </tr>\n",
       "  </thead>\n",
       "  <tbody>\n",
       "    <tr>\n",
       "      <th>0</th>\n",
       "      <td>0.0</td>\n",
       "      <td>1.0</td>\n",
       "      <td>0.0</td>\n",
       "      <td>7142618</td>\n",
       "    </tr>\n",
       "    <tr>\n",
       "      <th>1</th>\n",
       "      <td>1.0</td>\n",
       "      <td>0.0</td>\n",
       "      <td>0.0</td>\n",
       "      <td>7210040</td>\n",
       "    </tr>\n",
       "    <tr>\n",
       "      <th>2</th>\n",
       "      <td>0.0</td>\n",
       "      <td>1.0</td>\n",
       "      <td>0.0</td>\n",
       "      <td>7174566</td>\n",
       "    </tr>\n",
       "    <tr>\n",
       "      <th>3</th>\n",
       "      <td>0.0</td>\n",
       "      <td>1.0</td>\n",
       "      <td>0.0</td>\n",
       "      <td>7191391</td>\n",
       "    </tr>\n",
       "    <tr>\n",
       "      <th>4</th>\n",
       "      <td>0.0</td>\n",
       "      <td>1.0</td>\n",
       "      <td>0.0</td>\n",
       "      <td>7171695</td>\n",
       "    </tr>\n",
       "    <tr>\n",
       "      <th>...</th>\n",
       "      <td>...</td>\n",
       "      <td>...</td>\n",
       "      <td>...</td>\n",
       "      <td>...</td>\n",
       "    </tr>\n",
       "    <tr>\n",
       "      <th>74654</th>\n",
       "      <td>0.0</td>\n",
       "      <td>0.0</td>\n",
       "      <td>1.0</td>\n",
       "      <td>6928108</td>\n",
       "    </tr>\n",
       "    <tr>\n",
       "      <th>74655</th>\n",
       "      <td>0.0</td>\n",
       "      <td>1.0</td>\n",
       "      <td>0.0</td>\n",
       "      <td>6906674</td>\n",
       "    </tr>\n",
       "    <tr>\n",
       "      <th>74656</th>\n",
       "      <td>0.0</td>\n",
       "      <td>1.0</td>\n",
       "      <td>0.0</td>\n",
       "      <td>6897967</td>\n",
       "    </tr>\n",
       "    <tr>\n",
       "      <th>74657</th>\n",
       "      <td>0.0</td>\n",
       "      <td>1.0</td>\n",
       "      <td>0.0</td>\n",
       "      <td>6842183</td>\n",
       "    </tr>\n",
       "    <tr>\n",
       "      <th>74658</th>\n",
       "      <td>0.0</td>\n",
       "      <td>1.0</td>\n",
       "      <td>0.0</td>\n",
       "      <td>6889319</td>\n",
       "    </tr>\n",
       "  </tbody>\n",
       "</table>\n",
       "<p>74659 rows × 4 columns</p>\n",
       "</div>"
      ],
      "text/plain": [
       "       high  low  medium  listing_id\n",
       "0       0.0  1.0     0.0     7142618\n",
       "1       1.0  0.0     0.0     7210040\n",
       "2       0.0  1.0     0.0     7174566\n",
       "3       0.0  1.0     0.0     7191391\n",
       "4       0.0  1.0     0.0     7171695\n",
       "...     ...  ...     ...         ...\n",
       "74654   0.0  0.0     1.0     6928108\n",
       "74655   0.0  1.0     0.0     6906674\n",
       "74656   0.0  1.0     0.0     6897967\n",
       "74657   0.0  1.0     0.0     6842183\n",
       "74658   0.0  1.0     0.0     6889319\n",
       "\n",
       "[74659 rows x 4 columns]"
      ]
     },
     "execution_count": 7,
     "metadata": {},
     "output_type": "execute_result"
    }
   ],
   "source": [
    "#Decision tree without defining max depth will return all probability = 1\n",
    "preds = model.predict_proba(testX)\n",
    "out_df = pd.DataFrame(preds)\n",
    "out_df.columns = le.classes_\n",
    "out_df[\"listing_id\"] = testData.listing_id.values\n",
    "out_df"
   ]
  },
  {
   "cell_type": "markdown",
   "metadata": {},
   "source": [
    "## Detecting overfitting with original model\n",
    "Compute accuracy score for training and validation set for tree max depth, then plot it <br/>\n",
    "If accuracy of validation is lower than training as max depth increases -> overfit <br/>\n",
    "https://datascience.stackexchange.com/questions/9758/overfitting-underfitting-with-data-set-size/9760#9760 <br/>"
   ]
  },
  {
   "cell_type": "code",
   "execution_count": 8,
   "metadata": {
    "scrolled": true
   },
   "outputs": [
    {
     "data": {
      "text/plain": [
       "[]"
      ]
     },
     "execution_count": 8,
     "metadata": {},
     "output_type": "execute_result"
    },
    {
     "data": {
      "image/png": "[encoded data removed]",
      "text/plain": [
       "<Figure size 1440x720 with 1 Axes>"
      ]
     },
     "metadata": {
      "needs_background": "light"
     },
     "output_type": "display_data"
    }
   ],
   "source": [
    "max_depth_list = np.linspace(1,20, num=20)\n",
    "\n",
    "train_accuracy = [] # Log training errors for each model\n",
    "test_accuracy = [] # Log testing errors for each model\n",
    "\n",
    "X_train, X_test, y_train, y_test = train_test_split(X, y)\n",
    "\n",
    "for x in max_depth_list:\n",
    "    model = tree.DecisionTreeClassifier(max_depth=x) \n",
    "    model.fit(X_train,y_train)\n",
    "    train_accuracy.append(model.score(X_train, y_train))\n",
    "    test_accuracy.append(model.score(X_test, y_test))\n",
    "\n",
    "x = np.arange(len(max_depth_list)) + 1 # Create domain for plot\n",
    "plt.figure(figsize=(20,10))\n",
    "plt.xticks(x)\n",
    "plt.plot(x, train_accuracy, label='Training Accuracy') # Plot training error over domain\n",
    "plt.plot(x, test_accuracy, label='Testing Accuracy') # Plot testing error over domain\n",
    "plt.xlabel('Maximum Tree Depth') # Label x-axis\n",
    "plt.ylabel('Model Accuracy') # Label y-axis\n",
    "plt.legend() # Show plot labels as legend\n",
    "plt.plot() # Show graph"
   ]
  },
  {
   "cell_type": "markdown",
   "metadata": {},
   "source": [
    "## Improving Decision Tree Model\n",
    "References: <br/>\n",
    "https://stackoverflow.com/questions/33616102/sklearn-log-loss-different-number-of-classes/42953278 <br/>\n",
    "https://towardsdatascience.com/train-val-split-and-cross-validation-in-python-80b61beca4b6 <br/>\n",
    "https://towardsdatascience.com/how-to-tune-a-decision-tree-f03721801680 <br/>\n",
    "Side Note: 10-fold should generate enough instances to validate the model"
   ]
  },
  {
   "cell_type": "markdown",
   "metadata": {},
   "source": [
    "### Manually adjusting the max_depth, cross-validation fold"
   ]
  },
  {
   "cell_type": "code",
   "execution_count": 9,
   "metadata": {},
   "outputs": [],
   "source": [
    "model = tree.DecisionTreeClassifier()\n",
    "kf = KFold(n_splits=5)\n",
    "log_loss_scores = []\n",
    "for train_index, val_index in kf.split(X, y):\n",
    "    train_X, val_X = X.iloc[train_index,:], X.iloc[val_index,:]\n",
    "    train_y, val_y = y[train_index], y[val_index]\n",
    "    model.fit(train_X, train_y)\n",
    "    val_y_pred = model.predict_proba(val_X)\n",
    "    score = metrics.log_loss(val_y, val_y_pred)\n",
    "    log_loss_scores.append(score)"
   ]
  },
  {
   "cell_type": "code",
   "execution_count": 10,
   "metadata": {},
   "outputs": [
    {
     "name": "stdout",
     "output_type": "stream",
     "text": [
      "13.61091733854487\n"
     ]
    }
   ],
   "source": [
    "print(np.mean(log_loss_scores))"
   ]
  },
  {
   "cell_type": "code",
   "execution_count": 11,
   "metadata": {
    "scrolled": true
   },
   "outputs": [],
   "source": [
    "model = tree.DecisionTreeClassifier()\n",
    "kf = KFold(n_splits=10)\n",
    "log_loss_scores = []\n",
    "for train_index, val_index in kf.split(X, y):\n",
    "    train_X, val_X = X.iloc[train_index,:], X.iloc[val_index,:]\n",
    "    train_y, val_y = y[train_index], y[val_index]\n",
    "    model.fit(train_X, train_y)\n",
    "    val_y_pred = model.predict_proba(val_X)\n",
    "    score = metrics.log_loss(val_y, val_y_pred)\n",
    "    log_loss_scores.append(score)"
   ]
  },
  {
   "cell_type": "code",
   "execution_count": 12,
   "metadata": {
    "scrolled": true
   },
   "outputs": [
    {
     "name": "stdout",
     "output_type": "stream",
     "text": [
      "13.228713463722567\n"
     ]
    }
   ],
   "source": [
    "print(np.mean(log_loss_scores))"
   ]
  },
  {
   "cell_type": "code",
   "execution_count": 13,
   "metadata": {
    "scrolled": true
   },
   "outputs": [],
   "source": [
    "model = tree.DecisionTreeClassifier(max_depth=5)\n",
    "kf = KFold(n_splits=10)\n",
    "log_loss_scores = []\n",
    "for train_index, val_index in kf.split(X, y):\n",
    "    train_X, val_X = X.iloc[train_index,:], X.iloc[val_index,:]\n",
    "    train_y, val_y = y[train_index], y[val_index]\n",
    "    model.fit(train_X, train_y)\n",
    "    val_y_pred = model.predict_proba(val_X)\n",
    "    score = metrics.log_loss(val_y, val_y_pred)\n",
    "    log_loss_scores.append(score)"
   ]
  },
  {
   "cell_type": "code",
   "execution_count": 14,
   "metadata": {},
   "outputs": [
    {
     "name": "stdout",
     "output_type": "stream",
     "text": [
      "0.7387804104416122\n"
     ]
    }
   ],
   "source": [
    "print(np.mean(log_loss_scores))"
   ]
  },
  {
   "cell_type": "markdown",
   "metadata": {},
   "source": [
    "### Finding the optimal parameters\n",
    "Using GridsearchCV for cv = 5 and 10\n",
    "Reference: <br/>\n",
    "https://learning.oreilly.com/library/view/machine-learning-with/9781789343700/e3b1b1fd-ddff-435e-aff8-44eb01608b91.xhtml"
   ]
  },
  {
   "cell_type": "code",
   "execution_count": 15,
   "metadata": {},
   "outputs": [],
   "source": [
    "grid_params = {\n",
    "    'max_depth':  np.linspace(1,10,10,endpoint=True),\n",
    "    'min_samples_split': np.linspace(0.1, 1.0, 10, endpoint=True),\n",
    "    'criterion' : ['gini', 'entropy']\n",
    "}\n",
    "dt = tree.DecisionTreeClassifier()\n",
    "grid_object = GridSearchCV(estimator = dt, param_grid = grid_params, scoring = 'neg_log_loss', cv = 5, n_jobs = -1,return_train_score = True)"
   ]
  },
  {
   "cell_type": "code",
   "execution_count": 16,
   "metadata": {},
   "outputs": [
    {
     "data": {
      "text/plain": [
       "GridSearchCV(cv=5, error_score='raise-deprecating',\n",
       "             estimator=DecisionTreeClassifier(class_weight=None,\n",
       "                                              criterion='gini', max_depth=None,\n",
       "                                              max_features=None,\n",
       "                                              max_leaf_nodes=None,\n",
       "                                              min_impurity_decrease=0.0,\n",
       "                                              min_impurity_split=None,\n",
       "                                              min_samples_leaf=1,\n",
       "                                              min_samples_split=2,\n",
       "                                              min_weight_fraction_leaf=0.0,\n",
       "                                              presort=False, random_state=None,\n",
       "                                              splitter='best'),\n",
       "             iid='warn', n_jobs=-1,\n",
       "             param_grid={'criterion': ['gini', 'entropy'],\n",
       "                         'max_depth': array([ 1.,  2.,  3.,  4.,  5.,  6.,  7.,  8.,  9., 10.]),\n",
       "                         'min_samples_split': array([0.1, 0.2, 0.3, 0.4, 0.5, 0.6, 0.7, 0.8, 0.9, 1. ])},\n",
       "             pre_dispatch='2*n_jobs', refit=True, return_train_score=True,\n",
       "             scoring='neg_log_loss', verbose=0)"
      ]
     },
     "execution_count": 16,
     "metadata": {},
     "output_type": "execute_result"
    }
   ],
   "source": [
    "grid_object.fit(X,y)"
   ]
  },
  {
   "cell_type": "code",
   "execution_count": 17,
   "metadata": {},
   "outputs": [
    {
     "data": {
      "text/plain": [
       "{'criterion': 'entropy', 'max_depth': 7.0, 'min_samples_split': 0.1}"
      ]
     },
     "execution_count": 17,
     "metadata": {},
     "output_type": "execute_result"
    }
   ],
   "source": [
    "grid_object.best_params_"
   ]
  },
  {
   "cell_type": "code",
   "execution_count": 18,
   "metadata": {},
   "outputs": [
    {
     "data": {
      "text/plain": [
       "-0.7278570213686547"
      ]
     },
     "execution_count": 18,
     "metadata": {},
     "output_type": "execute_result"
    }
   ],
   "source": [
    "grid_object.best_score_"
   ]
  },
  {
   "cell_type": "code",
   "execution_count": 19,
   "metadata": {},
   "outputs": [
    {
     "data": {
      "text/html": [
       "<div>\n",
       "<style scoped>\n",
       "    .dataframe tbody tr th:only-of-type {\n",
       "        vertical-align: middle;\n",
       "    }\n",
       "\n",
       "    .dataframe tbody tr th {\n",
       "        vertical-align: top;\n",
       "    }\n",
       "\n",
       "    .dataframe thead th {\n",
       "        text-align: right;\n",
       "    }\n",
       "</style>\n",
       "<table border=\"1\" class=\"dataframe\">\n",
       "  <thead>\n",
       "    <tr style=\"text-align: right;\">\n",
       "      <th></th>\n",
       "      <th>high</th>\n",
       "      <th>low</th>\n",
       "      <th>medium</th>\n",
       "      <th>listing_id</th>\n",
       "    </tr>\n",
       "  </thead>\n",
       "  <tbody>\n",
       "    <tr>\n",
       "      <th>0</th>\n",
       "      <td>0.050304</td>\n",
       "      <td>0.648190</td>\n",
       "      <td>0.301506</td>\n",
       "      <td>7142618</td>\n",
       "    </tr>\n",
       "    <tr>\n",
       "      <th>1</th>\n",
       "      <td>0.218543</td>\n",
       "      <td>0.370861</td>\n",
       "      <td>0.410596</td>\n",
       "      <td>7210040</td>\n",
       "    </tr>\n",
       "    <tr>\n",
       "      <th>2</th>\n",
       "      <td>0.064382</td>\n",
       "      <td>0.684060</td>\n",
       "      <td>0.251558</td>\n",
       "      <td>7174566</td>\n",
       "    </tr>\n",
       "    <tr>\n",
       "      <th>3</th>\n",
       "      <td>0.218543</td>\n",
       "      <td>0.370861</td>\n",
       "      <td>0.410596</td>\n",
       "      <td>7191391</td>\n",
       "    </tr>\n",
       "    <tr>\n",
       "      <th>4</th>\n",
       "      <td>0.020377</td>\n",
       "      <td>0.834437</td>\n",
       "      <td>0.145186</td>\n",
       "      <td>7171695</td>\n",
       "    </tr>\n",
       "    <tr>\n",
       "      <th>...</th>\n",
       "      <td>...</td>\n",
       "      <td>...</td>\n",
       "      <td>...</td>\n",
       "      <td>...</td>\n",
       "    </tr>\n",
       "    <tr>\n",
       "      <th>74654</th>\n",
       "      <td>0.206016</td>\n",
       "      <td>0.433598</td>\n",
       "      <td>0.360386</td>\n",
       "      <td>6928108</td>\n",
       "    </tr>\n",
       "    <tr>\n",
       "      <th>74655</th>\n",
       "      <td>0.075387</td>\n",
       "      <td>0.567655</td>\n",
       "      <td>0.356959</td>\n",
       "      <td>6906674</td>\n",
       "    </tr>\n",
       "    <tr>\n",
       "      <th>74656</th>\n",
       "      <td>0.064382</td>\n",
       "      <td>0.684060</td>\n",
       "      <td>0.251558</td>\n",
       "      <td>6897967</td>\n",
       "    </tr>\n",
       "    <tr>\n",
       "      <th>74657</th>\n",
       "      <td>0.014280</td>\n",
       "      <td>0.862356</td>\n",
       "      <td>0.123364</td>\n",
       "      <td>6842183</td>\n",
       "    </tr>\n",
       "    <tr>\n",
       "      <th>74658</th>\n",
       "      <td>0.111303</td>\n",
       "      <td>0.526900</td>\n",
       "      <td>0.361797</td>\n",
       "      <td>6889319</td>\n",
       "    </tr>\n",
       "  </tbody>\n",
       "</table>\n",
       "<p>74659 rows × 4 columns</p>\n",
       "</div>"
      ],
      "text/plain": [
       "           high       low    medium  listing_id\n",
       "0      0.050304  0.648190  0.301506     7142618\n",
       "1      0.218543  0.370861  0.410596     7210040\n",
       "2      0.064382  0.684060  0.251558     7174566\n",
       "3      0.218543  0.370861  0.410596     7191391\n",
       "4      0.020377  0.834437  0.145186     7171695\n",
       "...         ...       ...       ...         ...\n",
       "74654  0.206016  0.433598  0.360386     6928108\n",
       "74655  0.075387  0.567655  0.356959     6906674\n",
       "74656  0.064382  0.684060  0.251558     6897967\n",
       "74657  0.014280  0.862356  0.123364     6842183\n",
       "74658  0.111303  0.526900  0.361797     6889319\n",
       "\n",
       "[74659 rows x 4 columns]"
      ]
     },
     "execution_count": 19,
     "metadata": {},
     "output_type": "execute_result"
    }
   ],
   "source": [
    "preds = grid_object.predict_proba(testX)\n",
    "out_df = pd.DataFrame(preds)\n",
    "out_df.columns = le.classes_\n",
    "out_df[\"listing_id\"] = testData.listing_id.values\n",
    "out_df"
   ]
  },
  {
   "cell_type": "code",
   "execution_count": 20,
   "metadata": {},
   "outputs": [],
   "source": [
    "out_df.to_csv(\"decisionTreeCV5.csv\", index=False)"
   ]
  },
  {
   "cell_type": "code",
   "execution_count": 21,
   "metadata": {},
   "outputs": [],
   "source": [
    "grid_params = {\n",
    "    'max_depth':  np.linspace(1,10,10,endpoint=True),\n",
    "    'min_samples_split': np.linspace(0.1, 1.0, 10, endpoint=True),\n",
    "    'criterion' : ['gini', 'entropy']\n",
    "}\n",
    "dt = tree.DecisionTreeClassifier()\n",
    "grid_object = GridSearchCV(estimator = dt, param_grid = grid_params, scoring = 'neg_log_loss', cv = 10, n_jobs = -1,return_train_score = True)"
   ]
  },
  {
   "cell_type": "code",
   "execution_count": 22,
   "metadata": {},
   "outputs": [
    {
     "data": {
      "text/plain": [
       "GridSearchCV(cv=10, error_score='raise-deprecating',\n",
       "             estimator=DecisionTreeClassifier(class_weight=None,\n",
       "                                              criterion='gini', max_depth=None,\n",
       "                                              max_features=None,\n",
       "                                              max_leaf_nodes=None,\n",
       "                                              min_impurity_decrease=0.0,\n",
       "                                              min_impurity_split=None,\n",
       "                                              min_samples_leaf=1,\n",
       "                                              min_samples_split=2,\n",
       "                                              min_weight_fraction_leaf=0.0,\n",
       "                                              presort=False, random_state=None,\n",
       "                                              splitter='best'),\n",
       "             iid='warn', n_jobs=-1,\n",
       "             param_grid={'criterion': ['gini', 'entropy'],\n",
       "                         'max_depth': array([ 1.,  2.,  3.,  4.,  5.,  6.,  7.,  8.,  9., 10.]),\n",
       "                         'min_samples_split': array([0.1, 0.2, 0.3, 0.4, 0.5, 0.6, 0.7, 0.8, 0.9, 1. ])},\n",
       "             pre_dispatch='2*n_jobs', refit=True, return_train_score=True,\n",
       "             scoring='neg_log_loss', verbose=0)"
      ]
     },
     "execution_count": 22,
     "metadata": {},
     "output_type": "execute_result"
    }
   ],
   "source": [
    "grid_object.fit(X,y)"
   ]
  },
  {
   "cell_type": "code",
   "execution_count": 23,
   "metadata": {},
   "outputs": [
    {
     "data": {
      "text/plain": [
       "{'criterion': 'entropy', 'max_depth': 7.0, 'min_samples_split': 0.1}"
      ]
     },
     "execution_count": 23,
     "metadata": {},
     "output_type": "execute_result"
    }
   ],
   "source": [
    "grid_object.best_params_"
   ]
  },
  {
   "cell_type": "code",
   "execution_count": 24,
   "metadata": {},
   "outputs": [
    {
     "data": {
      "text/plain": [
       "-0.7255701370141183"
      ]
     },
     "execution_count": 24,
     "metadata": {},
     "output_type": "execute_result"
    }
   ],
   "source": [
    "grid_object.best_score_"
   ]
  },
  {
   "cell_type": "code",
   "execution_count": 25,
   "metadata": {},
   "outputs": [
    {
     "data": {
      "text/html": [
       "<div>\n",
       "<style scoped>\n",
       "    .dataframe tbody tr th:only-of-type {\n",
       "        vertical-align: middle;\n",
       "    }\n",
       "\n",
       "    .dataframe tbody tr th {\n",
       "        vertical-align: top;\n",
       "    }\n",
       "\n",
       "    .dataframe thead th {\n",
       "        text-align: right;\n",
       "    }\n",
       "</style>\n",
       "<table border=\"1\" class=\"dataframe\">\n",
       "  <thead>\n",
       "    <tr style=\"text-align: right;\">\n",
       "      <th></th>\n",
       "      <th>high</th>\n",
       "      <th>low</th>\n",
       "      <th>medium</th>\n",
       "      <th>listing_id</th>\n",
       "    </tr>\n",
       "  </thead>\n",
       "  <tbody>\n",
       "    <tr>\n",
       "      <th>0</th>\n",
       "      <td>0.050304</td>\n",
       "      <td>0.648190</td>\n",
       "      <td>0.301506</td>\n",
       "      <td>7142618</td>\n",
       "    </tr>\n",
       "    <tr>\n",
       "      <th>1</th>\n",
       "      <td>0.218543</td>\n",
       "      <td>0.370861</td>\n",
       "      <td>0.410596</td>\n",
       "      <td>7210040</td>\n",
       "    </tr>\n",
       "    <tr>\n",
       "      <th>2</th>\n",
       "      <td>0.064382</td>\n",
       "      <td>0.684060</td>\n",
       "      <td>0.251558</td>\n",
       "      <td>7174566</td>\n",
       "    </tr>\n",
       "    <tr>\n",
       "      <th>3</th>\n",
       "      <td>0.218543</td>\n",
       "      <td>0.370861</td>\n",
       "      <td>0.410596</td>\n",
       "      <td>7191391</td>\n",
       "    </tr>\n",
       "    <tr>\n",
       "      <th>4</th>\n",
       "      <td>0.020377</td>\n",
       "      <td>0.834437</td>\n",
       "      <td>0.145186</td>\n",
       "      <td>7171695</td>\n",
       "    </tr>\n",
       "    <tr>\n",
       "      <th>...</th>\n",
       "      <td>...</td>\n",
       "      <td>...</td>\n",
       "      <td>...</td>\n",
       "      <td>...</td>\n",
       "    </tr>\n",
       "    <tr>\n",
       "      <th>74654</th>\n",
       "      <td>0.206016</td>\n",
       "      <td>0.433598</td>\n",
       "      <td>0.360386</td>\n",
       "      <td>6928108</td>\n",
       "    </tr>\n",
       "    <tr>\n",
       "      <th>74655</th>\n",
       "      <td>0.075387</td>\n",
       "      <td>0.567655</td>\n",
       "      <td>0.356959</td>\n",
       "      <td>6906674</td>\n",
       "    </tr>\n",
       "    <tr>\n",
       "      <th>74656</th>\n",
       "      <td>0.064382</td>\n",
       "      <td>0.684060</td>\n",
       "      <td>0.251558</td>\n",
       "      <td>6897967</td>\n",
       "    </tr>\n",
       "    <tr>\n",
       "      <th>74657</th>\n",
       "      <td>0.014280</td>\n",
       "      <td>0.862356</td>\n",
       "      <td>0.123364</td>\n",
       "      <td>6842183</td>\n",
       "    </tr>\n",
       "    <tr>\n",
       "      <th>74658</th>\n",
       "      <td>0.111303</td>\n",
       "      <td>0.526900</td>\n",
       "      <td>0.361797</td>\n",
       "      <td>6889319</td>\n",
       "    </tr>\n",
       "  </tbody>\n",
       "</table>\n",
       "<p>74659 rows × 4 columns</p>\n",
       "</div>"
      ],
      "text/plain": [
       "           high       low    medium  listing_id\n",
       "0      0.050304  0.648190  0.301506     7142618\n",
       "1      0.218543  0.370861  0.410596     7210040\n",
       "2      0.064382  0.684060  0.251558     7174566\n",
       "3      0.218543  0.370861  0.410596     7191391\n",
       "4      0.020377  0.834437  0.145186     7171695\n",
       "...         ...       ...       ...         ...\n",
       "74654  0.206016  0.433598  0.360386     6928108\n",
       "74655  0.075387  0.567655  0.356959     6906674\n",
       "74656  0.064382  0.684060  0.251558     6897967\n",
       "74657  0.014280  0.862356  0.123364     6842183\n",
       "74658  0.111303  0.526900  0.361797     6889319\n",
       "\n",
       "[74659 rows x 4 columns]"
      ]
     },
     "execution_count": 25,
     "metadata": {},
     "output_type": "execute_result"
    }
   ],
   "source": [
    "preds = grid_object.predict_proba(testX)\n",
    "out_df = pd.DataFrame(preds)\n",
    "out_df.columns = le.classes_\n",
    "out_df[\"listing_id\"] = testData.listing_id.values\n",
    "out_df"
   ]
  },
  {
   "cell_type": "code",
   "execution_count": 26,
   "metadata": {},
   "outputs": [],
   "source": [
    "out_df.to_csv(\"decisionTreeCV10.csv\", index=False)"
   ]
  },
  {
   "cell_type": "markdown",
   "metadata": {},
   "source": [
    "## Additional Metrics for validation dataset\n",
    "Accuracy Score: the model accuracy is determined by comparing how many of the predicted labels matches with the true labels\n",
    "Reference: https://scikit-learn.org/stable/modules/model_evaluation.html#classification-metrics"
   ]
  },
  {
   "cell_type": "code",
   "execution_count": 27,
   "metadata": {},
   "outputs": [
    {
     "name": "stdout",
     "output_type": "stream",
     "text": [
      "0.680577840353701\n"
     ]
    }
   ],
   "source": [
    "model = tree.DecisionTreeClassifier(max_depth=5)\n",
    "kf = KFold(n_splits=10)\n",
    "acc_scores = []\n",
    "for train_index, val_index in kf.split(X, y):\n",
    "    train_X, val_X = X.iloc[train_index,:], X.iloc[val_index,:]\n",
    "    train_y, val_y = y[train_index], y[val_index]\n",
    "    model.fit(train_X, train_y)\n",
    "    val_y_pred = model.predict(val_X)\n",
    "    score = metrics.accuracy_score(val_y, val_y_pred)\n",
    "    acc_scores.append(score)\n",
    "print(np.mean(acc_scores))"
   ]
  },
  {
   "cell_type": "code",
   "execution_count": null,
   "metadata": {},
   "outputs": [],
   "source": []
  }
 ],
 "metadata": {
  "kernelspec": {
   "display_name": "Python 3",
   "language": "python",
   "name": "python3"
  },
  "language_info": {
   "codemirror_mode": {
    "name": "ipython",
    "version": 3
   },
   "file_extension": ".py",
   "mimetype": "text/x-python",
   "name": "python",
   "nbconvert_exporter": "python",
   "pygments_lexer": "ipython3",
   "version": "3.6.9"
  }
 },
 "nbformat": 4,
 "nbformat_minor": 2
}
