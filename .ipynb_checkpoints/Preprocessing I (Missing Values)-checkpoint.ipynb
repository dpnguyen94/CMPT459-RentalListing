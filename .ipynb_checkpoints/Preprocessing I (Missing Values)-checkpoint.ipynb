{
 "cells": [
  {
   "cell_type": "code",
   "execution_count": 1,
   "metadata": {},
   "outputs": [],
   "source": [
    "import numpy as np\n",
    "import pandas as pd\n",
    "import matplotlib.pyplot as plt\n",
    "import re\n",
    "from pandas.plotting import table\n",
    "import seaborn as sns\n",
    "\n",
    "%matplotlib inline\n",
    "sns.set(color_codes=True)"
   ]
  },
  {
   "cell_type": "code",
   "execution_count": 2,
   "metadata": {},
   "outputs": [],
   "source": [
    "trainDataDir = \"dataset/two-sigma-connect-rental-listing-inquiries/train.json.zip\""
   ]
  },
  {
   "cell_type": "code",
   "execution_count": 3,
   "metadata": {
    "scrolled": true
   },
   "outputs": [
    {
     "data": {
      "text/plain": [
       "bathrooms          49352\n",
       "bedrooms           49352\n",
       "building_id        49352\n",
       "created            49352\n",
       "description        49352\n",
       "display_address    49352\n",
       "features           49352\n",
       "latitude           49352\n",
       "listing_id         49352\n",
       "longitude          49352\n",
       "manager_id         49352\n",
       "photos             49352\n",
       "price              49352\n",
       "street_address     49352\n",
       "interest_level     49352\n",
       "dtype: int64"
      ]
     },
     "execution_count": 3,
     "metadata": {},
     "output_type": "execute_result"
    }
   ],
   "source": [
    "trainData = pd.read_json(trainDataDir, convert_dates=['created'])\n",
    "trainData = trainData.reset_index(drop=True)\n",
    "trainData.count()"
   ]
  },
  {
   "cell_type": "code",
   "execution_count": 4,
   "metadata": {
    "scrolled": true
   },
   "outputs": [
    {
     "data": {
      "text/plain": [
       "bathrooms          0\n",
       "bedrooms           0\n",
       "building_id        0\n",
       "created            0\n",
       "description        0\n",
       "display_address    0\n",
       "features           0\n",
       "latitude           0\n",
       "listing_id         0\n",
       "longitude          0\n",
       "manager_id         0\n",
       "photos             0\n",
       "price              0\n",
       "street_address     0\n",
       "interest_level     0\n",
       "dtype: int64"
      ]
     },
     "execution_count": 4,
     "metadata": {},
     "output_type": "execute_result"
    }
   ],
   "source": [
    "#pre-check for global nan and null value\n",
    "trainData.isnull().sum()"
   ]
  },
  {
   "cell_type": "markdown",
   "metadata": {},
   "source": [
    "# Missing value\n",
    "\n",
    "Find and mark missing value as np.nan <br>"
   ]
  },
  {
   "cell_type": "markdown",
   "metadata": {},
   "source": [
    "### Description and Features\n",
    "Since features can be derived from description,<br>\n",
    "only remove records without description and features"
   ]
  },
  {
   "cell_type": "code",
   "execution_count": 5,
   "metadata": {},
   "outputs": [
    {
     "data": {
      "text/plain": [
       "58"
      ]
     },
     "execution_count": 5,
     "metadata": {},
     "output_type": "execute_result"
    }
   ],
   "source": [
    "nullCheck = trainData[['features']]\n",
    "#https://stackoverflow.com/questions/27159189/find-empty-or-nan-entry-in-pandas-dataframe\n",
    "row1, column1 = np.where(nullCheck.applymap(lambda x: not x))\n",
    "nullCheck = trainData[['description']]\n",
    "row2, column2 = np.where(nullCheck.applymap(lambda x: not x))\n",
    "a = pd.Index(row1)\n",
    "b = pd.Index(row2)\n",
    "c = a.intersection(b)\n",
    "c.size"
   ]
  },
  {
   "cell_type": "code",
   "execution_count": 6,
   "metadata": {},
   "outputs": [],
   "source": [
    "trainData = trainData.drop(c)"
   ]
  },
  {
   "cell_type": "markdown",
   "metadata": {},
   "source": [
    "### Bathrooms"
   ]
  },
  {
   "cell_type": "code",
   "execution_count": 7,
   "metadata": {},
   "outputs": [],
   "source": [
    "nullCheck = trainData[['bathrooms']]"
   ]
  },
  {
   "cell_type": "code",
   "execution_count": 8,
   "metadata": {},
   "outputs": [
    {
     "data": {
      "text/plain": [
       "dtype('float64')"
      ]
     },
     "execution_count": 8,
     "metadata": {},
     "output_type": "execute_result"
    }
   ],
   "source": [
    "nullCheck['bathrooms'].dtypes"
   ]
  },
  {
   "cell_type": "code",
   "execution_count": 9,
   "metadata": {
    "scrolled": true
   },
   "outputs": [
    {
     "data": {
      "text/plain": [
       "1.0     39368\n",
       "2.0      7656\n",
       "3.0       745\n",
       "1.5       645\n",
       "0.0       313\n",
       "2.5       277\n",
       "4.0       159\n",
       "3.5        70\n",
       "4.5        29\n",
       "5.0        20\n",
       "5.5         5\n",
       "6.0         4\n",
       "10.0        1\n",
       "6.5         1\n",
       "7.0         1\n",
       "Name: bathrooms, dtype: int64"
      ]
     },
     "execution_count": 9,
     "metadata": {},
     "output_type": "execute_result"
    }
   ],
   "source": [
    "nullCheck['bathrooms'].value_counts()"
   ]
  },
  {
   "cell_type": "markdown",
   "metadata": {},
   "source": [
    "### Bedrooms"
   ]
  },
  {
   "cell_type": "code",
   "execution_count": 10,
   "metadata": {
    "scrolled": false
   },
   "outputs": [],
   "source": [
    "nullCheck = trainData[['bedrooms']]"
   ]
  },
  {
   "cell_type": "code",
   "execution_count": 11,
   "metadata": {},
   "outputs": [
    {
     "data": {
      "text/plain": [
       "dtype('int64')"
      ]
     },
     "execution_count": 11,
     "metadata": {},
     "output_type": "execute_result"
    }
   ],
   "source": [
    "nullCheck['bedrooms'].dtypes"
   ]
  },
  {
   "cell_type": "code",
   "execution_count": 12,
   "metadata": {},
   "outputs": [
    {
     "data": {
      "text/plain": [
       "1    15727\n",
       "2    14608\n",
       "0     9464\n",
       "3     7273\n",
       "4     1926\n",
       "5      246\n",
       "6       46\n",
       "8        2\n",
       "7        2\n",
       "Name: bedrooms, dtype: int64"
      ]
     },
     "execution_count": 12,
     "metadata": {},
     "output_type": "execute_result"
    }
   ],
   "source": [
    "nullCheck['bedrooms'].value_counts()"
   ]
  },
  {
   "cell_type": "markdown",
   "metadata": {},
   "source": [
    "### Building ID"
   ]
  },
  {
   "cell_type": "code",
   "execution_count": 13,
   "metadata": {
    "scrolled": false
   },
   "outputs": [],
   "source": [
    "nullCheck = trainData[['building_id']]"
   ]
  },
  {
   "cell_type": "code",
   "execution_count": 14,
   "metadata": {
    "scrolled": true
   },
   "outputs": [
    {
     "data": {
      "text/plain": [
       "0                                   8283\n",
       "96274288c84ddd7d5c5d8e425ee75027     275\n",
       "11e1dec9d14b1a9e528386a2504b3afc     215\n",
       "80a120d6bc3aba97f40fee8c2204524b     213\n",
       "bb8658a3e432fb62a440615333376345     212\n",
       "                                    ... \n",
       "bb72b607b36450f532607769fd09770c       1\n",
       "552d4a90ef110e4a2f6ab0c510df0443       1\n",
       "bf0237b404547e6629a61e7a06f9837f       1\n",
       "3b887f72f1591f7b7850e4d314052b9c       1\n",
       "747d2dc642fb599e932846f68dd1aa09       1\n",
       "Name: building_id, Length: 7573, dtype: int64"
      ]
     },
     "execution_count": 14,
     "metadata": {},
     "output_type": "execute_result"
    }
   ],
   "source": [
    "nullCheck['building_id'].value_counts()"
   ]
  },
  {
   "cell_type": "code",
   "execution_count": 15,
   "metadata": {},
   "outputs": [],
   "source": [
    "trainData['building_id'] = trainData['building_id'].replace('0', np.nan)"
   ]
  },
  {
   "cell_type": "markdown",
   "metadata": {},
   "source": [
    "### Created"
   ]
  },
  {
   "cell_type": "code",
   "execution_count": 16,
   "metadata": {
    "scrolled": false
   },
   "outputs": [],
   "source": [
    "nullCheck = trainData[['created']]"
   ]
  },
  {
   "cell_type": "code",
   "execution_count": 17,
   "metadata": {},
   "outputs": [
    {
     "data": {
      "text/plain": [
       "2016-06-11 01:20:36    3\n",
       "2016-05-02 03:41:36    3\n",
       "2016-04-15 02:24:25    3\n",
       "2016-05-17 14:29:08    3\n",
       "2016-05-14 01:11:03    3\n",
       "                      ..\n",
       "2016-05-04 06:04:43    1\n",
       "2016-04-19 02:33:30    1\n",
       "2016-04-07 03:25:11    1\n",
       "2016-06-24 07:24:56    1\n",
       "2016-04-09 05:37:36    1\n",
       "Name: created, Length: 48617, dtype: int64"
      ]
     },
     "execution_count": 17,
     "metadata": {},
     "output_type": "execute_result"
    }
   ],
   "source": [
    "nullCheck['created'].value_counts()"
   ]
  },
  {
   "cell_type": "code",
   "execution_count": 18,
   "metadata": {
    "scrolled": true
   },
   "outputs": [
    {
     "data": {
      "text/plain": [
       "0"
      ]
     },
     "execution_count": 18,
     "metadata": {},
     "output_type": "execute_result"
    }
   ],
   "source": [
    "row, column = np.where(nullCheck.applymap(lambda x: not x))\n",
    "row.size"
   ]
  },
  {
   "cell_type": "markdown",
   "metadata": {},
   "source": [
    "### Listing Id"
   ]
  },
  {
   "cell_type": "code",
   "execution_count": 19,
   "metadata": {
    "scrolled": true
   },
   "outputs": [],
   "source": [
    "nullCheck = trainData[['listing_id']]"
   ]
  },
  {
   "cell_type": "code",
   "execution_count": 20,
   "metadata": {
    "scrolled": true
   },
   "outputs": [
    {
     "data": {
      "text/plain": [
       "6819838    1\n",
       "6973772    1\n",
       "6880501    1\n",
       "7209390    1\n",
       "7068913    1\n",
       "          ..\n",
       "7088688    1\n",
       "7127597    1\n",
       "7195180    1\n",
       "7008811    1\n",
       "7143424    1\n",
       "Name: listing_id, Length: 49294, dtype: int64"
      ]
     },
     "execution_count": 20,
     "metadata": {},
     "output_type": "execute_result"
    }
   ],
   "source": [
    "nullCheck['listing_id'].value_counts()"
   ]
  },
  {
   "cell_type": "markdown",
   "metadata": {},
   "source": [
    "### Latitude"
   ]
  },
  {
   "cell_type": "code",
   "execution_count": 21,
   "metadata": {},
   "outputs": [],
   "source": [
    "nullCheck = trainData[['latitude']]"
   ]
  },
  {
   "cell_type": "code",
   "execution_count": 22,
   "metadata": {
    "scrolled": true
   },
   "outputs": [
    {
     "data": {
      "text/plain": [
       "12"
      ]
     },
     "execution_count": 22,
     "metadata": {},
     "output_type": "execute_result"
    }
   ],
   "source": [
    "#Check zero\n",
    "row, column = np.where(nullCheck.applymap(lambda x: x == 0))\n",
    "row.size"
   ]
  },
  {
   "cell_type": "code",
   "execution_count": 23,
   "metadata": {},
   "outputs": [],
   "source": [
    "trainData['latitude'] = trainData['latitude'].apply(lambda x: np.nan if x == 0 else x)"
   ]
  },
  {
   "cell_type": "markdown",
   "metadata": {},
   "source": [
    "### Longitude"
   ]
  },
  {
   "cell_type": "code",
   "execution_count": 24,
   "metadata": {},
   "outputs": [],
   "source": [
    "nullCheck = trainData[['longitude']]"
   ]
  },
  {
   "cell_type": "code",
   "execution_count": 25,
   "metadata": {},
   "outputs": [
    {
     "data": {
      "text/plain": [
       "12"
      ]
     },
     "execution_count": 25,
     "metadata": {},
     "output_type": "execute_result"
    }
   ],
   "source": [
    "#Check zero\n",
    "row, column = np.where(nullCheck.applymap(lambda x: x == 0))\n",
    "row.size"
   ]
  },
  {
   "cell_type": "code",
   "execution_count": 26,
   "metadata": {
    "scrolled": true
   },
   "outputs": [],
   "source": [
    "trainData['longitude'] = trainData['longitude'].apply(lambda x: np.nan if x == 0 else x)"
   ]
  },
  {
   "cell_type": "markdown",
   "metadata": {},
   "source": [
    "### Manager Id"
   ]
  },
  {
   "cell_type": "code",
   "execution_count": 27,
   "metadata": {},
   "outputs": [
    {
     "data": {
      "text/plain": [
       "manager_id    object\n",
       "dtype: object"
      ]
     },
     "execution_count": 27,
     "metadata": {},
     "output_type": "execute_result"
    }
   ],
   "source": [
    "nullCheck = trainData[['manager_id']]\n",
    "nullCheck.dtypes"
   ]
  },
  {
   "cell_type": "code",
   "execution_count": 28,
   "metadata": {},
   "outputs": [
    {
     "data": {
      "text/plain": [
       "e6472c7237327dd3903b3d6f6a94515a    2532\n",
       "6e5c10246156ae5bdcd9b487ca99d96a     711\n",
       "8f5a9c893f6d602f4953fcc0b8e6e9b4     410\n",
       "62b685cc0d876c3a1a51d63a0d6a8082     395\n",
       "cb87dadbca78fad02b388dc9e8f25a5b     373\n",
       "                                    ... \n",
       "f398f307789fc70a80e152a96d02712a       1\n",
       "9fdbf904a7fc56abe396ab272b154885       1\n",
       "927b67f1129f6404cd9168c42cb76ef0       1\n",
       "7a9463349cbe429662215d14ba436b5b       1\n",
       "1754109a5a0fd778626aff18c4060f97       1\n",
       "Name: manager_id, Length: 3480, dtype: int64"
      ]
     },
     "execution_count": 28,
     "metadata": {},
     "output_type": "execute_result"
    }
   ],
   "source": [
    "nullCheck['manager_id'].value_counts()"
   ]
  },
  {
   "cell_type": "code",
   "execution_count": 29,
   "metadata": {},
   "outputs": [
    {
     "data": {
      "text/plain": [
       "array([], dtype=int64)"
      ]
     },
     "execution_count": 29,
     "metadata": {},
     "output_type": "execute_result"
    }
   ],
   "source": [
    "#https://stackoverflow.com/questions/27159189/find-empty-or-nan-entry-in-pandas-dataframe\n",
    "row, column = np.where(nullCheck.applymap(lambda x: x == ''))\n",
    "row"
   ]
  },
  {
   "cell_type": "markdown",
   "metadata": {},
   "source": [
    "### Photos"
   ]
  },
  {
   "cell_type": "code",
   "execution_count": 30,
   "metadata": {},
   "outputs": [],
   "source": [
    "nullCheck = trainData[['photos']]"
   ]
  },
  {
   "cell_type": "code",
   "execution_count": 31,
   "metadata": {},
   "outputs": [
    {
     "data": {
      "text/plain": [
       "3593"
      ]
     },
     "execution_count": 31,
     "metadata": {},
     "output_type": "execute_result"
    }
   ],
   "source": [
    "#https://stackoverflow.com/questions/27159189/find-empty-or-nan-entry-in-pandas-dataframe\n",
    "row, column = np.where(nullCheck.applymap(lambda x: not x))\n",
    "row.size"
   ]
  },
  {
   "cell_type": "code",
   "execution_count": 32,
   "metadata": {
    "scrolled": false
   },
   "outputs": [],
   "source": [
    "trainData['photos'] = trainData['photos'].apply(lambda x: np.nan if len(x) == 0 else x)"
   ]
  },
  {
   "cell_type": "markdown",
   "metadata": {},
   "source": [
    "### Display Address"
   ]
  },
  {
   "cell_type": "code",
   "execution_count": 33,
   "metadata": {},
   "outputs": [],
   "source": [
    "nullCheck = trainData[['display_address']]"
   ]
  },
  {
   "cell_type": "code",
   "execution_count": 34,
   "metadata": {},
   "outputs": [
    {
     "data": {
      "text/plain": [
       "134"
      ]
     },
     "execution_count": 34,
     "metadata": {},
     "output_type": "execute_result"
    }
   ],
   "source": [
    "#https://stackoverflow.com/questions/27159189/find-empty-or-nan-entry-in-pandas-dataframe\n",
    "row, column = np.where(nullCheck.applymap(lambda x: not x))\n",
    "row.size"
   ]
  },
  {
   "cell_type": "code",
   "execution_count": 35,
   "metadata": {},
   "outputs": [],
   "source": [
    "trainData['display_address'] = trainData['display_address'].apply(lambda x: np.nan if not x else x)"
   ]
  },
  {
   "cell_type": "markdown",
   "metadata": {},
   "source": [
    "### Street Address"
   ]
  },
  {
   "cell_type": "code",
   "execution_count": 36,
   "metadata": {},
   "outputs": [],
   "source": [
    "nullCheck = trainData[['street_address']]"
   ]
  },
  {
   "cell_type": "code",
   "execution_count": 37,
   "metadata": {},
   "outputs": [
    {
     "data": {
      "text/plain": [
       "10"
      ]
     },
     "execution_count": 37,
     "metadata": {},
     "output_type": "execute_result"
    }
   ],
   "source": [
    "#https://stackoverflow.com/questions/27159189/find-empty-or-nan-entry-in-pandas-dataframe\n",
    "row, column = np.where(nullCheck.applymap(lambda x: not x))\n",
    "row.size"
   ]
  },
  {
   "cell_type": "code",
   "execution_count": 38,
   "metadata": {},
   "outputs": [],
   "source": [
    "trainData['street_address'] = trainData['street_address'].apply(lambda x: np.nan if not x else x)"
   ]
  },
  {
   "cell_type": "markdown",
   "metadata": {},
   "source": [
    "### Price"
   ]
  },
  {
   "cell_type": "code",
   "execution_count": 39,
   "metadata": {},
   "outputs": [],
   "source": [
    "nullCheck = trainData[['price']]"
   ]
  },
  {
   "cell_type": "code",
   "execution_count": 40,
   "metadata": {},
   "outputs": [
    {
     "data": {
      "text/plain": [
       "2500    1106\n",
       "3200     881\n",
       "3000     839\n",
       "2700     775\n",
       "2400     771\n",
       "        ... \n",
       "7754       1\n",
       "5717       1\n",
       "7416       1\n",
       "1243       1\n",
       "2231       1\n",
       "Name: price, Length: 2807, dtype: int64"
      ]
     },
     "execution_count": 40,
     "metadata": {},
     "output_type": "execute_result"
    }
   ],
   "source": [
    "nullCheck['price'].value_counts()"
   ]
  },
  {
   "cell_type": "markdown",
   "metadata": {},
   "source": [
    "### Interest Level"
   ]
  },
  {
   "cell_type": "code",
   "execution_count": 41,
   "metadata": {},
   "outputs": [],
   "source": [
    "nullCheck = trainData[['interest_level']]"
   ]
  },
  {
   "cell_type": "code",
   "execution_count": 42,
   "metadata": {},
   "outputs": [
    {
     "data": {
      "text/plain": [
       "low       34248\n",
       "medium    11216\n",
       "high       3830\n",
       "Name: interest_level, dtype: int64"
      ]
     },
     "execution_count": 42,
     "metadata": {},
     "output_type": "execute_result"
    }
   ],
   "source": [
    "nullCheck['interest_level'].value_counts()"
   ]
  },
  {
   "cell_type": "markdown",
   "metadata": {},
   "source": [
    "# Summary"
   ]
  },
  {
   "cell_type": "code",
   "execution_count": 52,
   "metadata": {
    "scrolled": false
   },
   "outputs": [
    {
     "data": {
      "text/html": [
       "<div>\n",
       "<style scoped>\n",
       "    .dataframe tbody tr th:only-of-type {\n",
       "        vertical-align: middle;\n",
       "    }\n",
       "\n",
       "    .dataframe tbody tr th {\n",
       "        vertical-align: top;\n",
       "    }\n",
       "\n",
       "    .dataframe thead th {\n",
       "        text-align: right;\n",
       "    }\n",
       "</style>\n",
       "<table border=\"1\" class=\"dataframe\">\n",
       "  <thead>\n",
       "    <tr style=\"text-align: right;\">\n",
       "      <th></th>\n",
       "      <th>missing_value_counts</th>\n",
       "    </tr>\n",
       "  </thead>\n",
       "  <tbody>\n",
       "    <tr>\n",
       "      <td>bathrooms</td>\n",
       "      <td>0</td>\n",
       "    </tr>\n",
       "    <tr>\n",
       "      <td>bedrooms</td>\n",
       "      <td>0</td>\n",
       "    </tr>\n",
       "    <tr>\n",
       "      <td>building_id</td>\n",
       "      <td>8283</td>\n",
       "    </tr>\n",
       "    <tr>\n",
       "      <td>created</td>\n",
       "      <td>0</td>\n",
       "    </tr>\n",
       "    <tr>\n",
       "      <td>description</td>\n",
       "      <td>0</td>\n",
       "    </tr>\n",
       "    <tr>\n",
       "      <td>display_address</td>\n",
       "      <td>134</td>\n",
       "    </tr>\n",
       "    <tr>\n",
       "      <td>features</td>\n",
       "      <td>0</td>\n",
       "    </tr>\n",
       "    <tr>\n",
       "      <td>latitude</td>\n",
       "      <td>12</td>\n",
       "    </tr>\n",
       "    <tr>\n",
       "      <td>listing_id</td>\n",
       "      <td>0</td>\n",
       "    </tr>\n",
       "    <tr>\n",
       "      <td>longitude</td>\n",
       "      <td>12</td>\n",
       "    </tr>\n",
       "    <tr>\n",
       "      <td>manager_id</td>\n",
       "      <td>0</td>\n",
       "    </tr>\n",
       "    <tr>\n",
       "      <td>photos</td>\n",
       "      <td>3593</td>\n",
       "    </tr>\n",
       "    <tr>\n",
       "      <td>price</td>\n",
       "      <td>0</td>\n",
       "    </tr>\n",
       "    <tr>\n",
       "      <td>street_address</td>\n",
       "      <td>10</td>\n",
       "    </tr>\n",
       "    <tr>\n",
       "      <td>interest_level</td>\n",
       "      <td>0</td>\n",
       "    </tr>\n",
       "  </tbody>\n",
       "</table>\n",
       "</div>"
      ],
      "text/plain": [
       "                 missing_value_counts\n",
       "bathrooms                           0\n",
       "bedrooms                            0\n",
       "building_id                      8283\n",
       "created                             0\n",
       "description                         0\n",
       "display_address                   134\n",
       "features                            0\n",
       "latitude                           12\n",
       "listing_id                          0\n",
       "longitude                          12\n",
       "manager_id                          0\n",
       "photos                           3593\n",
       "price                               0\n",
       "street_address                     10\n",
       "interest_level                      0"
      ]
     },
     "metadata": {},
     "output_type": "display_data"
    }
   ],
   "source": [
    "#check for nan and null value of all columns\n",
    "missing_counts = trainData.isnull().sum()\n",
    "df_missing_counts = pd.DataFrame(missing_counts, columns=['missing_value_counts'])\n",
    "display(df_missing_counts)"
   ]
  },
  {
   "cell_type": "code",
   "execution_count": null,
   "metadata": {},
   "outputs": [],
   "source": [
    " \n"
   ]
  },
  {
   "cell_type": "code",
   "execution_count": 44,
   "metadata": {},
   "outputs": [],
   "source": [
    "trainDataWithNaNDir = \"dataset/two-sigma-connect-rental-listing-inquiries/trainNaN.json.zip\"\n",
    "trainData.to_json(trainDataWithNaNDir)"
   ]
  },
  {
   "cell_type": "code",
   "execution_count": null,
   "metadata": {},
   "outputs": [],
   "source": []
  }
 ],
 "metadata": {
  "kernelspec": {
   "display_name": "Python 3",
   "language": "python",
   "name": "python3"
  },
  "language_info": {
   "codemirror_mode": {
    "name": "ipython",
    "version": 3
   },
   "file_extension": ".py",
   "mimetype": "text/x-python",
   "name": "python",
   "nbconvert_exporter": "python",
   "pygments_lexer": "ipython3",
   "version": "3.7.4"
  }
 },
 "nbformat": 4,
 "nbformat_minor": 2
}
