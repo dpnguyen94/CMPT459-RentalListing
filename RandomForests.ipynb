{
 "cells": [
  {
   "cell_type": "code",
   "execution_count": 44,
   "metadata": {},
   "outputs": [],
   "source": [
    "import numpy as np\n",
    "import pandas as pd\n",
    "\n",
    "from sklearn.ensemble import RandomForestClassifier\n",
    "from sklearn.preprocessing import LabelEncoder\n",
    "\n",
    "from sklearn.model_selection import train_test_split, StratifiedKFold\n",
    "from sklearn import metrics\n",
    "\n",
    "import matplotlib.pyplot as plt"
   ]
  },
  {
   "cell_type": "markdown",
   "metadata": {},
   "source": [
    "# Training RandomForests classifier"
   ]
  },
  {
   "cell_type": "code",
   "execution_count": 3,
   "metadata": {},
   "outputs": [
    {
     "data": {
      "text/plain": [
       "Index(['bathrooms', 'bedrooms', 'building_id', 'created', 'description',\n",
       "       'display_address', 'features', 'interest_level', 'latitude',\n",
       "       'listing_id', 'longitude', 'manager_id', 'photos', 'price',\n",
       "       'street_address', 'grayscale_hist', 'avg_pixel_values', 'num_photos',\n",
       "       'desc_word_count', 'desc_char_count', 'desc_avg_word_length',\n",
       "       'desc_special_char_count', 'desc_num_count', 'desc_upper_count',\n",
       "       'num_features', 'year', 'month', 'day'],\n",
       "      dtype='object')"
      ]
     },
     "execution_count": 3,
     "metadata": {},
     "output_type": "execute_result"
    }
   ],
   "source": [
    "#Train data\n",
    "trainCleaned = \"dataset/two-sigma-connect-rental-listing-inquiries/trainTextExtract.json.zip\"\n",
    "trainData = pd.read_json(trainCleaned, convert_dates=['created'])\n",
    "\n",
    "#Test data\n",
    "testDataDir = \"dataset/two-sigma-connect-rental-listing-inquiries/testTextExtract.json.zip\"\n",
    "testData = pd.read_json(testDataDir, convert_dates=['created'])\n",
    "\n",
    "trainData.columns"
   ]
  },
  {
   "cell_type": "markdown",
   "metadata": {},
   "source": [
    "## Features Selection"
   ]
  },
  {
   "cell_type": "code",
   "execution_count": 6,
   "metadata": {},
   "outputs": [
    {
     "data": {
      "text/html": [
       "<div>\n",
       "<style scoped>\n",
       "    .dataframe tbody tr th:only-of-type {\n",
       "        vertical-align: middle;\n",
       "    }\n",
       "\n",
       "    .dataframe tbody tr th {\n",
       "        vertical-align: top;\n",
       "    }\n",
       "\n",
       "    .dataframe thead th {\n",
       "        text-align: right;\n",
       "    }\n",
       "</style>\n",
       "<table border=\"1\" class=\"dataframe\">\n",
       "  <thead>\n",
       "    <tr style=\"text-align: right;\">\n",
       "      <th></th>\n",
       "      <th>bathrooms</th>\n",
       "      <th>bedrooms</th>\n",
       "      <th>price</th>\n",
       "      <th>year</th>\n",
       "      <th>month</th>\n",
       "      <th>day</th>\n",
       "      <th>desc_word_count</th>\n",
       "      <th>desc_avg_word_length</th>\n",
       "      <th>num_features</th>\n",
       "      <th>latitude</th>\n",
       "      <th>longitude</th>\n",
       "    </tr>\n",
       "  </thead>\n",
       "  <tbody>\n",
       "    <tr>\n",
       "      <th>0</th>\n",
       "      <td>2.0</td>\n",
       "      <td>3</td>\n",
       "      <td>3050</td>\n",
       "      <td>2016</td>\n",
       "      <td>6</td>\n",
       "      <td>24</td>\n",
       "      <td>183</td>\n",
       "      <td>6.044199</td>\n",
       "      <td>8</td>\n",
       "      <td>40.6678</td>\n",
       "      <td>-73.9398</td>\n",
       "    </tr>\n",
       "    <tr>\n",
       "      <th>1</th>\n",
       "      <td>2.0</td>\n",
       "      <td>3</td>\n",
       "      <td>3100</td>\n",
       "      <td>2016</td>\n",
       "      <td>4</td>\n",
       "      <td>29</td>\n",
       "      <td>44</td>\n",
       "      <td>7.477273</td>\n",
       "      <td>0</td>\n",
       "      <td>40.6678</td>\n",
       "      <td>-73.9398</td>\n",
       "    </tr>\n",
       "    <tr>\n",
       "      <th>2</th>\n",
       "      <td>1.0</td>\n",
       "      <td>1</td>\n",
       "      <td>2850</td>\n",
       "      <td>2016</td>\n",
       "      <td>6</td>\n",
       "      <td>17</td>\n",
       "      <td>32</td>\n",
       "      <td>6.225806</td>\n",
       "      <td>3</td>\n",
       "      <td>40.7287</td>\n",
       "      <td>-73.9810</td>\n",
       "    </tr>\n",
       "    <tr>\n",
       "      <th>3</th>\n",
       "      <td>1.0</td>\n",
       "      <td>3</td>\n",
       "      <td>4200</td>\n",
       "      <td>2016</td>\n",
       "      <td>6</td>\n",
       "      <td>8</td>\n",
       "      <td>62</td>\n",
       "      <td>5.393443</td>\n",
       "      <td>3</td>\n",
       "      <td>40.7287</td>\n",
       "      <td>-73.9810</td>\n",
       "    </tr>\n",
       "    <tr>\n",
       "      <th>4</th>\n",
       "      <td>1.0</td>\n",
       "      <td>1</td>\n",
       "      <td>2850</td>\n",
       "      <td>2016</td>\n",
       "      <td>6</td>\n",
       "      <td>11</td>\n",
       "      <td>134</td>\n",
       "      <td>4.684211</td>\n",
       "      <td>3</td>\n",
       "      <td>40.7287</td>\n",
       "      <td>-73.9810</td>\n",
       "    </tr>\n",
       "  </tbody>\n",
       "</table>\n",
       "</div>"
      ],
      "text/plain": [
       "   bathrooms  bedrooms  price  year  month  day  desc_word_count  \\\n",
       "0        2.0         3   3050  2016      6   24              183   \n",
       "1        2.0         3   3100  2016      4   29               44   \n",
       "2        1.0         1   2850  2016      6   17               32   \n",
       "3        1.0         3   4200  2016      6    8               62   \n",
       "4        1.0         1   2850  2016      6   11              134   \n",
       "\n",
       "   desc_avg_word_length  num_features  latitude  longitude  \n",
       "0              6.044199             8   40.6678   -73.9398  \n",
       "1              7.477273             0   40.6678   -73.9398  \n",
       "2              6.225806             3   40.7287   -73.9810  \n",
       "3              5.393443             3   40.7287   -73.9810  \n",
       "4              4.684211             3   40.7287   -73.9810  "
      ]
     },
     "execution_count": 6,
     "metadata": {},
     "output_type": "execute_result"
    }
   ],
   "source": [
    "features_list = ['bathrooms', 'bedrooms', 'price', 'year', 'month', 'day', 'desc_word_count', 'desc_avg_word_length', 'num_features', 'latitude', 'longitude']\n",
    "X = trainData[features_list]\n",
    "X_test = testData[features_list]\n",
    "X.head(5)"
   ]
  },
  {
   "cell_type": "markdown",
   "metadata": {},
   "source": [
    "## Label Encoding"
   ]
  },
  {
   "cell_type": "code",
   "execution_count": 9,
   "metadata": {},
   "outputs": [
    {
     "data": {
      "text/plain": [
       "array([1, 1, 1, ..., 2, 2, 0])"
      ]
     },
     "execution_count": 9,
     "metadata": {},
     "output_type": "execute_result"
    }
   ],
   "source": [
    "le=LabelEncoder()\n",
    "target = trainData[['interest_level']]\n",
    "y = le.fit_transform(target['interest_level'])\n",
    "y"
   ]
  },
  {
   "cell_type": "markdown",
   "metadata": {},
   "source": [
    "## Buidling RandomForests model"
   ]
  },
  {
   "cell_type": "markdown",
   "metadata": {},
   "source": [
    "### Original (using log loss metrics)\n",
    "Note: The smaller the log loss, the better. <br/>\n",
    "References: https://ggbaker.ca/data-science/content/ml-classif.html"
   ]
  },
  {
   "cell_type": "code",
   "execution_count": 32,
   "metadata": {},
   "outputs": [
    {
     "data": {
      "text/plain": [
       "0.7744704796744744"
      ]
     },
     "execution_count": 32,
     "metadata": {},
     "output_type": "execute_result"
    }
   ],
   "source": [
    "model = RandomForestClassifier(n_estimators=100, max_depth=3, min_samples_leaf=10)\n",
    "acc_scores = []\n",
    "kf = StratifiedKFold(n_splits=5)\n",
    "for train_index, val_index in kf.split(X, y):\n",
    "    train_X, val_X = X.iloc[train_index,:], X.iloc[val_index,:]\n",
    "    train_y, val_y = y[train_index], y[val_index]\n",
    "    model.fit(train_X, train_y)\n",
    "    val_y_pred = model.predict_proba(val_X)\n",
    "    score = metrics.log_loss(val_y, val_y_pred)\n",
    "    acc_scores.append(score)\n",
    "    \n",
    "np.mean(acc_scores)"
   ]
  },
  {
   "cell_type": "code",
   "execution_count": 33,
   "metadata": {},
   "outputs": [
    {
     "data": {
      "text/html": [
       "<div>\n",
       "<style scoped>\n",
       "    .dataframe tbody tr th:only-of-type {\n",
       "        vertical-align: middle;\n",
       "    }\n",
       "\n",
       "    .dataframe tbody tr th {\n",
       "        vertical-align: top;\n",
       "    }\n",
       "\n",
       "    .dataframe thead th {\n",
       "        text-align: right;\n",
       "    }\n",
       "</style>\n",
       "<table border=\"1\" class=\"dataframe\">\n",
       "  <thead>\n",
       "    <tr style=\"text-align: right;\">\n",
       "      <th></th>\n",
       "      <th>high</th>\n",
       "      <th>low</th>\n",
       "      <th>medium</th>\n",
       "      <th>listing_id</th>\n",
       "    </tr>\n",
       "  </thead>\n",
       "  <tbody>\n",
       "    <tr>\n",
       "      <th>0</th>\n",
       "      <td>0.064418</td>\n",
       "      <td>0.691457</td>\n",
       "      <td>0.244125</td>\n",
       "      <td>7142618</td>\n",
       "    </tr>\n",
       "    <tr>\n",
       "      <th>1</th>\n",
       "      <td>0.079406</td>\n",
       "      <td>0.665912</td>\n",
       "      <td>0.254683</td>\n",
       "      <td>7210040</td>\n",
       "    </tr>\n",
       "    <tr>\n",
       "      <th>2</th>\n",
       "      <td>0.086416</td>\n",
       "      <td>0.667920</td>\n",
       "      <td>0.245664</td>\n",
       "      <td>7174566</td>\n",
       "    </tr>\n",
       "    <tr>\n",
       "      <th>3</th>\n",
       "      <td>0.077253</td>\n",
       "      <td>0.675816</td>\n",
       "      <td>0.246931</td>\n",
       "      <td>7191391</td>\n",
       "    </tr>\n",
       "    <tr>\n",
       "      <th>4</th>\n",
       "      <td>0.061571</td>\n",
       "      <td>0.691229</td>\n",
       "      <td>0.247200</td>\n",
       "      <td>7171695</td>\n",
       "    </tr>\n",
       "    <tr>\n",
       "      <th>...</th>\n",
       "      <td>...</td>\n",
       "      <td>...</td>\n",
       "      <td>...</td>\n",
       "      <td>...</td>\n",
       "    </tr>\n",
       "    <tr>\n",
       "      <th>74654</th>\n",
       "      <td>0.165330</td>\n",
       "      <td>0.538639</td>\n",
       "      <td>0.296031</td>\n",
       "      <td>6928108</td>\n",
       "    </tr>\n",
       "    <tr>\n",
       "      <th>74655</th>\n",
       "      <td>0.076588</td>\n",
       "      <td>0.647832</td>\n",
       "      <td>0.275581</td>\n",
       "      <td>6906674</td>\n",
       "    </tr>\n",
       "    <tr>\n",
       "      <th>74656</th>\n",
       "      <td>0.087632</td>\n",
       "      <td>0.660115</td>\n",
       "      <td>0.252253</td>\n",
       "      <td>6897967</td>\n",
       "    </tr>\n",
       "    <tr>\n",
       "      <th>74657</th>\n",
       "      <td>0.072530</td>\n",
       "      <td>0.678320</td>\n",
       "      <td>0.249150</td>\n",
       "      <td>6842183</td>\n",
       "    </tr>\n",
       "    <tr>\n",
       "      <th>74658</th>\n",
       "      <td>0.075887</td>\n",
       "      <td>0.660587</td>\n",
       "      <td>0.263527</td>\n",
       "      <td>6889319</td>\n",
       "    </tr>\n",
       "  </tbody>\n",
       "</table>\n",
       "<p>74659 rows × 4 columns</p>\n",
       "</div>"
      ],
      "text/plain": [
       "           high       low    medium  listing_id\n",
       "0      0.064418  0.691457  0.244125     7142618\n",
       "1      0.079406  0.665912  0.254683     7210040\n",
       "2      0.086416  0.667920  0.245664     7174566\n",
       "3      0.077253  0.675816  0.246931     7191391\n",
       "4      0.061571  0.691229  0.247200     7171695\n",
       "...         ...       ...       ...         ...\n",
       "74654  0.165330  0.538639  0.296031     6928108\n",
       "74655  0.076588  0.647832  0.275581     6906674\n",
       "74656  0.087632  0.660115  0.252253     6897967\n",
       "74657  0.072530  0.678320  0.249150     6842183\n",
       "74658  0.075887  0.660587  0.263527     6889319\n",
       "\n",
       "[74659 rows x 4 columns]"
      ]
     },
     "execution_count": 33,
     "metadata": {},
     "output_type": "execute_result"
    }
   ],
   "source": [
    "preds = model.predict_proba(X_test)\n",
    "out_df = pd.DataFrame(preds)\n",
    "out_df.columns = le.classes_\n",
    "out_df[\"listing_id\"] = testData.listing_id.values\n",
    "out_df.to_csv(\"RandomForests-1.csv\", index=False)\n",
    "out_df\n",
    "\n",
    "#evaluation from Kaggle: 0.74"
   ]
  },
  {
   "cell_type": "markdown",
   "metadata": {},
   "source": [
    "### Detecting Overfitting\n",
    "Overfitting tends to occur when <b>max_features</b> and/or <b>max_depths</b> increases."
   ]
  },
  {
   "cell_type": "code",
   "execution_count": 50,
   "metadata": {},
   "outputs": [
    {
     "data": {
      "text/plain": [
       "[]"
      ]
     },
     "execution_count": 50,
     "metadata": {},
     "output_type": "execute_result"
    },
    {
     "data": {
      "image/png": "[encoded data removed]",
      "text/plain": [
       "<Figure size 1080x720 with 1 Axes>"
      ]
     },
     "metadata": {
      "needs_background": "light"
     },
     "output_type": "display_data"
    }
   ],
   "source": [
    "max_depth_list = np.linspace(1, 15, num=15)\n",
    "\n",
    "train_accuracy = []\n",
    "test_accuracy = []\n",
    "\n",
    "X_train, X_test, y_train, y_test = train_test_split(X, y)\n",
    "\n",
    "for d in max_depth_list:\n",
    "    model = RandomForestClassifier(n_estimators=100, max_depth=int(d), min_samples_leaf=10) \n",
    "    model.fit(X_train,y_train)\n",
    "    train_accuracy.append(model.score(X_train, y_train))\n",
    "    test_accuracy.append(model.score(X_test, y_test))\n",
    "\n",
    "x = np.arange(len(max_depth_list)) + 1\n",
    "plt.figure(figsize=(15,10))\n",
    "plt.xticks(x)\n",
    "plt.plot(x, train_accuracy, label='Training Accuracy')\n",
    "plt.plot(x, test_accuracy, label='Testing Accuracy')\n",
    "plt.xlabel('Maximum Tree Depth')\n",
    "plt.ylabel('Model Accuracy')\n",
    "plt.legend()\n",
    "plt.plot()"
   ]
  },
  {
   "cell_type": "markdown",
   "metadata": {},
   "source": [
    "### Parameters Tuning\n",
    "Reference: https://scikit-learn.org/stable/modules/ensemble.html#random-forest-parameters"
   ]
  },
  {
   "cell_type": "code",
   "execution_count": 40,
   "metadata": {},
   "outputs": [
    {
     "data": {
      "text/plain": [
       "0.6973606521177252"
      ]
     },
     "execution_count": 40,
     "metadata": {},
     "output_type": "execute_result"
    }
   ],
   "source": [
    "model = RandomForestClassifier(n_estimators=100, max_depth=None, max_features=None, min_samples_leaf=10, min_samples_split=2)\n",
    "\n",
    "acc_scores = []\n",
    "kf = StratifiedKFold(n_splits=5)\n",
    "\n",
    "for train_index, val_index in kf.split(X, y):\n",
    "    train_X, val_X = X.iloc[train_index,:], X.iloc[val_index,:]\n",
    "    train_y, val_y = y[train_index], y[val_index]\n",
    "    model.fit(train_X, train_y)\n",
    "    val_y_pred = model.predict_proba(val_X)\n",
    "    score = metrics.log_loss(val_y, val_y_pred)\n",
    "    acc_scores.append(score)\n",
    "    \n",
    "np.mean(acc_scores)"
   ]
  },
  {
   "cell_type": "code",
   "execution_count": 38,
   "metadata": {},
   "outputs": [
    {
     "data": {
      "text/html": [
       "<div>\n",
       "<style scoped>\n",
       "    .dataframe tbody tr th:only-of-type {\n",
       "        vertical-align: middle;\n",
       "    }\n",
       "\n",
       "    .dataframe tbody tr th {\n",
       "        vertical-align: top;\n",
       "    }\n",
       "\n",
       "    .dataframe thead th {\n",
       "        text-align: right;\n",
       "    }\n",
       "</style>\n",
       "<table border=\"1\" class=\"dataframe\">\n",
       "  <thead>\n",
       "    <tr style=\"text-align: right;\">\n",
       "      <th></th>\n",
       "      <th>high</th>\n",
       "      <th>low</th>\n",
       "      <th>medium</th>\n",
       "      <th>listing_id</th>\n",
       "    </tr>\n",
       "  </thead>\n",
       "  <tbody>\n",
       "    <tr>\n",
       "      <th>0</th>\n",
       "      <td>0.089101</td>\n",
       "      <td>0.636879</td>\n",
       "      <td>0.274019</td>\n",
       "      <td>7142618</td>\n",
       "    </tr>\n",
       "    <tr>\n",
       "      <th>1</th>\n",
       "      <td>0.265800</td>\n",
       "      <td>0.355443</td>\n",
       "      <td>0.378758</td>\n",
       "      <td>7210040</td>\n",
       "    </tr>\n",
       "    <tr>\n",
       "      <th>2</th>\n",
       "      <td>0.097313</td>\n",
       "      <td>0.634431</td>\n",
       "      <td>0.268256</td>\n",
       "      <td>7174566</td>\n",
       "    </tr>\n",
       "    <tr>\n",
       "      <th>3</th>\n",
       "      <td>0.272991</td>\n",
       "      <td>0.368352</td>\n",
       "      <td>0.358656</td>\n",
       "      <td>7191391</td>\n",
       "    </tr>\n",
       "    <tr>\n",
       "      <th>4</th>\n",
       "      <td>0.015431</td>\n",
       "      <td>0.895154</td>\n",
       "      <td>0.089414</td>\n",
       "      <td>7171695</td>\n",
       "    </tr>\n",
       "    <tr>\n",
       "      <th>...</th>\n",
       "      <td>...</td>\n",
       "      <td>...</td>\n",
       "      <td>...</td>\n",
       "      <td>...</td>\n",
       "    </tr>\n",
       "    <tr>\n",
       "      <th>74654</th>\n",
       "      <td>0.171891</td>\n",
       "      <td>0.489700</td>\n",
       "      <td>0.338409</td>\n",
       "      <td>6928108</td>\n",
       "    </tr>\n",
       "    <tr>\n",
       "      <th>74655</th>\n",
       "      <td>0.039710</td>\n",
       "      <td>0.720032</td>\n",
       "      <td>0.240258</td>\n",
       "      <td>6906674</td>\n",
       "    </tr>\n",
       "    <tr>\n",
       "      <th>74656</th>\n",
       "      <td>0.049098</td>\n",
       "      <td>0.792188</td>\n",
       "      <td>0.158714</td>\n",
       "      <td>6897967</td>\n",
       "    </tr>\n",
       "    <tr>\n",
       "      <th>74657</th>\n",
       "      <td>0.001678</td>\n",
       "      <td>0.956046</td>\n",
       "      <td>0.042275</td>\n",
       "      <td>6842183</td>\n",
       "    </tr>\n",
       "    <tr>\n",
       "      <th>74658</th>\n",
       "      <td>0.058683</td>\n",
       "      <td>0.580539</td>\n",
       "      <td>0.360778</td>\n",
       "      <td>6889319</td>\n",
       "    </tr>\n",
       "  </tbody>\n",
       "</table>\n",
       "<p>74659 rows × 4 columns</p>\n",
       "</div>"
      ],
      "text/plain": [
       "           high       low    medium  listing_id\n",
       "0      0.089101  0.636879  0.274019     7142618\n",
       "1      0.265800  0.355443  0.378758     7210040\n",
       "2      0.097313  0.634431  0.268256     7174566\n",
       "3      0.272991  0.368352  0.358656     7191391\n",
       "4      0.015431  0.895154  0.089414     7171695\n",
       "...         ...       ...       ...         ...\n",
       "74654  0.171891  0.489700  0.338409     6928108\n",
       "74655  0.039710  0.720032  0.240258     6906674\n",
       "74656  0.049098  0.792188  0.158714     6897967\n",
       "74657  0.001678  0.956046  0.042275     6842183\n",
       "74658  0.058683  0.580539  0.360778     6889319\n",
       "\n",
       "[74659 rows x 4 columns]"
      ]
     },
     "execution_count": 38,
     "metadata": {},
     "output_type": "execute_result"
    }
   ],
   "source": [
    "preds = model.predict_proba(X_test)\n",
    "out_df = pd.DataFrame(preds)\n",
    "out_df.columns = le.classes_\n",
    "out_df[\"listing_id\"] = testData.listing_id.values\n",
    "out_df.to_csv(\"RandomForests-2.csv\", index=False)\n",
    "out_df\n",
    "\n",
    "#evaluation from Kaggle: 0.64 (improved)"
   ]
  },
  {
   "cell_type": "markdown",
   "metadata": {},
   "source": [
    "### Accuracy Score"
   ]
  },
  {
   "cell_type": "code",
   "execution_count": 52,
   "metadata": {},
   "outputs": [
    {
     "data": {
      "text/plain": [
       "0.6828060541581056"
      ]
     },
     "execution_count": 52,
     "metadata": {},
     "output_type": "execute_result"
    }
   ],
   "source": [
    "model = RandomForestClassifier(n_estimators=100, max_depth=None, max_features=None, min_samples_leaf=10, min_samples_split=2)\n",
    "\n",
    "acc_scores = []\n",
    "kf = StratifiedKFold(n_splits=5)\n",
    "\n",
    "for train_index, val_index in kf.split(X, y):\n",
    "    train_X, val_X = X.iloc[train_index,:], X.iloc[val_index,:]\n",
    "    train_y, val_y = y[train_index], y[val_index]\n",
    "    model.fit(train_X, train_y)\n",
    "    val_y_pred = model.predict(val_X)\n",
    "    score = metrics.accuracy_score(val_y, val_y_pred)\n",
    "    acc_scores.append(score)\n",
    "    \n",
    "np.mean(acc_scores)"
   ]
  }
 ],
 "metadata": {
  "kernelspec": {
   "display_name": "Python 3",
   "language": "python",
   "name": "python3"
  },
  "language_info": {
   "codemirror_mode": {
    "name": "ipython",
    "version": 3
   },
   "file_extension": ".py",
   "mimetype": "text/x-python",
   "name": "python",
   "nbconvert_exporter": "python",
   "pygments_lexer": "ipython3",
   "version": "3.7.6"
  }
 },
 "nbformat": 4,
 "nbformat_minor": 4
}
